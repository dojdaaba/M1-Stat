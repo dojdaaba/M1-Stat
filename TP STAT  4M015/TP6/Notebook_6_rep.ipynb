{
 "cells": [
  {
   "cell_type": "markdown",
   "metadata": {},
   "source": [
    "# Notebook6 Jafuno Douba\n",
    "\n",
    "# Exercice 1"
   ]
  },
  {
   "cell_type": "code",
   "execution_count": 1,
   "metadata": {},
   "outputs": [],
   "source": [
    "rttrans <- function(n, q, theta){\n",
    "  obs <- rt(n, q) + theta\n",
    "  return(obs)\n",
    "}"
   ]
  },
  {
   "cell_type": "markdown",
   "metadata": {},
   "source": [
    "Essayons la fonction **rrtrans**"
   ]
  },
  {
   "cell_type": "code",
   "execution_count": 2,
   "metadata": {},
   "outputs": [],
   "source": [
    "rttrans(10, 10, 10)\n",
    "rttrans(5, 1, -2)"
   ]
  },
  {
   "cell_type": "markdown",
   "metadata": {},
   "source": [
    "# Exercice 2"
   ]
  },
  {
   "cell_type": "code",
   "execution_count": 3,
   "metadata": {},
   "outputs": [],
   "source": [
    "moy_student <- function(n, q, theta, K){\n",
    "  moy <- 1:K\n",
    "  for (k in 1:K){\n",
    "    obs <- rttrans(n, q, theta)\n",
    "    moy[k] <- mean(obs)}\n",
    "  return(moy)\n",
    "}"
   ]
  },
  {
   "cell_type": "markdown",
   "metadata": {},
   "source": [
    "# Exercice 3"
   ]
  },
  {
   "cell_type": "code",
   "execution_count": 4,
   "metadata": {},
   "outputs": [],
   "source": [
    "risque <- function(theta, hat.theta){\n",
    "  risk <- mean((hat.theta - theta)^2)\n",
    "  return(risk)\n",
    "}"
   ]
  },
  {
   "cell_type": "markdown",
   "metadata": {},
   "source": [
    "# Exercice 4\n",
    "\n",
    "## Question 1"
   ]
  },
  {
   "cell_type": "code",
   "execution_count": 5,
   "metadata": {},
   "outputs": [],
   "source": [
    "n <- 50\n",
    "q <- 5\n",
    "theta <- 0\n",
    "\n",
    "risque(theta, moy_student(n, q, theta, 10))\n",
    "risque(theta, moy_student(n, q, theta, 100))\n",
    "risque(theta, moy_student(n, q, theta, 1000))\n",
    "risque(theta, moy_student(n, q, theta, 10000))"
   ]
  },
  {
   "cell_type": "markdown",
   "metadata": {},
   "source": [
    "En executant chaque ligne plusieurs fois, on choisit d'utiliser désormais $K=10000$.  Définissons $K=1000$ comme valeur par défaut dans la fonction **moy_student** :"
   ]
  },
  {
   "cell_type": "code",
   "execution_count": 6,
   "metadata": {},
   "outputs": [],
   "source": [
    "moy_student <- function(n, q, theta, K = 10000){\n",
    "  moy <- 1:K\n",
    "  for (k in 1:K){\n",
    "    obs <- rttrans(n, q, theta)\n",
    "    moy[k] <- mean(obs)}\n",
    "  return(moy)\n",
    "}"
   ]
  },
  {
   "cell_type": "markdown",
   "metadata": {},
   "source": [
    "## Question 2"
   ]
  },
  {
   "cell_type": "code",
   "execution_count": 7,
   "metadata": {},
   "outputs": [
    {
     "data": {
      "text/html": [
       "<ol class=list-inline>\n",
       "\t<li>0.16518213033606</li>\n",
       "\t<li>0.0337937527142374</li>\n",
       "\t<li>0.0167740153052574</li>\n",
       "\t<li>0.00833281538153008</li>\n",
       "\t<li>0.00164375207009727</li>\n",
       "</ol>\n"
      ],
      "text/latex": [
       "\\begin{enumerate*}\n",
       "\\item 0.16518213033606\n",
       "\\item 0.0337937527142374\n",
       "\\item 0.0167740153052574\n",
       "\\item 0.00833281538153008\n",
       "\\item 0.00164375207009727\n",
       "\\end{enumerate*}\n"
      ],
      "text/markdown": [
       "1. 0.16518213033606\n",
       "2. 0.0337937527142374\n",
       "3. 0.0167740153052574\n",
       "4. 0.00833281538153008\n",
       "5. 0.00164375207009727\n",
       "\n",
       "\n"
      ],
      "text/plain": [
       "[1] 0.165182130 0.033793753 0.016774015 0.008332815 0.001643752"
      ]
     },
     "metadata": {},
     "output_type": "display_data"
    },
    {
     "data": {
      "image/png": "[encoded data removed]",
      "text/plain": [
       "Plot with title \"Taille d'echantillon n\""
      ]
     },
     "metadata": {},
     "output_type": "display_data"
    }
   ],
   "source": [
    "q <- 5\n",
    "theta <- 0\n",
    "res <- data.frame(1:10000)\n",
    "vec_n <- c(10, 50, 100, 200, 1000)\n",
    "risque_n <- 1:length(vec_n)\n",
    "for (j in 1:length(vec_n)){\n",
    "  n <- vec_n[j]\n",
    "  hat.theta <- moy_student(n, q, theta)\n",
    "  res[, j] <- hat.theta\n",
    "  risque_n[j] <- risque(theta, hat.theta)\n",
    "}\n",
    "boxplot(res, names=as.character(vec_n), main=\"Taille d'echantillon n\")\n",
    "risque_n "
   ]
  },
  {
   "cell_type": "markdown",
   "metadata": {},
   "source": [
    "On observe bien la convergence de la moyenne empirique vers $\\theta$ lorsque $n$ tend vers l'infini. Les valeurs décroissantes du risque quadratique indiquent la même chose. \n",
    "\n",
    "Par ailleurs, on observe que la vitesse de convergence du risque est bien en $1/n$. (Quand on passe de $n=10$ à $n=100$ ou de $n=100$ à $n=1000$, le risque est divisé par 10.)\n",
    "\n",
    "## Question 3"
   ]
  },
  {
   "cell_type": "code",
   "execution_count": 8,
   "metadata": {},
   "outputs": [
    {
     "data": {
      "text/html": [
       "<ol class=list-inline>\n",
       "\t<li>0.0330008666063855</li>\n",
       "\t<li>0.0324648226923161</li>\n",
       "\t<li>0.033047156463328</li>\n",
       "\t<li>0.0333843417806825</li>\n",
       "</ol>\n"
      ],
      "text/latex": [
       "\\begin{enumerate*}\n",
       "\\item 0.0330008666063855\n",
       "\\item 0.0324648226923161\n",
       "\\item 0.033047156463328\n",
       "\\item 0.0333843417806825\n",
       "\\end{enumerate*}\n"
      ],
      "text/markdown": [
       "1. 0.0330008666063855\n",
       "2. 0.0324648226923161\n",
       "3. 0.033047156463328\n",
       "4. 0.0333843417806825\n",
       "\n",
       "\n"
      ],
      "text/plain": [
       "[1] 0.03300087 0.03246482 0.03304716 0.03338434"
      ]
     },
     "metadata": {},
     "output_type": "display_data"
    },
    {
     "data": {
      "image/png": "[encoded data removed]",
      "text/plain": [
       "Plot with title \"Theta - HatTheta\""
      ]
     },
     "metadata": {},
     "output_type": "display_data"
    }
   ],
   "source": [
    "q <- 5\n",
    "n <- 50\n",
    "res <- data.frame(1:10000)\n",
    "vec_theta <- c(0, 10, 300, -4444)\n",
    "risque_theta <- 1:length(vec_theta)\n",
    "\n",
    "for (j in 1:length(vec_theta)){\n",
    "  theta <- vec_theta[j]\n",
    "  hat.theta <- moy_student(n, q, theta)\n",
    "  res[, j] <- hat.theta - theta\n",
    "  risque_theta[j] <- risque(theta, hat.theta)\n",
    "}\n",
    "boxplot(res, names=as.character(vec_theta), main = \"Theta - HatTheta\")\n",
    "risque_theta"
   ]
  },
  {
   "cell_type": "markdown",
   "metadata": {},
   "source": [
    "Les 4 boxplots sont quasi identiques. Par conséquent, la valeur de $\\theta$ n'influence \n",
    "pas sur la qualité d'estimation par la moyenne empirique. C'est typique pour un paramètre de position.\n",
    "\n",
    "## Question 4"
   ]
  },
  {
   "cell_type": "code",
   "execution_count": 9,
   "metadata": {},
   "outputs": [
    {
     "data": {
      "text/html": [
       "<ol class=list-inline>\n",
       "\t<li>3417.30847874386</li>\n",
       "\t<li>0.234885678565316</li>\n",
       "\t<li>0.0329176781789332</li>\n",
       "\t<li>0.0252603954350556</li>\n",
       "\t<li>0.0207416898736315</li>\n",
       "</ol>\n"
      ],
      "text/latex": [
       "\\begin{enumerate*}\n",
       "\\item 3417.30847874386\n",
       "\\item 0.234885678565316\n",
       "\\item 0.0329176781789332\n",
       "\\item 0.0252603954350556\n",
       "\\item 0.0207416898736315\n",
       "\\end{enumerate*}\n"
      ],
      "text/markdown": [
       "1. 3417.30847874386\n",
       "2. 0.234885678565316\n",
       "3. 0.0329176781789332\n",
       "4. 0.0252603954350556\n",
       "5. 0.0207416898736315\n",
       "\n",
       "\n"
      ],
      "text/plain": [
       "[1] 3.417308e+03 2.348857e-01 3.291768e-02 2.526040e-02 2.074169e-02"
      ]
     },
     "metadata": {},
     "output_type": "display_data"
    },
    {
     "data": {
      "image/png": "[encoded data removed]",
      "text/plain": [
       "Plot with title \"Degre de liberte q\""
      ]
     },
     "metadata": {},
     "output_type": "display_data"
    }
   ],
   "source": [
    "n <- 50\n",
    "theta <- 0\n",
    "res <- data.frame(1:10000)\n",
    "vec_q <- c(1, 2 ,5, 10, 50)\n",
    "risque_q <- 1:length(vec_q)\n",
    "for (j in 1:length(vec_q)){\n",
    "  q <- vec_q[j]\n",
    "  hat.theta <- moy_student(n, q, theta)\n",
    "  res[, j] <- hat.theta\n",
    "  risque_q[j] <- risque(theta, hat.theta)\n",
    "}\n",
    "boxplot(res, names = as.character(vec_q), main = \"Degre de liberte q\")\n",
    "risque_q"
   ]
  },
  {
   "cell_type": "markdown",
   "metadata": {},
   "source": [
    "On observe que l'estimation de theta quand q=1 est catastrophique. L'estimation s'ameliore au fur et à mesure que q augmente. En effet, lorsque $q=1$ la loi de Student n'est pas intégrable. Donc, la moyenne empirique n'est pas consistante. Il se trouve que plus le degré de liberté est grand, plus les queues de la loi de Student sont légères. Il paraît que la moyenne empirique est autant plus performante que les queues de la loi des données sont légères."
   ]
  }
 ],
 "metadata": {
  "kernelspec": {
   "display_name": "R",
   "language": "R",
   "name": "ir"
  },
  "language_info": {
   "codemirror_mode": "r",
   "file_extension": ".r",
   "mimetype": "text/x-r-source",
   "name": "R",
   "pygments_lexer": "r",
   "version": "3.6.1"
  }
 },
 "nbformat": 4,
 "nbformat_minor": 2
}
