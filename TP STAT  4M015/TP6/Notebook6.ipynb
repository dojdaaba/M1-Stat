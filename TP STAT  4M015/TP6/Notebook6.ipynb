{
 "cells": [
  {
   "cell_type": "markdown",
   "metadata": {},
   "source": [
    "# Simulations Monte-Carlo \n",
    "\n",
    "L'objectif de ce TP est l'étude des propriétés d'un estimateur par des simulations.\n",
    "\n",
    "Vous allez vous habituer à programmer des fonctions R. N'hésitez pas à consulter le mini-poly sur la *Programmation en R* disponible sur Moodle si besoin."
   ]
  },
  {
   "cell_type": "markdown",
   "metadata": {},
   "source": [
    "## Modèle statistique\n",
    "\n",
    "Tout au long de ce TP, nous allons considérer le modèle statistique suivant. Soit $X$ la variable aléatoire définie comme\n",
    "$$X=Z+\\theta, \\qquad\\qquad(*)$$\n",
    "où  $\\theta\\in\\mathbb R$ est une constante et $Z$ une variable aléatoire de loi de Student $t_q$ à $q$ degrés de liberté.\n",
    "\n",
    "Nous supposons que $q$ est connu et le paramètre $\\theta$ est inconnu. Le but est l'estimation de $\\theta$ à partir de $n$ copies i.i.d. $(X_1,\\dots,X_n)$ de  $X$.\n",
    " \n",
    "Remarquons qu'il s'agit d'un modèle de translation et  $\\theta$ est un paramètre de position. \n",
    "\n",
    "### Exercice 1\n",
    "\n",
    "1. Ecrire une fonction **rttrans** qui génère un échantillon $(X_1,\\dots,X_n)$  selon le modèle $(*)$. Cette fonction  prend en argument **n** la taille d'échantillon, **q** : le degré de liberté de la loi de Student de $Z$ et **theta** : le paramètre de position $\\theta$. Elle retourne un vecteur de taille **n** avec un échantillon simulé sous le  modèle  $(*)$ avec les paramètres **q** et **theta**. On pourra utiliser la fonction pré-existante **rt** pour générer des réalisations de la loi de Student (centrée).\n",
    "\n",
    "2. Vérifier que votre fonction **rttrans** fonctionne. (Pour cela il faut soit enregistrer et sourcer votre script, soit sélectionner les lignes de votre fonction et les exécuter une fois. Cela crée l'objet **rttrans**  que vous pourrez ensuite utiliser comme toute autre fonction prédéfinie sous **R**.)\n",
    "\n"
   ]
  },
  {
   "cell_type": "markdown",
   "metadata": {},
   "source": [
    "## Moyenne empirique\n",
    "Pour tout $q>1$ la loi de Student $t_q$ est intégrable et donc $X$ l'est aussi vérifiant\n",
    "$\\mathbb E[X]=\\theta$. \n",
    "Par la méthode des moments, on obtient la moyenne empirique $\\bar X_n$ comme  estimateur de $\\theta$.\n",
    "\n",
    "On aimerait étudier la qualité de  cet estimateur en fonction de la taille d'échantillon $n$, la valeur du paramètre $\\theta$ et le degré de liberté $q$.\n",
    "\n"
   ]
  },
  {
   "cell_type": "markdown",
   "metadata": {},
   "source": [
    "### Risque quadratique\n",
    "Rappelons qu'un critère pour évaluer la qualité d'un estimateur $\\hat \\theta$ de $\\theta$ est son risque quadratique définit par\n",
    "$$\\mathcal R(\\hat\\theta,\\theta) = \\mathbb E_{\\theta}\\left[(\\hat\\theta-\\theta)^2\\right].$$\n",
    "\n",
    "Dans notre modèle le risque quadratique de la moyenne empirique $\\bar X_n$ n'est pas explicite, car la loi de la    variable aléatoire $T =(\\bar X_n-\\theta)^2$ est  difficile à déterminer. Nous choisissons alors d'analyser le comportement de $\\bar X_n$  sur des **données simulées**.\n",
    "\n",
    "Plus précisément, l'idée consiste à approcher l'espérance dans la définition du risque quadratique par une moyenne empirique en simulant un grand nombre de réalisations $T_k$  de la    variable  $T=(\\hat\\theta-\\theta)^2$. Comment faire puisque la loi de $T$ étant inconnue ? En fait, l'unique aléa dans $T$ vient de l'échantillon  $(X_1,\\dots,X_n)$, car l'estimateur $\\hat\\theta$ est une fonction mesurable sur l'espace des observations  $(X_1,\\dots,X_n)$. Ainsi, $T=(\\hat\\theta-\\theta)^2= g(X_1,\\dots,X_n)$ pour une fonction mesurable $g$. Par conséquent, on obtient  une réalisation $T_k$ de $T$ :\n",
    "1.  en générant un   échantillon $(x^{(k)}_1,\\dots,x^{(k)}_n)$ (c'est facile avec **rttrans**) et \n",
    "2. en évaluant $g$ en cet échantillon simulé : $T_k = g(x^{(k)}_1,\\dots,x^{(k)}_n).$\n",
    "\n",
    "On répète cette démarche $K$ fois pour créer un échantillon $(T_1,\\dots,T_K)$.\n",
    "Ensuite, il ne reste à calculer la moyenne empirique  $\\bar T_K$ des $(T_1,\\dots,T_K)$ qui est une approximation du risque quadratique. \n",
    "\n",
    "C'est le principe des **simulations dites de Monte Carlo**. Ce procédé est justifié par la loi des grands nombres, car\n",
    "$$\\bar T_k \\stackrel{P}{\\longrightarrow} \\mathcal R(\\hat\\theta,\\theta),\\qquad K\\to\\infty.$$\n",
    "Ainsi, plus le nombre $K$ de réalisations $T_k$ est grand, mieux est l'approximation du risque quadratique $\\mathcal R(\\bar X_n,\\theta)$ par $\\bar T_K$. On appele $\\bar T_k$ le **risque quadratique empirique**.\n"
   ]
  },
  {
   "cell_type": "markdown",
   "metadata": {},
   "source": [
    "### Exercice 2\n",
    "1.  Ecrire une fonction R, nommée **moy_student**, qui prend en argument :\n",
    "    - **n** : la taille d'échantillon,\n",
    "    - **q** : le degré de liberté et\n",
    "    - **theta** : la valeur du paramètre.  \n",
    "La fonction **moy_student** simulera un échantillon $(X_1,\\dots,X_n)$ de taille **n** selon le modèle  $(*)$ avec les paramètres **q** et **theta**. Ensuite, elle calculera la moyenne empirique $\\bar X_n$ qui sera renvoyée en sortie.\n",
    "3. Ajouter dans la  fonction **moy_student** l'argument **K** qui est le nombre d'échantillons à générer et dans le corps de la fonction ajouter une boucle **for** afin de générer pas un, mais **K** échantillons de taille **n**. \n",
    " La fonction renverra un vecteur avec  les **K** moyennes empiriques $\\bar X_n^{(k)}$.\n",
    "\n"
   ]
  },
  {
   "cell_type": "markdown",
   "metadata": {},
   "source": [
    "### Exercice 3\n",
    "Ecrire une fonction nommée **risque** qui prend en argument une valeur **theta** ainsi qu'un vecteur **hat.theta** avec des estimés de **theta**. La fonction renverra le risque quadratique empirique associé.\n",
    "\n",
    "\n"
   ]
  },
  {
   "cell_type": "markdown",
   "metadata": {},
   "source": [
    "\n",
    "\n",
    "### Exercice 4\n",
    "\n",
    "1. Fixons **n=50**, **q=5** et **theta=0**. \n",
    "A partir de quelle valeur de **K** le risque quadratique de $\\bar X_n$ reste relativement stable ? On utilisera cette valeur de **K** pour toutes les simulations suivantes. (Dans la définition de **moy_student** on pourra définir cette valeur comme la valeur par défaut de **K**.)\n",
    "3. Maintenant on veut analyser la performance de l'estimateur $\\bar X_n$ en fonction de la taille d'échantillon $n$.\n",
    "On fixera les paramètres **q=5** et **theta=0**. Ecrire un script qui\n",
    "    - appelle la fonction **moy_student** pour des différentes tailles d'échantillon (on prendra  **n** = 10, 50, 100, 200, 1000),\n",
    "    - on crée un dataframe pour y stocker les estimées $\\bar X_n$ renvoyées par **moy_student**,\n",
    "    - on calcule les risques quadratiques associés pour les  différentes valeurs de **n** et\n",
    "    - on trace les boxplots des estimées $\\bar X_n$ pour les différents **n**.  \n",
    "    Interpréter les résultats.\n",
    "4.  Afin d'analyser maintenant l'impact de la valeur de **theta** sur l'estimateur $\\bar X_n$,  on fixe les paramètres **q=5** et **n=50** et  on applique la même démarche qu'à la question précédente en variant la valeur de **theta** (on peut considérer **theta** = 0, 10, 300, -4444). On calculera alors les différents risques quadratiques, et on tracera les boxplots des différences $\\bar X_n-\\theta$  (au lieu de $\\bar X_n$). Interpréter les résultats.\n",
    "5. Même question pour le degré de liberté **q**. Fixons **n=50** et **theta=0**. Calculer le risque quadratique et tracer le boxplot des $\\bar X_n$ pour les valeurs suivantes de **q** : 1, 2, 5, 10, 50.\n",
    "Qu'observez vous ? Expliquez."
   ]
  }
 ],
 "metadata": {
  "kernelspec": {
   "display_name": "R",
   "language": "R",
   "name": "ir"
  },
  "language_info": {
   "codemirror_mode": "r",
   "file_extension": ".r",
   "mimetype": "text/x-r-source",
   "name": "R",
   "pygments_lexer": "r",
   "version": "3.4.1"
  }
 },
 "nbformat": 4,
 "nbformat_minor": 1
}
