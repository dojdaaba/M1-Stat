{
 "cells": [
  {
   "cell_type": "markdown",
   "metadata": {},
   "source": [
    "# Représentations graphiques des données\n",
    "\n",
    "\n",
    "\n",
    "## Nuages des points et la fonction **plot**\n",
    "\n",
    "La  fonction principale permettant de tracer des graphiques avec R est la fonction **plot**.\n",
    "\n",
    "Elle prend deux vecteurs **x** et **y** en arguments avec les coordonnées des points à tracer.\n",
    "\n",
    "L'option **type** permet d'indiquer à R si il faut tracer un nuage des points (par défaut) ou s'il faut relier les points par une ligne en utilisant **type**='l' (c'est la lettre l et pas le chiffre 1).\n",
    "\n",
    "Reprenons les données **ToothGrowth** :"
   ]
  },
  {
   "cell_type": "code",
   "execution_count": null,
   "metadata": {},
   "outputs": [],
   "source": [
    "library(datasets)\n",
    "head(ToothGrowth)\n",
    "plot(ToothGrowth$len,ToothGrowth$dose)"
   ]
  },
  {
   "cell_type": "code",
   "execution_count": null,
   "metadata": {},
   "outputs": [],
   "source": [
    "len_ord <- sort(ToothGrowth$len)\n",
    "\n",
    "plot(len_ord, len_ord^2,type='l')"
   ]
  },
  {
   "cell_type": "markdown",
   "metadata": {},
   "source": [
    "Les nombreuses options de la fonction **plot** permettent de choisir les propriétés du graphique.  Voici une liste des principales options de  la fonction **plot** :\n",
    "- **col** spécifie la couleur (p.ex. **col='green'** ou **col=3** pour des points/lignes verts)\n",
    "- **pch** permet de jouer sur la forme des points : **pch=0** pour des carreaux, **pch=1** pour des cercles (par défaut),  **pch=2** pour des triangles  etc. \n",
    "- **lty** permet de choisir le type de ligne : par défaut **lty=1** le trait est continu, mais il est aussi possible d'obtenir des tirets (**lty=2**), des pointillés (**lty=3**), etc. \n",
    "- **lwd** permet de régler l'épaisseur du trait\n",
    "- **xlab** et **ylab** permet de définir le nom des axes \n",
    "- **main** permet d'ajouter un titre\n",
    "- **xlim** et **ylim** permet de fixer la limite inférieure et supérieure des axes  "
   ]
  },
  {
   "cell_type": "code",
   "execution_count": null,
   "metadata": {},
   "outputs": [],
   "source": [
    "plot(len_ord, len_ord^2, type = 'l', col = 5, lwd = 3, main = 'en couleur', xlim = c(-20, 35))"
   ]
  },
  {
   "cell_type": "markdown",
   "metadata": {},
   "source": [
    "### Exercice 1\n",
    "\n",
    "Pour les données des cathédrales représenter le nuage des points hauteur et longeur. Ajouter un titre aux axes, jouer avec la couleur et la forme de points."
   ]
  },
  {
   "cell_type": "markdown",
   "metadata": {},
   "source": [
    "Tout appel de la fonction **plot** efface le graphique précédent. Afin de superposer un nuage de points ou une courbe au graphique existant, on   utilise une des fonctions suivantes :\n",
    "-  **points(x,y,...)** pour superposer un nuage de points\n",
    "-  **lines(x,y,...)** pour superposer une nouvelle courbe\n",
    "-  **abline(a,b,...)** pour superposer une droite avec ordonnée à l'origine **a** et pente **b**\n",
    "\n",
    "A la place des trois points **...** on peut préciser les mêmes options graphiques que celles présentées pour la fonction **plot()**. \n",
    "\n"
   ]
  },
  {
   "cell_type": "code",
   "execution_count": null,
   "metadata": {},
   "outputs": [],
   "source": [
    "plot(len_ord, len_ord^2, type = 'l', col = 5, lwd = 3, main = 'en couleur')\n",
    "points(runif(100,0,35), runif(100,0,1000), pch = 8)\n",
    "abline(0, 1000/35, col = 2, lty = 4)"
   ]
  },
  {
   "cell_type": "markdown",
   "metadata": {},
   "source": [
    "### Exercice 2\n",
    "\n",
    "1. Représenter le même nuage des points de la hauteur et longueur des cathédrales en deux couleurs avec une couleur par style. Pour cela on peut d'abord tracer tous les points des cathédrales gothiques en une couleur et ensuite superposer à ce graphique les points des cathédrales romanes en une autre couleur. Rajouter une légende avec la fonction **legend** pour expliquer le code couleur.\n",
    "2. Rajouter la droite de régression $y\\mapsto \\hat a + \\hat{b} x$ au graphique.\n",
    "\n",
    "**Rappel** : dans le modèle linéaire de la régression simple  avec \n",
    "$Y=\\mathbf X\\left(a \\atop b\\right)+\\varepsilon$ où $\\mathbf X=\\left(\\mathbf{1},X\\right)$ et $\\mathbf{1} =(1,\\dots,1)'$ et $X=(X_1,\\dots,X_n)'$ l'estimateur par la méthode des moindres carrés de $\\left(a \\atop b\\right)$ est donné par\n",
    "$$\\hat b = \\frac{s_{XY}}{s_X^2}\\quad\\text{ et }\\qquad\\hat a= \\bar Y - \\bar X \\hat b,$$ \n",
    "où $s_X^2$ est la variance empirique des $X_i$ et $s_{XY}$ la covariance empirique des $X_i$ et $Y_i$.\n"
   ]
  },
  {
   "cell_type": "markdown",
   "metadata": {},
   "source": [
    "## Histogramme\n",
    "\n",
    "\n",
    "La fonction **hist** est utilisée pour tracer des histogrammes.  Essayons-le :"
   ]
  },
  {
   "cell_type": "code",
   "execution_count": null,
   "metadata": {},
   "outputs": [],
   "source": [
    "hist(ToothGrowth$len)"
   ]
  },
  {
   "cell_type": "markdown",
   "metadata": {},
   "source": [
    "Dans le cours, nous avons défini l'histogramme comme une fonction qui intègre à 1, ce qui n'est visiblement pas le cas de la fonction tracée ci-dessus. En fait, la commande **hist(len)** représente le nombre d'observations (les effectifs) par sous-intervalle. L'option **frequ=FALSE** permet de changer l'échelle afin d'obtenir un histogramme comme défini dans le cours."
   ]
  },
  {
   "cell_type": "code",
   "execution_count": null,
   "metadata": {},
   "outputs": [],
   "source": [
    "hist(ToothGrowth$len, freq = FALSE)"
   ]
  },
  {
   "cell_type": "markdown",
   "metadata": {},
   "source": [
    "L'histogramme est une approximation de la densité de la loi des données. Afin de comparer la distribution des données à une loi théorique, on peut superposer la densité de la loi théorique  à l'histogramme des observations.  Pour \"tester\" si la loi de la longueur de cathédrale est une loi normale, on rajoute la densité de la loi normale de paramètres $\\mu=$ moyenne empirique de la longueur et $\\sigma^2=$ variance empirique de la longueur. Pour cela on utilise la fonction **dnorm** (pour la densité de la loi normale)  et de la fonction **curve** (pour tracer une courbe). \n",
    "\n",
    "\n",
    "\n"
   ]
  },
  {
   "cell_type": "code",
   "execution_count": null,
   "metadata": {},
   "outputs": [],
   "source": [
    "mu <- mean(ToothGrowth$len)\n",
    "sig <- sd(ToothGrowth$len)\n",
    "hist(ToothGrowth$len, freq = FALSE, ylim = c(0, .06), xlim = c(-10, 50))\n",
    "curve(dnorm(x, mu, sig), add = TRUE)"
   ]
  },
  {
   "cell_type": "markdown",
   "metadata": {},
   "source": [
    "L'adéquation entre l'histogramme et la densité n'est pas  bonne. On dirait que la loi de la longueur de cathédrale est moins concentrée autour de la moyenne qu'une loi normale et le \"pic\" de l'histogramme est bien trop large pour une gaussienne.\n"
   ]
  },
  {
   "cell_type": "markdown",
   "metadata": {},
   "source": [
    "La fonction **hist** a d'autres paramètres optionnels qui permettent de paramétrer précisement la forme de l'histogramme, notamment l'option **breaks** pour définir la partition utilisée (voir l'aide pour les détails).\n",
    "\n",
    "### Exercice 3\n",
    "1. Tracer l'histogramme de la variable hauteur de cathédrale.\n",
    "2.  Modifier le nombre de sous-intervalles utilisé pour construire l'histogramme. Tester des différentes tailles de partition. D'après vous, quel est le nombre optimal de sous-intervalles ?\n",
    "3. Essayez également avec sous-intervalles de largeur différente\n",
    "4. Même question pour l'histogramme de la variable longueur.\n",
    "5. Superposer à l'histogramme de la longueur de cathédrale la densité d'une loi normale. Au vu du graphique, semble-t-il envisageable de modéliser la longueur de cathédrale par une loi normale ?\n",
    "\n"
   ]
  },
  {
   "cell_type": "markdown",
   "metadata": {},
   "source": [
    "## Fonction de répartition empirique\n",
    "\n",
    "La fonction **ecdf** calcule la fonction de répartition d'un vecteur d'observations. \n",
    "Pour la tracer, on tape :\n",
    "\n"
   ]
  },
  {
   "cell_type": "code",
   "execution_count": null,
   "metadata": {},
   "outputs": [],
   "source": [
    "Fn <- ecdf(ToothGrowth$len)\n",
    "plot(Fn)"
   ]
  },
  {
   "cell_type": "markdown",
   "metadata": {},
   "source": [
    "### Exercice 4\n",
    "\n",
    "Tracer la fonction de répartion empirique de la hauteur. Rajouter la fonction de répartition de la loi normale de paramètre $\\mu=$ moyenne empirique de la hauteur et $\\sigma^2=$ variance empirique de la hauteur en utilisant la fonction **pnorm**. Commentez le graphique."
   ]
  },
  {
   "cell_type": "markdown",
   "metadata": {},
   "source": [
    "## QQ plot\n",
    "\n",
    "Le QQ-plot est un outil graphique pour comparer la distribution de deux vecteurs. S'ils ont la même distribution, les points s'alignent sur la première bissectrice.  La commande **qqplot(x,y)**  trace le QQ-plot des vecteurs  **x** et  **y**. \n",
    "\n",
    "Pour mieux juger l'adéquation des distributions, on peut rajouter la première bissectrice par la commande **abline(0,1)**\n",
    "  \n"
   ]
  },
  {
   "cell_type": "code",
   "execution_count": null,
   "metadata": {},
   "outputs": [],
   "source": [
    "x <- rnorm(100, 10, 1)\n",
    "y <- runif(60, 6, 14)\n",
    "qqplot(x, y) \n",
    "abline(0, 1)"
   ]
  },
  {
   "cell_type": "markdown",
   "metadata": {},
   "source": [
    "La commande  **qqnorm(x)** trace le QQ-plot qui compare la loi du vecteur **x**  à la loi normale standard $\\mathcal N(0,1)$. Si les points s'alignent sur la première bissectrice, les observations suivent la loi normale $\\mathcal N(0,1)$.\n",
    "\n",
    "Pour vérifier si la loi des observations  appartient à la **famille** de lois normales,  il  est courant de standardiser les données de façon suivante \n",
    "\n",
    "**x.std <- (x-mean(x))/sd(x)**\n",
    "\n",
    "et puis de tracer   le QQ-plot qui compare **x.std** à la loi normale standard  par la commande **qqnorm(x.std)**. Si les points s'alignent sur la première bissectrice, la loi de **x** est (à peu près) normale. \n",
    "\n",
    "### Exercice 5\n",
    "1. Comparer les lois de la hauteur et de la longueur des cathédrales par un QQ-plot.\n",
    "2. Tracer des QQ-plots pour juger si les variables hauteur et longueur suivent une loi normale.\n",
    "\n"
   ]
  },
  {
   "cell_type": "markdown",
   "metadata": {},
   "source": [
    "## Boxplot\n",
    "\n",
    "La commande **boxplot(x)**   trace le boxplot du vecteur  **x**.  Exemple :"
   ]
  },
  {
   "cell_type": "code",
   "execution_count": null,
   "metadata": {},
   "outputs": [],
   "source": [
    "boxplot(ToothGrowth$len)"
   ]
  },
  {
   "cell_type": "markdown",
   "metadata": {},
   "source": [
    "Pour tracer les boxplots de plusieurs variables (par exemple des vecteurs **x** et **y**) côte à côte, on écrit **boxplot(x,y)**.\n",
    "\n",
    "Quand on passe à la fonction  **boxplot**  un tableau en argument,  R  trace un boxplot pour chaque variable (chaque colonne). Parfois des variables qui ne sont pas de type numérique sont automatiquement transformées pour pouvoir tracer un boxplot. Mais attention : ces transformations automatiques n'ont pas toujours beaucoup de sens comme dans l'exemple ci-dessous pour la variable **supp**.\n"
   ]
  },
  {
   "cell_type": "code",
   "execution_count": null,
   "metadata": {},
   "outputs": [],
   "source": [
    "boxplot(ToothGrowth)"
   ]
  },
  {
   "cell_type": "markdown",
   "metadata": {},
   "source": [
    "Souvent on souhaite comparer les boxplots d'une même variable pour des différents sous-groupes. Cela est facile si la variable qui définie les groupes est  de type facteur (**factor**). La commande qui trace  tous les boxplots pour les différents groupes utilise  la fonction **plot**  et elle   est  de la forme\n",
    "\n",
    "**plot(x ~  var.facteur)**\n",
    "\n"
   ]
  },
  {
   "cell_type": "code",
   "execution_count": null,
   "metadata": {},
   "outputs": [],
   "source": [
    "class(ToothGrowth$supp)"
   ]
  },
  {
   "cell_type": "code",
   "execution_count": null,
   "metadata": {},
   "outputs": [],
   "source": [
    "plot(ToothGrowth$len~ToothGrowth$supp)"
   ]
  },
  {
   "cell_type": "code",
   "execution_count": null,
   "metadata": {},
   "outputs": [],
   "source": [
    "boxplot(len~supp, data = ToothGrowth)"
   ]
  },
  {
   "cell_type": "markdown",
   "metadata": {},
   "source": [
    " \n",
    "\n",
    "### Exercice 6\n",
    "1. Tracer les boxplots des variables hauteur, longueur  et rapport longueur/hauteur dans une seule fenêtre et commentez. Utiliser l'option **names** de la fonction **boxplot** afin d'indiquer les noms de variable dans le graphique.\n",
    "2. Vérifier avec la fonction **class** que la variable **style** est de type facteur. Tracer  les boxplots de chacune  des variables hauteur, longueur  et rapport longueur/hauteur   pour les deux styles. Commentez.\n",
    "\n"
   ]
  }
 ],
 "metadata": {
  "kernelspec": {
   "display_name": "R",
   "language": "R",
   "name": "ir"
  },
  "language_info": {
   "codemirror_mode": "r",
   "file_extension": ".r",
   "mimetype": "text/x-r-source",
   "name": "R",
   "pygments_lexer": "r",
   "version": "3.5.0"
  }
 },
 "nbformat": 4,
 "nbformat_minor": 1
}
