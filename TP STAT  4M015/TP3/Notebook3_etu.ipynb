{
 "cells": [
  {
   "cell_type": "markdown",
   "metadata": {},
   "source": [
    "# Tests statistiques\n",
    "\n",
    "##### Aide\n",
    "*Les fonctions ont la syntaxe suivante*"
   ]
  },
  {
   "cell_type": "code",
   "execution_count": 1,
   "metadata": {},
   "outputs": [],
   "source": [
    "function.name <- function(arg1, arg2) {\n",
    "  newVar <- sin(arg1) + sin(arg2)  #corps de la fonction\n",
    "  newVar  #sortie\n",
    "}"
   ]
  },
  {
   "cell_type": "markdown",
   "metadata": {},
   "source": [
    "*Pour créer une fonction, dans **RStudio**, ouvrez un nouveau script dans lequel vous coderez votre fonction et que vous enregistrerez sous le même nom que la fonction : **function_name.R**. Pour pouvoir utiliser la fonction **function_name**, vous devez la rendre disponible dans l'environnement global en l'appelant avec la commande*"
   ]
  },
  {
   "cell_type": "code",
   "execution_count": 2,
   "metadata": {},
   "outputs": [],
   "source": [
    "source(\"function_name.R\")"
   ]
  },
  {
   "cell_type": "markdown",
   "metadata": {},
   "source": [
    "# Tests d'adéquation à une loi \n",
    "\n",
    "## Test de Kolmogorov-Smirnov\n",
    "\n",
    "Le test de Kolmogorov-Smirnov permet de tester l'adéquation à une loi de probabilité continue.\n",
    "\n",
    "Supposons que l'on dispose d'un échantillon $(X_1,\\ldots,X_n)$ de fonction de répartition inconnue $F$ et on note $F_n$ la fonction de répartition empirique associée. \n",
    "\n",
    "Soit $F_0$ une fonction de répartition continue connue. On voudrait tester \n",
    "\n",
    "$$\n",
    "H_0 \\colon F=F_0 \\quad \\text{ contre } \\quad H_1 \\colon F \\neq F_0 \\,.\n",
    "$$\n",
    "\n",
    "On rapelle alors que la statistique de test du test de Kolomogorov-Smirnov est donnée par \n",
    "\n",
    "$$\n",
    "K_n = \\sqrt{n} \\| F_n - F_0 \\|_\\infty\n",
    "$$\n",
    "mais que sous cette forme son calcul peut être très long. D'après le cours, $K_n$ peut être réécrite sous la forme \n",
    "\n",
    "$$\n",
    "K_n = \\sqrt{n} \\max_{1 \\leq j \\leq n} \\left\\{\\max \\left(\\left| F_0(X_{(j)}) - \\frac{j-1}{n}\\right| , \\left| F_0(X_{(j)}) - \\frac{j}{n}\\right|  \\right) \\right\\}\n",
    "$$\n",
    "\n",
    "où $X_{(1)} \\leq \\ldots X_{(n)}$ sont les statistiques d'ordre associées à $(X_1,\\ldots,X_n)$. \n",
    "\n",
    "### Exercice 1\n",
    "Créer une fonction **KStest** qui prend en argument un vecteur $x$ et une fonction $F_0$ et qui retourne la valeur de $K_n$ pour l'échantillon $x$ et la fonction $F_0$\n",
    "\n",
    "### Exercice 2\n",
    "1. Charger le jeu de données **dataKS**\n",
    "2. A l'aide de graphiques, proposer une loi pour ce jeu de données\n",
    "3. Vérfier que vous avez bien codé votre fonction à l'aide de la fonction **ks.test**. Attention, la fontion **ks.test** utilise la statistique $K_n$ sans le facteur $\\sqrt{n}$ (sa distribution est donc différente de celle présentée dans le cours et les p-valeurs sont calculées par simulation).\n",
    "4. Confirmer ou infirmer votre proposition à la question précédente à l'aide de la fonction **ks.test**\n"
   ]
  },
  {
   "cell_type": "markdown",
   "metadata": {},
   "source": [
    "##  Bienvenue chez les Ch'tis \n",
    "\n",
    " \n",
    "\n",
    "Dans un village du Nord de la France, 500 personnes sont allées voir le film \"Bienvenue chez les Ch'tis\" à sa sortie, dont 100 sont retraitées, 50 sont chômeuses, et 350 sont actives. Les impressions à la sortie sont les suivantes  \n",
    "\n",
    "|  .  | Très satisfait | Assez satisfait | Déçu |\n",
    "|-------|------------|----------|------|\n",
    "|Chômeurs| 35|10|5|\n",
    "|Actifs | 90 | 210|50|\n",
    "|Retraités|70|23|7|\n",
    "\n",
    "On se demande si dans ce village, l'opinion sur le film dépend de l'activité.\n",
    "\n",
    "\n",
    "### Exercice 3\n",
    "1. Proposer un test afin de répondre à cette question. \n",
    "1. Effectuer le test \"à la main\" (en recodant la statistique de test) et répondre quant à l'indépendance de l'opinion et de l'activité au niveau 5%.\n",
    "2. Effectuer le test en question à l'aide de la fonction **chisq.test**. Retrouvez-vous bien la même chose ? \n",
    "\n",
    "## Couleur de cheveux\n",
    "\n",
    "Les données suivantes proviennet d'un exemple historique dû à Fisher : il donne la couleur des cheveux de garçons et de filles d'un discrit écossais :\n",
    "\n",
    ".|Blond|Roux|Châtain|Brun|Noir de jais\n",
    "----|----|----|-------|----|---\n",
    "Garçon | 592|119|849|504|36\n",
    "Fille|544|97|677|451|14\n",
    "\n",
    "### Exercice 4\n",
    "1. Saisir les données et à l'aide de la fonction **addmargins**, ajouter les effectifs de chaque ligne et de chaque colonne.\n",
    "2. Visualiser les données sur un graphique.\n",
    "3. La couleur des cheveux est-elle indépendante du sexe ?\n",
    "\n",
    "On s'intéresse maintenant dans un premier temps à la répartition Garçon/Fille chez les individus blonds et dans un second temps, à la répartition des garçons dans les cinq catégories définies par la couleur des cheveux. \n",
    "\n",
    "### Exercice 5\n",
    "1. Tester l'égalité de la proportion de garçons à 50%. Pour cela, il est possible d'utiliser la fonction **binom.test** qui met en oeuvre un test dit \"binomial exact\" faisant intervenir la seule loi binomiale. \n",
    "2. Tester l'égalité des proportions des filles pour les différentes couleurs de cheveux grâce à la fonction **prop.test**"
   ]
  },
  {
   "cell_type": "code",
   "execution_count": null,
   "metadata": {},
   "outputs": [],
   "source": []
  }
 ],
 "metadata": {
  "kernelspec": {
   "display_name": "R",
   "language": "R",
   "name": "ir"
  },
  "language_info": {
   "codemirror_mode": "r",
   "file_extension": ".r",
   "mimetype": "text/x-r-source",
   "name": "R",
   "pygments_lexer": "r",
   "version": "3.6.1"
  }
 },
 "nbformat": 4,
 "nbformat_minor": 2
}
