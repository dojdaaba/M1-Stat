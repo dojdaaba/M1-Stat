{
 "cells": [
  {
   "cell_type": "markdown",
   "metadata": {},
   "source": [
    "# Notebook3 Jafuno Douba\n",
    "\n",
    "## Exercice 1"
   ]
  },
  {
   "cell_type": "raw",
   "metadata": {
    "collapsed": true
   },
   "source": [
    "KStest <- function(x=x, FUN = F0){\n",
    "  x.sort <- sort(x)\n",
    "  n <- length(x)\n",
    "  ind <- 1:n\n",
    "  Kn <- max(abs(FUN(x.sort)-(ind-1)/n), abs(FUN(x.sort)-(ind)/n))\n",
    "  return(Kn)\n",
    "}"
   ]
  },
  {
   "cell_type": "markdown",
   "metadata": {},
   "source": [
    "## Exercice 2\n",
    "### Question 1"
   ]
  },
  {
   "cell_type": "code",
   "execution_count": 1,
   "metadata": {},
   "outputs": [
    {
     "data": {
      "text/html": [
       "<table>\n",
       "<thead><tr><th scope=col>X</th></tr></thead>\n",
       "<tbody>\n",
       "\t<tr><td>0.3724259</td></tr>\n",
       "\t<tr><td>0.3060578</td></tr>\n",
       "\t<tr><td>2.0918769</td></tr>\n",
       "\t<tr><td>0.6831117</td></tr>\n",
       "\t<tr><td>0.9095124</td></tr>\n",
       "\t<tr><td>3.1422800</td></tr>\n",
       "</tbody>\n",
       "</table>\n"
      ],
      "text/latex": [
       "\\begin{tabular}{r|l}\n",
       " X\\\\\n",
       "\\hline\n",
       "\t 0.3724259\\\\\n",
       "\t 0.3060578\\\\\n",
       "\t 2.0918769\\\\\n",
       "\t 0.6831117\\\\\n",
       "\t 0.9095124\\\\\n",
       "\t 3.1422800\\\\\n",
       "\\end{tabular}\n"
      ],
      "text/markdown": [
       "\n",
       "| X |\n",
       "|---|\n",
       "| 0.3724259 |\n",
       "| 0.3060578 |\n",
       "| 2.0918769 |\n",
       "| 0.6831117 |\n",
       "| 0.9095124 |\n",
       "| 3.1422800 |\n",
       "\n"
      ],
      "text/plain": [
       "  X        \n",
       "1 0.3724259\n",
       "2 0.3060578\n",
       "3 2.0918769\n",
       "4 0.6831117\n",
       "5 0.9095124\n",
       "6 3.1422800"
      ]
     },
     "metadata": {},
     "output_type": "display_data"
    }
   ],
   "source": [
    "dataKS <- read.csv(\"dataKS.csv\", row.names=1)\n",
    "head(dataKS)"
   ]
  },
  {
   "cell_type": "markdown",
   "metadata": {},
   "source": [
    "### Question 2"
   ]
  },
  {
   "cell_type": "code",
   "execution_count": 2,
   "metadata": {},
   "outputs": [
    {
     "data": {
      "image/png": "[encoded data removed]",
      "text/plain": [
       "Plot with title \"Exponential Q-Q Plot\""
      ]
     },
     "metadata": {},
     "output_type": "display_data"
    }
   ],
   "source": [
    "p <- ppoints(length(dataKS$X)) # donne des points equi-répartis sur (0,1)  \n",
    "q <- quantile(dataKS$X,p=p) # quantiles empiriques du jeu de données\n",
    "qqplot(qexp(p) ,q, main=\"Exponential Q-Q Plot\",\n",
    "     xlab=\"Theoretical Quantiles\",ylab=\"Sample Quantiles\")\n",
    "qqline(q, distribution=qexp,col=\"blue\", lty=2)"
   ]
  },
  {
   "cell_type": "markdown",
   "metadata": {},
   "source": [
    "La loi exponentielle semble être une loi raisonnable pour le vecteur dataKS.\n",
    "\n",
    "### Question 3\n",
    "On commence par calculer la valeur de la statistique de test à l'aide de notre fonction **KStest**"
   ]
  },
  {
   "cell_type": "code",
   "execution_count": 3,
   "metadata": {},
   "outputs": [
    {
     "data": {
      "text/html": [
       "0.0242921536592833"
      ],
      "text/latex": [
       "0.0242921536592833"
      ],
      "text/markdown": [
       "0.0242921536592833"
      ],
      "text/plain": [
       "[1] 0.02429215"
      ]
     },
     "metadata": {},
     "output_type": "display_data"
    },
    {
     "data": {
      "text/plain": [
       "\n",
       "\tOne-sample Kolmogorov-Smirnov test\n",
       "\n",
       "data:  dataKS$X\n",
       "D = 0.024292, p-value = 0.5967\n",
       "alternative hypothesis: two-sided\n"
      ]
     },
     "metadata": {},
     "output_type": "display_data"
    }
   ],
   "source": [
    "source('KStest.R')\n",
    "KStest(x = dataKS$X, FUN = pexp)\n",
    "\n",
    "ks.test(x=dataKS$X, 'pexp')"
   ]
  },
  {
   "cell_type": "markdown",
   "metadata": {},
   "source": [
    "On retrouve bien la même valeur pour la statistique de test avec les deux fonctions.\n",
    "\n",
    "### Question 4\n",
    "\n",
    "Dans la sortie précédente, la p-value étant égale à 0.5967. On ne peut pas rejeter l'hypothèse selon laquelle le jeu de données dataKS suit une loi exponentielle de paramètre 1. \n",
    "\n",
    "## Exercice 3\n",
    "\n",
    "### Question 1\n",
    "Afin de tester l'indépendance entre l'opinion et l'activité, on propose un test d'indépendance du Khi-Deux dont la statistique de test est donnée par \n",
    "\n",
    "$$\n",
    "D^2(Z) = \\sum_{i=1}^k \\sum_{j=1}^\\ell \\frac{\\left(\\tfrac{N_{i,\\bullet} N_{\\bullet,j}}{n} - N_{i,j}\\right)^2}{\\tfrac{N_{i,\\bullet}N_{\\bullet,j}}{n}}\n",
    "$$\n",
    "\n",
    "### Question 2\n",
    "\n",
    "| Très satisfait | Assez satisfait | Déçu\n",
    "---|------------|----------|----\n",
    "Chômeurs| 35|10|5\n",
    "Actifs | 90 | 210|50\n",
    "Retraités|70|23|7"
   ]
  },
  {
   "cell_type": "code",
   "execution_count": 4,
   "metadata": {},
   "outputs": [
    {
     "data": {
      "text/html": [
       "<table>\n",
       "<thead><tr><th></th><th scope=col>Tres satisfait</th><th scope=col>Assez satisfait</th><th scope=col>Decu</th></tr></thead>\n",
       "<tbody>\n",
       "\t<tr><th scope=row>Chomeurs</th><td>35 </td><td> 10</td><td> 5 </td></tr>\n",
       "\t<tr><th scope=row>Actifs</th><td>90 </td><td>210</td><td>50 </td></tr>\n",
       "\t<tr><th scope=row>Retraites</th><td>70 </td><td> 23</td><td> 7 </td></tr>\n",
       "</tbody>\n",
       "</table>\n"
      ],
      "text/latex": [
       "\\begin{tabular}{r|lll}\n",
       "  & Tres satisfait & Assez satisfait & Decu\\\\\n",
       "\\hline\n",
       "\tChomeurs & 35  &  10 &  5 \\\\\n",
       "\tActifs & 90  & 210 & 50 \\\\\n",
       "\tRetraites & 70  &  23 &  7 \\\\\n",
       "\\end{tabular}\n"
      ],
      "text/markdown": [
       "\n",
       "| <!--/--> | Tres satisfait | Assez satisfait | Decu |\n",
       "|---|---|---|---|\n",
       "| Chomeurs | 35  |  10 |  5  |\n",
       "| Actifs | 90  | 210 | 50  |\n",
       "| Retraites | 70  |  23 |  7  |\n",
       "\n"
      ],
      "text/plain": [
       "          Tres satisfait Assez satisfait Decu\n",
       "Chomeurs  35              10              5  \n",
       "Actifs    90             210             50  \n",
       "Retraites 70              23              7  "
      ]
     },
     "metadata": {},
     "output_type": "display_data"
    }
   ],
   "source": [
    "tab <- matrix(c(35, 10, 5, 90, 210, 50, 70, 23, 7), ncol = 3, byrow = T)\n",
    "rownames(tab) <- c(\"Chomeurs\", \"Actifs\", \"Retraites\")\n",
    "colnames(tab) <- c(\"Tres satisfait\", \"Assez satisfait\", \"Decu\")\n",
    "tab"
   ]
  },
  {
   "cell_type": "code",
   "execution_count": 5,
   "metadata": {},
   "outputs": [
    {
     "data": {
      "text/html": [
       "<table>\n",
       "<tbody>\n",
       "\t<tr><td> 50</td><td> 50</td><td> 50</td></tr>\n",
       "\t<tr><td>350</td><td>350</td><td>350</td></tr>\n",
       "\t<tr><td>100</td><td>100</td><td>100</td></tr>\n",
       "</tbody>\n",
       "</table>\n"
      ],
      "text/latex": [
       "\\begin{tabular}{lll}\n",
       "\t  50 &  50 &  50\\\\\n",
       "\t 350 & 350 & 350\\\\\n",
       "\t 100 & 100 & 100\\\\\n",
       "\\end{tabular}\n"
      ],
      "text/markdown": [
       "\n",
       "|  50 |  50 |  50 |\n",
       "| 350 | 350 | 350 |\n",
       "| 100 | 100 | 100 |\n",
       "\n"
      ],
      "text/plain": [
       "     [,1] [,2] [,3]\n",
       "[1,]  50   50   50 \n",
       "[2,] 350  350  350 \n",
       "[3,] 100  100  100 "
      ]
     },
     "metadata": {},
     "output_type": "display_data"
    },
    {
     "data": {
      "text/html": [
       "<table>\n",
       "<tbody>\n",
       "\t<tr><td>195</td><td>243</td><td>62 </td></tr>\n",
       "\t<tr><td>195</td><td>243</td><td>62 </td></tr>\n",
       "\t<tr><td>195</td><td>243</td><td>62 </td></tr>\n",
       "</tbody>\n",
       "</table>\n"
      ],
      "text/latex": [
       "\\begin{tabular}{lll}\n",
       "\t 195 & 243 & 62 \\\\\n",
       "\t 195 & 243 & 62 \\\\\n",
       "\t 195 & 243 & 62 \\\\\n",
       "\\end{tabular}\n"
      ],
      "text/markdown": [
       "\n",
       "| 195 | 243 | 62  |\n",
       "| 195 | 243 | 62  |\n",
       "| 195 | 243 | 62  |\n",
       "\n"
      ],
      "text/plain": [
       "     [,1] [,2] [,3]\n",
       "[1,] 195  243  62  \n",
       "[2,] 195  243  62  \n",
       "[3,] 195  243  62  "
      ]
     },
     "metadata": {},
     "output_type": "display_data"
    }
   ],
   "source": [
    "tab1 <- matrix(rep(apply(tab, 1, sum), 3), ncol = 3)\n",
    "tab2 <- matrix(rep(apply(tab, 2, sum), 3), ncol = 3, byrow = T)\n",
    "tab1\n",
    "tab2"
   ]
  },
  {
   "cell_type": "code",
   "execution_count": 6,
   "metadata": {},
   "outputs": [
    {
     "data": {
      "text/html": [
       "FALSE"
      ],
      "text/latex": [
       "FALSE"
      ],
      "text/markdown": [
       "FALSE"
      ],
      "text/plain": [
       "[1] FALSE"
      ]
     },
     "metadata": {},
     "output_type": "display_data"
    }
   ],
   "source": [
    "n <- sum(tab)\n",
    "tab3 <- tab1*tab2/n\n",
    "\n",
    "T <- sum((tab - tab3)^2/tab3)\n",
    "\n",
    "alpha <- 0.05\n",
    "q <- qchisq(1 - alpha, df = 4)\n",
    "\n",
    "T < q"
   ]
  },
  {
   "cell_type": "markdown",
   "metadata": {},
   "source": [
    "La statistique de test n'étant pas plus petite que le quantile d'ordre 0.95 de la loi de $\\chi^2$ à 4 degrés de liberté, on rejette l'hypothèse d'indépendance. \n",
    "### Question 3"
   ]
  },
  {
   "cell_type": "code",
   "execution_count": 7,
   "metadata": {},
   "outputs": [
    {
     "data": {
      "text/plain": [
       "\n",
       "\tPearson's Chi-squared test\n",
       "\n",
       "data:  tab\n",
       "X-squared = 87.649, df = 4, p-value < 2.2e-16\n"
      ]
     },
     "metadata": {},
     "output_type": "display_data"
    }
   ],
   "source": [
    "chisq.test(tab)"
   ]
  },
  {
   "cell_type": "markdown",
   "metadata": {},
   "source": [
    "Nous retrouvons le résultat obtenu à la question précédente. \n",
    "\n",
    "## Exercice 4\n",
    "\n",
    "|Blond|Roux|Châtain|Brun|Noir de jais\n",
    "----|----|----|-------|----|---\n",
    "Garçon | 592|119|849|504|36\n",
    "Fille|544|97|677|451|14\n",
    "\n",
    "### Question 1"
   ]
  },
  {
   "cell_type": "code",
   "execution_count": 8,
   "metadata": {},
   "outputs": [
    {
     "data": {
      "text/html": [
       "<table>\n",
       "<thead><tr><th></th><th scope=col>Blond</th><th scope=col>Roux</th><th scope=col>Chatain</th><th scope=col>Brun</th><th scope=col>Noir</th></tr></thead>\n",
       "<tbody>\n",
       "\t<tr><th scope=row>Garcon</th><td>592</td><td>119</td><td>849</td><td>504</td><td>36 </td></tr>\n",
       "\t<tr><th scope=row>Fille</th><td>544</td><td> 97</td><td>677</td><td>451</td><td>14 </td></tr>\n",
       "</tbody>\n",
       "</table>\n"
      ],
      "text/latex": [
       "\\begin{tabular}{r|lllll}\n",
       "  & Blond & Roux & Chatain & Brun & Noir\\\\\n",
       "\\hline\n",
       "\tGarcon & 592 & 119 & 849 & 504 & 36 \\\\\n",
       "\tFille & 544 &  97 & 677 & 451 & 14 \\\\\n",
       "\\end{tabular}\n"
      ],
      "text/markdown": [
       "\n",
       "| <!--/--> | Blond | Roux | Chatain | Brun | Noir |\n",
       "|---|---|---|---|---|---|\n",
       "| Garcon | 592 | 119 | 849 | 504 | 36  |\n",
       "| Fille | 544 |  97 | 677 | 451 | 14  |\n",
       "\n"
      ],
      "text/plain": [
       "       Blond Roux Chatain Brun Noir\n",
       "Garcon 592   119  849     504  36  \n",
       "Fille  544    97  677     451  14  "
      ]
     },
     "metadata": {},
     "output_type": "display_data"
    }
   ],
   "source": [
    "tab <- matrix(c(592, 119, 849, 504, 36, 544, 97, 677, 451, 14), ncol = 5, byrow = T)\n",
    "rownames(tab) <- c(\"Garcon\", \"Fille\")\n",
    "colnames(tab) <- c(\"Blond\", \"Roux\", \"Chatain\", \"Brun\", \"Noir\")\n",
    "tab"
   ]
  },
  {
   "cell_type": "code",
   "execution_count": 9,
   "metadata": {},
   "outputs": [
    {
     "data": {
      "text/html": [
       "<table>\n",
       "<thead><tr><th></th><th scope=col>Blond</th><th scope=col>Roux</th><th scope=col>Chatain</th><th scope=col>Brun</th><th scope=col>Noir</th><th scope=col>Sum</th></tr></thead>\n",
       "<tbody>\n",
       "\t<tr><th scope=row>Garcon</th><td> 592</td><td>119 </td><td> 849</td><td>504 </td><td>36  </td><td>2100</td></tr>\n",
       "\t<tr><th scope=row>Fille</th><td> 544</td><td> 97 </td><td> 677</td><td>451 </td><td>14  </td><td>1783</td></tr>\n",
       "\t<tr><th scope=row>Sum</th><td>1136</td><td>216 </td><td>1526</td><td>955 </td><td>50  </td><td>3883</td></tr>\n",
       "</tbody>\n",
       "</table>\n"
      ],
      "text/latex": [
       "\\begin{tabular}{r|llllll}\n",
       "  & Blond & Roux & Chatain & Brun & Noir & Sum\\\\\n",
       "\\hline\n",
       "\tGarcon &  592 & 119  &  849 & 504  & 36   & 2100\\\\\n",
       "\tFille &  544 &  97  &  677 & 451  & 14   & 1783\\\\\n",
       "\tSum & 1136 & 216  & 1526 & 955  & 50   & 3883\\\\\n",
       "\\end{tabular}\n"
      ],
      "text/markdown": [
       "\n",
       "| <!--/--> | Blond | Roux | Chatain | Brun | Noir | Sum |\n",
       "|---|---|---|---|---|---|---|\n",
       "| Garcon |  592 | 119  |  849 | 504  | 36   | 2100 |\n",
       "| Fille |  544 |  97  |  677 | 451  | 14   | 1783 |\n",
       "| Sum | 1136 | 216  | 1526 | 955  | 50   | 3883 |\n",
       "\n"
      ],
      "text/plain": [
       "       Blond Roux Chatain Brun Noir Sum \n",
       "Garcon  592  119   849    504  36   2100\n",
       "Fille   544   97   677    451  14   1783\n",
       "Sum    1136  216  1526    955  50   3883"
      ]
     },
     "metadata": {},
     "output_type": "display_data"
    }
   ],
   "source": [
    "tab <- addmargins(tab)\n",
    "tab"
   ]
  },
  {
   "cell_type": "markdown",
   "metadata": {},
   "source": [
    "### Question 2"
   ]
  },
  {
   "cell_type": "code",
   "execution_count": 10,
   "metadata": {},
   "outputs": [
    {
     "data": {
      "image/png": "[encoded data removed]",
      "text/plain": [
       "Plot with title \"Fille\""
      ]
     },
     "metadata": {},
     "output_type": "display_data"
    }
   ],
   "source": [
    "par(mfrow=c(2,1))\n",
    "couleur <- c(\"Gold\",\"OrangeRed\",\"Goldenrod\",\"Brown\",\"Black\") \n",
    "barplot(tab[1,],main=\"Garçon\", col=couleur)\n",
    "barplot(tab[2,],main=\"Fille\", col=couleur)"
   ]
  },
  {
   "cell_type": "markdown",
   "metadata": {},
   "source": [
    "### Question 3"
   ]
  },
  {
   "cell_type": "code",
   "execution_count": 11,
   "metadata": {},
   "outputs": [
    {
     "data": {
      "text/plain": [
       "\n",
       "\tPearson's Chi-squared test\n",
       "\n",
       "data:  tab\n",
       "X-squared = 10.467, df = 10, p-value = 0.4005\n"
      ]
     },
     "metadata": {},
     "output_type": "display_data"
    }
   ],
   "source": [
    "chisq.test(tab)"
   ]
  },
  {
   "cell_type": "markdown",
   "metadata": {},
   "source": [
    "La p-valeur étant égale à 0.03, nous rejettons l'hypothèse d'indépendance aux niveaux 5% et 10% mais pas au niveau 1%.\n",
    "\n",
    "## Exercice 5\n",
    "\n",
    "### Question 1\n",
    "\n",
    "Tester, chez les individus blonds, si la proportion de \n",
    "garçons est égale à 50 % Nous utilisons la fonction **binom.test** en lui donnant comme arguments le nombre de garçons (x=592), la taille de l’échantillon (n=1136), la proportion testée (p=0.5) et choisissons l’hypothèse alternative H1 selon laquelle la proportion de garçons est différente de 50%."
   ]
  },
  {
   "cell_type": "code",
   "execution_count": 12,
   "metadata": {},
   "outputs": [
    {
     "data": {
      "text/plain": [
       "\n",
       "\tExact binomial test\n",
       "\n",
       "data:  592 and 1136\n",
       "number of successes = 592, number of trials = 1136, p-value = 0.1631\n",
       "alternative hypothesis: true probability of success is not equal to 0.5\n",
       "95 percent confidence interval:\n",
       " 0.4916142 0.5505297\n",
       "sample estimates:\n",
       "probability of success \n",
       "             0.5211268 \n"
      ]
     },
     "metadata": {},
     "output_type": "display_data"
    }
   ],
   "source": [
    "binom.test(x=592,n=1136,p=0.5,alternative=\"two.sided\")"
   ]
  },
  {
   "cell_type": "markdown",
   "metadata": {},
   "source": [
    "La p-valeur étant égale 0.1631, nous conservons donc l'hypothèse selon laquelle la proportion de garçons est égale à 50%. \n",
    "\n",
    "### Question 2\n",
    "\n",
    "Tester l’égalité des proportions de filles pour les différentes couleurs de cheveux Ce test peut se faire grâce à la fonction **prop.test**. Lors de son appel, il suffit de fournir une liste avec le nombre de filles pour chaque catégorie puis une liste avec le nombre total d’individus par catégorie :"
   ]
  },
  {
   "cell_type": "code",
   "execution_count": 13,
   "metadata": {},
   "outputs": [
    {
     "data": {
      "text/plain": [
       "\n",
       "\t5-sample test for equality of proportions without continuity\n",
       "\tcorrection\n",
       "\n",
       "data:  c(544, 97, 677, 451, 14) out of c(1136, 216, 1526, 955, 50)\n",
       "X-squared = 10.467, df = 4, p-value = 0.03325\n",
       "alternative hypothesis: two.sided\n",
       "sample estimates:\n",
       "   prop 1    prop 2    prop 3    prop 4    prop 5 \n",
       "0.4788732 0.4490741 0.4436435 0.4722513 0.2800000 \n"
      ]
     },
     "metadata": {},
     "output_type": "display_data"
    }
   ],
   "source": [
    "prop.test(c(544,97,677,451,14),n=c(1136,216,1526,955,50))"
   ]
  },
  {
   "cell_type": "markdown",
   "metadata": {},
   "source": [
    "La p-valeur étant égale à 0.03325, nous rejetons l'hypothèse de l'égalité de la répartition des filles parmi les 5 catégories aux niveaux 1% et 5% mais pas au niveau 10%. "
   ]
  }
 ],
 "metadata": {
  "kernelspec": {
   "display_name": "R",
   "language": "R",
   "name": "ir"
  },
  "language_info": {
   "codemirror_mode": "r",
   "file_extension": ".r",
   "mimetype": "text/x-r-source",
   "name": "R",
   "pygments_lexer": "r",
   "version": "3.6.1"
  }
 },
 "nbformat": 4,
 "nbformat_minor": 2
}
