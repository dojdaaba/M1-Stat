{
 "cells": [
  {
   "cell_type": "markdown",
   "metadata": {},
   "source": [
    "# Notebook1 Jafuno Douba\n",
    "\n",
    "## Exercice 1"
   ]
  },
  {
   "cell_type": "code",
   "execution_count": 1,
   "metadata": {},
   "outputs": [
    {
     "data": {
      "text/html": [
       "<table>\n",
       "<thead><tr><th scope=col>nom</th><th scope=col>style</th><th scope=col>haut</th><th scope=col>long</th></tr></thead>\n",
       "<tbody>\n",
       "\t<tr><td>Bath      </td><td>goth      </td><td>75        </td><td>225       </td></tr>\n",
       "\t<tr><td>Bristol   </td><td>goth      </td><td>52        </td><td>300       </td></tr>\n",
       "\t<tr><td>Canterbury</td><td>rom       </td><td>80        </td><td>522       </td></tr>\n",
       "\t<tr><td>Chichester</td><td>goth      </td><td>62        </td><td>418       </td></tr>\n",
       "\t<tr><td>Durham    </td><td>rom       </td><td>75        </td><td>502       </td></tr>\n",
       "\t<tr><td>Ely       </td><td>rom       </td><td>74        </td><td>547       </td></tr>\n",
       "</tbody>\n",
       "</table>\n"
      ],
      "text/latex": [
       "\\begin{tabular}{r|llll}\n",
       " nom & style & haut & long\\\\\n",
       "\\hline\n",
       "\t Bath       & goth       & 75         & 225       \\\\\n",
       "\t Bristol    & goth       & 52         & 300       \\\\\n",
       "\t Canterbury & rom        & 80         & 522       \\\\\n",
       "\t Chichester & goth       & 62         & 418       \\\\\n",
       "\t Durham     & rom        & 75         & 502       \\\\\n",
       "\t Ely        & rom        & 74         & 547       \\\\\n",
       "\\end{tabular}\n"
      ],
      "text/markdown": [
       "\n",
       "| nom | style | haut | long |\n",
       "|---|---|---|---|\n",
       "| Bath       | goth       | 75         | 225        |\n",
       "| Bristol    | goth       | 52         | 300        |\n",
       "| Canterbury | rom        | 80         | 522        |\n",
       "| Chichester | goth       | 62         | 418        |\n",
       "| Durham     | rom        | 75         | 502        |\n",
       "| Ely        | rom        | 74         | 547        |\n",
       "\n"
      ],
      "text/plain": [
       "  nom        style haut long\n",
       "1 Bath       goth  75   225 \n",
       "2 Bristol    goth  52   300 \n",
       "3 Canterbury rom   80   522 \n",
       "4 Chichester goth  62   418 \n",
       "5 Durham     rom   75   502 \n",
       "6 Ely        rom   74   547 "
      ]
     },
     "metadata": {},
     "output_type": "display_data"
    }
   ],
   "source": [
    "cath <- read.table('cathedral.txt', header = TRUE)\n",
    "head(cath)"
   ]
  },
  {
   "cell_type": "markdown",
   "metadata": {},
   "source": [
    "Nombre de cathédrales sont en style romane "
   ]
  },
  {
   "cell_type": "code",
   "execution_count": 2,
   "metadata": {},
   "outputs": [
    {
     "data": {
      "text/html": [
       "25"
      ],
      "text/latex": [
       "25"
      ],
      "text/markdown": [
       "25"
      ],
      "text/plain": [
       "[1] 25"
      ]
     },
     "metadata": {},
     "output_type": "display_data"
    }
   ],
   "source": [
    "length(cath$style == 'rom')"
   ]
  },
  {
   "cell_type": "markdown",
   "metadata": {},
   "source": [
    "Nom de toutes les cathédrales romaines"
   ]
  },
  {
   "cell_type": "code",
   "execution_count": 3,
   "metadata": {},
   "outputs": [
    {
     "data": {
      "text/html": [
       "<ol class=list-inline>\n",
       "\t<li>Canterbury</li>\n",
       "\t<li>Durham</li>\n",
       "\t<li>Ely</li>\n",
       "\t<li>Gloucester</li>\n",
       "\t<li>Hereford</li>\n",
       "\t<li>Norwich</li>\n",
       "\t<li>Peterborough</li>\n",
       "\t<li>St.Albans</li>\n",
       "\t<li>Winchester</li>\n",
       "</ol>\n",
       "\n",
       "<details>\n",
       "\t<summary style=display:list-item;cursor:pointer>\n",
       "\t\t<strong>Levels</strong>:\n",
       "\t</summary>\n",
       "\t<ol class=list-inline>\n",
       "\t\t<li>'Bath'</li>\n",
       "\t\t<li>'Bristol'</li>\n",
       "\t\t<li>'Canterbury'</li>\n",
       "\t\t<li>'Chichester'</li>\n",
       "\t\t<li>'Durham'</li>\n",
       "\t\t<li>'Ely'</li>\n",
       "\t\t<li>'Exeter'</li>\n",
       "\t\t<li>'Gloucester'</li>\n",
       "\t\t<li>'GloucesterG'</li>\n",
       "\t\t<li>'Hereford'</li>\n",
       "\t\t<li>'Lichfield'</li>\n",
       "\t\t<li>'Lincoln'</li>\n",
       "\t\t<li>'Norwich'</li>\n",
       "\t\t<li>'NorwichG'</li>\n",
       "\t\t<li>'Old.St.Paul'</li>\n",
       "\t\t<li>'Peterborough'</li>\n",
       "\t\t<li>'Ripon'</li>\n",
       "\t\t<li>'Salisbury'</li>\n",
       "\t\t<li>'Southwark'</li>\n",
       "\t\t<li>'St.Albans'</li>\n",
       "\t\t<li>'St.Asaph'</li>\n",
       "\t\t<li>'Wells'</li>\n",
       "\t\t<li>'Winchester'</li>\n",
       "\t\t<li>'WinchesterG'</li>\n",
       "\t\t<li>'York'</li>\n",
       "\t</ol>\n",
       "</details>"
      ],
      "text/latex": [
       "\\begin{enumerate*}\n",
       "\\item Canterbury\n",
       "\\item Durham\n",
       "\\item Ely\n",
       "\\item Gloucester\n",
       "\\item Hereford\n",
       "\\item Norwich\n",
       "\\item Peterborough\n",
       "\\item St.Albans\n",
       "\\item Winchester\n",
       "\\end{enumerate*}\n",
       "\n",
       "\\emph{Levels}: \\begin{enumerate*}\n",
       "\\item 'Bath'\n",
       "\\item 'Bristol'\n",
       "\\item 'Canterbury'\n",
       "\\item 'Chichester'\n",
       "\\item 'Durham'\n",
       "\\item 'Ely'\n",
       "\\item 'Exeter'\n",
       "\\item 'Gloucester'\n",
       "\\item 'GloucesterG'\n",
       "\\item 'Hereford'\n",
       "\\item 'Lichfield'\n",
       "\\item 'Lincoln'\n",
       "\\item 'Norwich'\n",
       "\\item 'NorwichG'\n",
       "\\item 'Old.St.Paul'\n",
       "\\item 'Peterborough'\n",
       "\\item 'Ripon'\n",
       "\\item 'Salisbury'\n",
       "\\item 'Southwark'\n",
       "\\item 'St.Albans'\n",
       "\\item 'St.Asaph'\n",
       "\\item 'Wells'\n",
       "\\item 'Winchester'\n",
       "\\item 'WinchesterG'\n",
       "\\item 'York'\n",
       "\\end{enumerate*}\n"
      ],
      "text/markdown": [
       "1. Canterbury\n",
       "2. Durham\n",
       "3. Ely\n",
       "4. Gloucester\n",
       "5. Hereford\n",
       "6. Norwich\n",
       "7. Peterborough\n",
       "8. St.Albans\n",
       "9. Winchester\n",
       "\n",
       "\n",
       "\n",
       "**Levels**: 1. 'Bath'\n",
       "2. 'Bristol'\n",
       "3. 'Canterbury'\n",
       "4. 'Chichester'\n",
       "5. 'Durham'\n",
       "6. 'Ely'\n",
       "7. 'Exeter'\n",
       "8. 'Gloucester'\n",
       "9. 'GloucesterG'\n",
       "10. 'Hereford'\n",
       "11. 'Lichfield'\n",
       "12. 'Lincoln'\n",
       "13. 'Norwich'\n",
       "14. 'NorwichG'\n",
       "15. 'Old.St.Paul'\n",
       "16. 'Peterborough'\n",
       "17. 'Ripon'\n",
       "18. 'Salisbury'\n",
       "19. 'Southwark'\n",
       "20. 'St.Albans'\n",
       "21. 'St.Asaph'\n",
       "22. 'Wells'\n",
       "23. 'Winchester'\n",
       "24. 'WinchesterG'\n",
       "25. 'York'\n",
       "\n",
       "\n"
      ],
      "text/plain": [
       "[1] Canterbury   Durham       Ely          Gloucester   Hereford    \n",
       "[6] Norwich      Peterborough St.Albans    Winchester  \n",
       "25 Levels: Bath Bristol Canterbury Chichester Durham Ely Exeter ... York"
      ]
     },
     "metadata": {},
     "output_type": "display_data"
    }
   ],
   "source": [
    "cath[cath$style == 'rom', ]$nom"
   ]
  },
  {
   "cell_type": "markdown",
   "metadata": {},
   "source": [
    "Les dimensions de cathédrale dans le tableau sont renseignées en pied. Sachant qu'un pied correspond à 0,3048 mètres, transformation les dimensions en mètres. Il suffit de multiplier les colonnes 'long' et 'haut' par 0,3048. De façon générale, il est préférable de ne pas toucher au jeu de données initial, on crée donc des nouvelles colonnes. "
   ]
  },
  {
   "cell_type": "code",
   "execution_count": 4,
   "metadata": {},
   "outputs": [
    {
     "data": {
      "text/html": [
       "<table>\n",
       "<thead><tr><th scope=col>nom</th><th scope=col>style</th><th scope=col>haut</th><th scope=col>long</th><th scope=col>haut_metre</th><th scope=col>long_metre</th></tr></thead>\n",
       "<tbody>\n",
       "\t<tr><td>Bath      </td><td>goth      </td><td>75        </td><td>225       </td><td>22.8600   </td><td> 68.5800  </td></tr>\n",
       "\t<tr><td>Bristol   </td><td>goth      </td><td>52        </td><td>300       </td><td>15.8496   </td><td> 91.4400  </td></tr>\n",
       "\t<tr><td>Canterbury</td><td>rom       </td><td>80        </td><td>522       </td><td>24.3840   </td><td>159.1056  </td></tr>\n",
       "\t<tr><td>Chichester</td><td>goth      </td><td>62        </td><td>418       </td><td>18.8976   </td><td>127.4064  </td></tr>\n",
       "\t<tr><td>Durham    </td><td>rom       </td><td>75        </td><td>502       </td><td>22.8600   </td><td>153.0096  </td></tr>\n",
       "\t<tr><td>Ely       </td><td>rom       </td><td>74        </td><td>547       </td><td>22.5552   </td><td>166.7256  </td></tr>\n",
       "</tbody>\n",
       "</table>\n"
      ],
      "text/latex": [
       "\\begin{tabular}{r|llllll}\n",
       " nom & style & haut & long & haut\\_metre & long\\_metre\\\\\n",
       "\\hline\n",
       "\t Bath       & goth       & 75         & 225        & 22.8600    &  68.5800  \\\\\n",
       "\t Bristol    & goth       & 52         & 300        & 15.8496    &  91.4400  \\\\\n",
       "\t Canterbury & rom        & 80         & 522        & 24.3840    & 159.1056  \\\\\n",
       "\t Chichester & goth       & 62         & 418        & 18.8976    & 127.4064  \\\\\n",
       "\t Durham     & rom        & 75         & 502        & 22.8600    & 153.0096  \\\\\n",
       "\t Ely        & rom        & 74         & 547        & 22.5552    & 166.7256  \\\\\n",
       "\\end{tabular}\n"
      ],
      "text/markdown": [
       "\n",
       "| nom | style | haut | long | haut_metre | long_metre |\n",
       "|---|---|---|---|---|---|\n",
       "| Bath       | goth       | 75         | 225        | 22.8600    |  68.5800   |\n",
       "| Bristol    | goth       | 52         | 300        | 15.8496    |  91.4400   |\n",
       "| Canterbury | rom        | 80         | 522        | 24.3840    | 159.1056   |\n",
       "| Chichester | goth       | 62         | 418        | 18.8976    | 127.4064   |\n",
       "| Durham     | rom        | 75         | 502        | 22.8600    | 153.0096   |\n",
       "| Ely        | rom        | 74         | 547        | 22.5552    | 166.7256   |\n",
       "\n"
      ],
      "text/plain": [
       "  nom        style haut long haut_metre long_metre\n",
       "1 Bath       goth  75   225  22.8600     68.5800  \n",
       "2 Bristol    goth  52   300  15.8496     91.4400  \n",
       "3 Canterbury rom   80   522  24.3840    159.1056  \n",
       "4 Chichester goth  62   418  18.8976    127.4064  \n",
       "5 Durham     rom   75   502  22.8600    153.0096  \n",
       "6 Ely        rom   74   547  22.5552    166.7256  "
      ]
     },
     "metadata": {},
     "output_type": "display_data"
    }
   ],
   "source": [
    "cath$haut_metre <- cath$haut*0.3048\n",
    "cath$long_metre <- cath$long*0.3048\n",
    "head(cath)"
   ]
  },
  {
   "cell_type": "markdown",
   "metadata": {},
   "source": [
    "Longueur moyenne des cathédrales"
   ]
  },
  {
   "cell_type": "code",
   "execution_count": 5,
   "metadata": {},
   "outputs": [
    {
     "data": {
      "text/html": [
       "129.686304"
      ],
      "text/latex": [
       "129.686304"
      ],
      "text/markdown": [
       "129.686304"
      ],
      "text/plain": [
       "[1] 129.6863"
      ]
     },
     "metadata": {},
     "output_type": "display_data"
    }
   ],
   "source": [
    "mean(cath$long_metre)"
   ]
  },
  {
   "cell_type": "markdown",
   "metadata": {},
   "source": [
    "Longueur moyenne des cathédrales romanes "
   ]
  },
  {
   "cell_type": "code",
   "execution_count": 6,
   "metadata": {},
   "outputs": [
    {
     "data": {
      "text/html": [
       "144.915466666667"
      ],
      "text/latex": [
       "144.915466666667"
      ],
      "text/markdown": [
       "144.915466666667"
      ],
      "text/plain": [
       "[1] 144.9155"
      ]
     },
     "metadata": {},
     "output_type": "display_data"
    }
   ],
   "source": [
    "mean(cath[cath$style == 'rom', ]$long_metre)"
   ]
  },
  {
   "cell_type": "markdown",
   "metadata": {},
   "source": [
    "Cathédrales dont la nef est plus haute que 22 mètres."
   ]
  },
  {
   "cell_type": "code",
   "execution_count": 7,
   "metadata": {},
   "outputs": [
    {
     "data": {
      "text/html": [
       "<table>\n",
       "<thead><tr><th></th><th scope=col>nom</th><th scope=col>style</th><th scope=col>haut</th><th scope=col>long</th><th scope=col>haut_metre</th><th scope=col>long_metre</th></tr></thead>\n",
       "<tbody>\n",
       "\t<tr><th scope=row>1</th><td>Bath        </td><td>goth        </td><td> 75         </td><td>225         </td><td>22.8600     </td><td> 68.5800    </td></tr>\n",
       "\t<tr><th scope=row>3</th><td>Canterbury  </td><td>rom         </td><td> 80         </td><td>522         </td><td>24.3840     </td><td>159.1056    </td></tr>\n",
       "\t<tr><th scope=row>5</th><td>Durham      </td><td>rom         </td><td> 75         </td><td>502         </td><td>22.8600     </td><td>153.0096    </td></tr>\n",
       "\t<tr><th scope=row>6</th><td>Ely         </td><td>rom         </td><td> 74         </td><td>547         </td><td>22.5552     </td><td>166.7256    </td></tr>\n",
       "\t<tr><th scope=row>9</th><td>GloucesterG </td><td>goth        </td><td> 86         </td><td>425         </td><td>26.2128     </td><td>129.5400    </td></tr>\n",
       "\t<tr><th scope=row>12</th><td>Lincoln     </td><td>goth        </td><td> 82         </td><td>506         </td><td>24.9936     </td><td>154.2288    </td></tr>\n",
       "\t<tr><th scope=row>13</th><td>Norwich     </td><td>rom         </td><td> 83         </td><td>407         </td><td>25.2984     </td><td>124.0536    </td></tr>\n",
       "\t<tr><th scope=row>15</th><td>Old.St.Paul </td><td>goth        </td><td>103         </td><td>611         </td><td>31.3944     </td><td>186.2328    </td></tr>\n",
       "\t<tr><th scope=row>16</th><td>Peterborough</td><td>rom         </td><td> 80         </td><td>451         </td><td>24.3840     </td><td>137.4648    </td></tr>\n",
       "\t<tr><th scope=row>17</th><td>Ripon       </td><td>goth        </td><td> 88         </td><td>295         </td><td>26.8224     </td><td> 89.9160    </td></tr>\n",
       "\t<tr><th scope=row>18</th><td>Salisbury   </td><td>goth        </td><td> 84         </td><td>473         </td><td>25.6032     </td><td>144.1704    </td></tr>\n",
       "\t<tr><th scope=row>23</th><td>Winchester  </td><td>rom         </td><td> 76         </td><td>530         </td><td>23.1648     </td><td>161.5440    </td></tr>\n",
       "\t<tr><th scope=row>24</th><td>WinchesterG </td><td>goth        </td><td>103         </td><td>530         </td><td>31.3944     </td><td>161.5440    </td></tr>\n",
       "\t<tr><th scope=row>25</th><td>York        </td><td>goth        </td><td>100         </td><td>519         </td><td>30.4800     </td><td>158.1912    </td></tr>\n",
       "</tbody>\n",
       "</table>\n"
      ],
      "text/latex": [
       "\\begin{tabular}{r|llllll}\n",
       "  & nom & style & haut & long & haut\\_metre & long\\_metre\\\\\n",
       "\\hline\n",
       "\t1 & Bath         & goth         &  75          & 225          & 22.8600      &  68.5800    \\\\\n",
       "\t3 & Canterbury   & rom          &  80          & 522          & 24.3840      & 159.1056    \\\\\n",
       "\t5 & Durham       & rom          &  75          & 502          & 22.8600      & 153.0096    \\\\\n",
       "\t6 & Ely          & rom          &  74          & 547          & 22.5552      & 166.7256    \\\\\n",
       "\t9 & GloucesterG  & goth         &  86          & 425          & 26.2128      & 129.5400    \\\\\n",
       "\t12 & Lincoln      & goth         &  82          & 506          & 24.9936      & 154.2288    \\\\\n",
       "\t13 & Norwich      & rom          &  83          & 407          & 25.2984      & 124.0536    \\\\\n",
       "\t15 & Old.St.Paul  & goth         & 103          & 611          & 31.3944      & 186.2328    \\\\\n",
       "\t16 & Peterborough & rom          &  80          & 451          & 24.3840      & 137.4648    \\\\\n",
       "\t17 & Ripon        & goth         &  88          & 295          & 26.8224      &  89.9160    \\\\\n",
       "\t18 & Salisbury    & goth         &  84          & 473          & 25.6032      & 144.1704    \\\\\n",
       "\t23 & Winchester   & rom          &  76          & 530          & 23.1648      & 161.5440    \\\\\n",
       "\t24 & WinchesterG  & goth         & 103          & 530          & 31.3944      & 161.5440    \\\\\n",
       "\t25 & York         & goth         & 100          & 519          & 30.4800      & 158.1912    \\\\\n",
       "\\end{tabular}\n"
      ],
      "text/markdown": [
       "\n",
       "| <!--/--> | nom | style | haut | long | haut_metre | long_metre |\n",
       "|---|---|---|---|---|---|---|\n",
       "| 1 | Bath         | goth         |  75          | 225          | 22.8600      |  68.5800     |\n",
       "| 3 | Canterbury   | rom          |  80          | 522          | 24.3840      | 159.1056     |\n",
       "| 5 | Durham       | rom          |  75          | 502          | 22.8600      | 153.0096     |\n",
       "| 6 | Ely          | rom          |  74          | 547          | 22.5552      | 166.7256     |\n",
       "| 9 | GloucesterG  | goth         |  86          | 425          | 26.2128      | 129.5400     |\n",
       "| 12 | Lincoln      | goth         |  82          | 506          | 24.9936      | 154.2288     |\n",
       "| 13 | Norwich      | rom          |  83          | 407          | 25.2984      | 124.0536     |\n",
       "| 15 | Old.St.Paul  | goth         | 103          | 611          | 31.3944      | 186.2328     |\n",
       "| 16 | Peterborough | rom          |  80          | 451          | 24.3840      | 137.4648     |\n",
       "| 17 | Ripon        | goth         |  88          | 295          | 26.8224      |  89.9160     |\n",
       "| 18 | Salisbury    | goth         |  84          | 473          | 25.6032      | 144.1704     |\n",
       "| 23 | Winchester   | rom          |  76          | 530          | 23.1648      | 161.5440     |\n",
       "| 24 | WinchesterG  | goth         | 103          | 530          | 31.3944      | 161.5440     |\n",
       "| 25 | York         | goth         | 100          | 519          | 30.4800      | 158.1912     |\n",
       "\n"
      ],
      "text/plain": [
       "   nom          style haut long haut_metre long_metre\n",
       "1  Bath         goth   75  225  22.8600     68.5800  \n",
       "3  Canterbury   rom    80  522  24.3840    159.1056  \n",
       "5  Durham       rom    75  502  22.8600    153.0096  \n",
       "6  Ely          rom    74  547  22.5552    166.7256  \n",
       "9  GloucesterG  goth   86  425  26.2128    129.5400  \n",
       "12 Lincoln      goth   82  506  24.9936    154.2288  \n",
       "13 Norwich      rom    83  407  25.2984    124.0536  \n",
       "15 Old.St.Paul  goth  103  611  31.3944    186.2328  \n",
       "16 Peterborough rom    80  451  24.3840    137.4648  \n",
       "17 Ripon        goth   88  295  26.8224     89.9160  \n",
       "18 Salisbury    goth   84  473  25.6032    144.1704  \n",
       "23 Winchester   rom    76  530  23.1648    161.5440  \n",
       "24 WinchesterG  goth  103  530  31.3944    161.5440  \n",
       "25 York         goth  100  519  30.4800    158.1912  "
      ]
     },
     "metadata": {},
     "output_type": "display_data"
    }
   ],
   "source": [
    "cath[cath$haut_metre > 22, ]"
   ]
  },
  {
   "cell_type": "markdown",
   "metadata": {},
   "source": [
    "Colonne  rapport longueur/hauteur."
   ]
  },
  {
   "cell_type": "code",
   "execution_count": 8,
   "metadata": {},
   "outputs": [
    {
     "data": {
      "text/html": [
       "<table>\n",
       "<thead><tr><th scope=col>nom</th><th scope=col>style</th><th scope=col>haut</th><th scope=col>long</th><th scope=col>haut_metre</th><th scope=col>long_metre</th><th scope=col>rapport</th></tr></thead>\n",
       "<tbody>\n",
       "\t<tr><td>Bath      </td><td>goth      </td><td>75        </td><td>225       </td><td>22.8600   </td><td> 68.5800  </td><td>3.000000  </td></tr>\n",
       "\t<tr><td>Bristol   </td><td>goth      </td><td>52        </td><td>300       </td><td>15.8496   </td><td> 91.4400  </td><td>5.769231  </td></tr>\n",
       "\t<tr><td>Canterbury</td><td>rom       </td><td>80        </td><td>522       </td><td>24.3840   </td><td>159.1056  </td><td>6.525000  </td></tr>\n",
       "\t<tr><td>Chichester</td><td>goth      </td><td>62        </td><td>418       </td><td>18.8976   </td><td>127.4064  </td><td>6.741935  </td></tr>\n",
       "\t<tr><td>Durham    </td><td>rom       </td><td>75        </td><td>502       </td><td>22.8600   </td><td>153.0096  </td><td>6.693333  </td></tr>\n",
       "\t<tr><td>Ely       </td><td>rom       </td><td>74        </td><td>547       </td><td>22.5552   </td><td>166.7256  </td><td>7.391892  </td></tr>\n",
       "</tbody>\n",
       "</table>\n"
      ],
      "text/latex": [
       "\\begin{tabular}{r|lllllll}\n",
       " nom & style & haut & long & haut\\_metre & long\\_metre & rapport\\\\\n",
       "\\hline\n",
       "\t Bath       & goth       & 75         & 225        & 22.8600    &  68.5800   & 3.000000  \\\\\n",
       "\t Bristol    & goth       & 52         & 300        & 15.8496    &  91.4400   & 5.769231  \\\\\n",
       "\t Canterbury & rom        & 80         & 522        & 24.3840    & 159.1056   & 6.525000  \\\\\n",
       "\t Chichester & goth       & 62         & 418        & 18.8976    & 127.4064   & 6.741935  \\\\\n",
       "\t Durham     & rom        & 75         & 502        & 22.8600    & 153.0096   & 6.693333  \\\\\n",
       "\t Ely        & rom        & 74         & 547        & 22.5552    & 166.7256   & 7.391892  \\\\\n",
       "\\end{tabular}\n"
      ],
      "text/markdown": [
       "\n",
       "| nom | style | haut | long | haut_metre | long_metre | rapport |\n",
       "|---|---|---|---|---|---|---|\n",
       "| Bath       | goth       | 75         | 225        | 22.8600    |  68.5800   | 3.000000   |\n",
       "| Bristol    | goth       | 52         | 300        | 15.8496    |  91.4400   | 5.769231   |\n",
       "| Canterbury | rom        | 80         | 522        | 24.3840    | 159.1056   | 6.525000   |\n",
       "| Chichester | goth       | 62         | 418        | 18.8976    | 127.4064   | 6.741935   |\n",
       "| Durham     | rom        | 75         | 502        | 22.8600    | 153.0096   | 6.693333   |\n",
       "| Ely        | rom        | 74         | 547        | 22.5552    | 166.7256   | 7.391892   |\n",
       "\n"
      ],
      "text/plain": [
       "  nom        style haut long haut_metre long_metre rapport \n",
       "1 Bath       goth  75   225  22.8600     68.5800   3.000000\n",
       "2 Bristol    goth  52   300  15.8496     91.4400   5.769231\n",
       "3 Canterbury rom   80   522  24.3840    159.1056   6.525000\n",
       "4 Chichester goth  62   418  18.8976    127.4064   6.741935\n",
       "5 Durham     rom   75   502  22.8600    153.0096   6.693333\n",
       "6 Ely        rom   74   547  22.5552    166.7256   7.391892"
      ]
     },
     "metadata": {},
     "output_type": "display_data"
    }
   ],
   "source": [
    "cath$rapport <- cath$long_metre/cath$haut_metre\n",
    "head(cath)"
   ]
  },
  {
   "cell_type": "markdown",
   "metadata": {},
   "source": [
    "Application de la fonction **summary** au tableau"
   ]
  },
  {
   "cell_type": "code",
   "execution_count": 9,
   "metadata": {},
   "outputs": [
    {
     "data": {
      "text/plain": [
       "         nom      style         haut             long         haut_metre   \n",
       " Bath      : 1   goth:16   Min.   : 45.00   Min.   :182.0   Min.   :13.72  \n",
       " Bristol   : 1   rom : 9   1st Qu.: 67.00   1st Qu.:370.0   1st Qu.:20.42  \n",
       " Canterbury: 1             Median : 75.00   Median :425.0   Median :22.86  \n",
       " Chichester: 1             Mean   : 74.76   Mean   :425.5   Mean   :22.79  \n",
       " Durham    : 1             3rd Qu.: 83.00   3rd Qu.:519.0   3rd Qu.:25.30  \n",
       " Ely       : 1             Max.   :103.00   Max.   :611.0   Max.   :31.39  \n",
       " (Other)   :19                                                             \n",
       "   long_metre        rapport     \n",
       " Min.   : 55.47   Min.   :3.000  \n",
       " 1st Qu.:112.78   1st Qu.:5.146  \n",
       " Median :129.54   Median :5.769  \n",
       " Mean   :129.69   Mean   :5.714  \n",
       " 3rd Qu.:158.19   3rd Qu.:6.491  \n",
       " Max.   :186.23   Max.   :7.871  \n",
       "                                 "
      ]
     },
     "metadata": {},
     "output_type": "display_data"
    }
   ],
   "source": [
    "summary(cath)"
   ]
  },
  {
   "cell_type": "markdown",
   "metadata": {},
   "source": [
    "La fonction summary calcule quelques caractéristiques pour chaque variable d'un dataframe."
   ]
  },
  {
   "cell_type": "markdown",
   "metadata": {},
   "source": [
    "## Exercice 2\n",
    "\n",
    "La moyenne empirique est un estimateur de la moyenne. Vérifions empiriquement la qualité de cet estimateur par des simulations.\n",
    "\n",
    "Génération d'uun échantillon de taille 20 de la loi $\\mathcal N(10,1)$.\n",
    "Calcul de la moyenne et de la variance empiriques associées \n",
    "Comparaison du résultat à la moyenne et à la variance théoriques.\n",
    "\n",
    "En exécutant ces trois lignes une dizaine de fois, on observe toujours un petit écart pour la moyenne et pour la variance."
   ]
  },
  {
   "cell_type": "code",
   "execution_count": 10,
   "metadata": {},
   "outputs": [
    {
     "data": {
      "text/html": [
       "10.2842840423742"
      ],
      "text/latex": [
       "10.2842840423742"
      ],
      "text/markdown": [
       "10.2842840423742"
      ],
      "text/plain": [
       "[1] 10.28428"
      ]
     },
     "metadata": {},
     "output_type": "display_data"
    },
    {
     "data": {
      "text/html": [
       "0.284284042374154"
      ],
      "text/latex": [
       "0.284284042374154"
      ],
      "text/markdown": [
       "0.284284042374154"
      ],
      "text/plain": [
       "[1] 0.284284"
      ]
     },
     "metadata": {},
     "output_type": "display_data"
    },
    {
     "data": {
      "text/html": [
       "0.701361488163918"
      ],
      "text/latex": [
       "0.701361488163918"
      ],
      "text/markdown": [
       "0.701361488163918"
      ],
      "text/plain": [
       "[1] 0.7013615"
      ]
     },
     "metadata": {},
     "output_type": "display_data"
    },
    {
     "data": {
      "text/html": [
       "-0.298638511836082"
      ],
      "text/latex": [
       "-0.298638511836082"
      ],
      "text/markdown": [
       "-0.298638511836082"
      ],
      "text/plain": [
       "[1] -0.2986385"
      ]
     },
     "metadata": {},
     "output_type": "display_data"
    }
   ],
   "source": [
    "obs <- rnorm(20,10,1)\n",
    "mean(obs)\n",
    "mean(obs)-10\n",
    "\n",
    "var(obs)\n",
    "var(obs)-1"
   ]
  },
  {
   "cell_type": "markdown",
   "metadata": {},
   "source": [
    "Même chose pour la loi normale $\\mathcal N(10,10)$ et des échantillons de taille $20$. Les écarts sont parfois bien plus importants. C'est normal, car la variance des observations est bien plus élevée."
   ]
  },
  {
   "cell_type": "code",
   "execution_count": 11,
   "metadata": {},
   "outputs": [
    {
     "data": {
      "text/html": [
       "9.90268298718329"
      ],
      "text/latex": [
       "9.90268298718329"
      ],
      "text/markdown": [
       "9.90268298718329"
      ],
      "text/plain": [
       "[1] 9.902683"
      ]
     },
     "metadata": {},
     "output_type": "display_data"
    },
    {
     "data": {
      "text/html": [
       "-0.0973170128167116"
      ],
      "text/latex": [
       "-0.0973170128167116"
      ],
      "text/markdown": [
       "-0.0973170128167116"
      ],
      "text/plain": [
       "[1] -0.09731701"
      ]
     },
     "metadata": {},
     "output_type": "display_data"
    },
    {
     "data": {
      "text/html": [
       "11.022295650056"
      ],
      "text/latex": [
       "11.022295650056"
      ],
      "text/markdown": [
       "11.022295650056"
      ],
      "text/plain": [
       "[1] 11.0223"
      ]
     },
     "metadata": {},
     "output_type": "display_data"
    },
    {
     "data": {
      "text/html": [
       "1.02229565005601"
      ],
      "text/latex": [
       "1.02229565005601"
      ],
      "text/markdown": [
       "1.02229565005601"
      ],
      "text/plain": [
       "[1] 1.022296"
      ]
     },
     "metadata": {},
     "output_type": "display_data"
    }
   ],
   "source": [
    "obs <- rnorm(20,10,sqrt(10))\n",
    "mean(obs)\n",
    "mean(obs)-10\n",
    "\n",
    "var(obs)\n",
    "var(obs)-10"
   ]
  },
  {
   "cell_type": "markdown",
   "metadata": {},
   "source": [
    "## Exercice 3\n",
    "Pour tout $k$ dans $\\{1, 10, 100,1000\\}$, génération d'un échantillon de taille $1000$ de la loi de $\\chi^2_k$, et comparation la moyenne empirique associée  à la  moyenne de la loi normale $\\mathcal N(k,2k)$. \n",
    "\n"
   ]
  },
  {
   "cell_type": "code",
   "execution_count": 12,
   "metadata": {},
   "outputs": [
    {
     "data": {
      "text/html": [
       "0.00298162304178473"
      ],
      "text/latex": [
       "0.00298162304178473"
      ],
      "text/markdown": [
       "0.00298162304178473"
      ],
      "text/plain": [
       "[1] 0.002981623"
      ]
     },
     "metadata": {},
     "output_type": "display_data"
    },
    {
     "data": {
      "text/html": [
       "0.123140322863836"
      ],
      "text/latex": [
       "0.123140322863836"
      ],
      "text/markdown": [
       "0.123140322863836"
      ],
      "text/plain": [
       "[1] 0.1231403"
      ]
     },
     "metadata": {},
     "output_type": "display_data"
    },
    {
     "data": {
      "text/html": [
       "0.53459040589965"
      ],
      "text/latex": [
       "0.53459040589965"
      ],
      "text/markdown": [
       "0.53459040589965"
      ],
      "text/plain": [
       "[1] 0.5345904"
      ]
     },
     "metadata": {},
     "output_type": "display_data"
    },
    {
     "data": {
      "text/html": [
       "0.610427285916785"
      ],
      "text/latex": [
       "0.610427285916785"
      ],
      "text/markdown": [
       "0.610427285916785"
      ],
      "text/plain": [
       "[1] 0.6104273"
      ]
     },
     "metadata": {},
     "output_type": "display_data"
    }
   ],
   "source": [
    "n <- 1000\n",
    "k <- 1\n",
    "obs <- rchisq(n,k)\n",
    "mean(obs) - k\n",
    "\n",
    "k <- 10\n",
    "obs <- rchisq(n,k)\n",
    "mean(obs) - k\n",
    "\n",
    "k <- 100\n",
    "obs <- rchisq(n,k)\n",
    "mean(obs) - k\n",
    "\n",
    "k <- 1000\n",
    "obs <- rchisq(n,k)\n",
    "mean(obs) - k"
   ]
  },
  {
   "cell_type": "markdown",
   "metadata": {},
   "source": [
    "En exécutant plusieurs les lignes ci-dessus, on observe que les moyennes des 4 lois de khi-deux sont toujours proches de k"
   ]
  },
  {
   "cell_type": "markdown",
   "metadata": {},
   "source": [
    "Pour la variance empirique $s_{X}^2$: \n",
    "\n",
    "Pour tout $k$ dans $\\{1, 10, 100,1000\\}$, génération un échantillon de taille $1000$ de la loi de $\\chi^2_k$, et comparaison à la variance empirique associée à la variance de la loi normale $\\mathcal N(k,2k)$. "
   ]
  },
  {
   "cell_type": "code",
   "execution_count": 13,
   "metadata": {},
   "outputs": [
    {
     "data": {
      "text/html": [
       "0.151816576067893"
      ],
      "text/latex": [
       "0.151816576067893"
      ],
      "text/markdown": [
       "0.151816576067893"
      ],
      "text/plain": [
       "[1] 0.1518166"
      ]
     },
     "metadata": {},
     "output_type": "display_data"
    },
    {
     "data": {
      "text/html": [
       "-2.62992016326245"
      ],
      "text/latex": [
       "-2.62992016326245"
      ],
      "text/markdown": [
       "-2.62992016326245"
      ],
      "text/plain": [
       "[1] -2.62992"
      ]
     },
     "metadata": {},
     "output_type": "display_data"
    },
    {
     "data": {
      "text/html": [
       "19.2871894848983"
      ],
      "text/latex": [
       "19.2871894848983"
      ],
      "text/markdown": [
       "19.2871894848983"
      ],
      "text/plain": [
       "[1] 19.28719"
      ]
     },
     "metadata": {},
     "output_type": "display_data"
    },
    {
     "data": {
      "text/html": [
       "-12.7289989130634"
      ],
      "text/latex": [
       "-12.7289989130634"
      ],
      "text/markdown": [
       "-12.7289989130634"
      ],
      "text/plain": [
       "[1] -12.729"
      ]
     },
     "metadata": {},
     "output_type": "display_data"
    }
   ],
   "source": [
    "k <- 1\n",
    "obs <- rchisq(n,k)\n",
    "var(obs) - 2*k\n",
    "\n",
    "k <- 10\n",
    "obs <- rchisq(n,k)\n",
    "var(obs) - 2*k\n",
    "\n",
    "k <- 100\n",
    "obs <- rchisq(n,k)\n",
    "var(obs) - 2*k\n",
    "\n",
    "k <- 1000\n",
    "obs <- rchisq(n,k)\n",
    "var(obs) - 2*k"
   ]
  },
  {
   "cell_type": "markdown",
   "metadata": {},
   "source": [
    "Pour les 4 lois de khi-deux, les variances empiriques tournent toujours autour de $2k$, mais pour des grandes valeurs de $k$ on observe beaucoup de variabilité. En fait, pour des échantillons de plus grandes taille ($n= 10^6$) l'estimation de la variance empirique est plus stable (et près de $2k$)"
   ]
  }
 ],
 "metadata": {
  "kernelspec": {
   "display_name": "R",
   "language": "R",
   "name": "ir"
  },
  "language_info": {
   "codemirror_mode": "r",
   "file_extension": ".r",
   "mimetype": "text/x-r-source",
   "name": "R",
   "pygments_lexer": "r",
   "version": "3.6.1"
  }
 },
 "nbformat": 4,
 "nbformat_minor": 1
}
