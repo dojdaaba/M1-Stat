{
 "cells": [
  {
   "cell_type": "markdown",
   "metadata": {},
   "source": [
    "# Introduction à R\n",
    "\n",
    "Ceci est un notebook. Le notebook est un document interactif, qui permet de mélanger du texte et des lignes de code (ici du code R). Il est possible d'exécuter le code, de le modifier, et d'ajouter (ou de supprimer) des cellules de code ou de commentaire. Vous avez la possibilité d'enregistrer les modifications par le bouton correspondant dans la barre à outils en haut.\n",
    "\n",
    "Dans la cellule de code suivante, vous voyez des instructions en R. Pour les exécuter, il faut d'abord cliquer dans la cellule pour la sélectionner, puis appuyer sur la flèche vers la droite dans la barre à outils ou taper ctrl+Enter."
   ]
  },
  {
   "cell_type": "code",
   "execution_count": 1,
   "metadata": {},
   "outputs": [
    {
     "data": {
      "text/html": [
       "17"
      ],
      "text/latex": [
       "17"
      ],
      "text/markdown": [
       "17"
      ],
      "text/plain": [
       "[1] 17"
      ]
     },
     "metadata": {},
     "output_type": "display_data"
    },
    {
     "data": {
      "text/html": [
       "20"
      ],
      "text/latex": [
       "20"
      ],
      "text/markdown": [
       "20"
      ],
      "text/plain": [
       "[1] 20"
      ]
     },
     "metadata": {},
     "output_type": "display_data"
    }
   ],
   "source": [
    "x <- 17\n",
    "x\n",
    "y <- x + 3\n",
    "y"
   ]
  },
  {
   "cell_type": "markdown",
   "metadata": {},
   "source": [
    "Vous voyez que R exécute les instructions et que les résultats s'affichent juste en-dessous de la cellule. \n",
    "\n",
    "Les variables **x** et **y** sont désormais définies et connues de R. Dans la suite, vous pouvez les utiliser et travailler avec. Autrement dit, les notebooks sont un moyen pour exécuter du code progressivement. (Bien sûr, il est aussi possible d'exécuter les instructions d'un script R  au fur et à mesure, mais c'est plus joli dans un notebook.)\n",
    "\n",
    "Maintenant, c'est à vous. Dans la cellule suivante, calculez le carré de **y** et exécutez l'instruction."
   ]
  },
  {
   "cell_type": "code",
   "execution_count": null,
   "metadata": {},
   "outputs": [],
   "source": []
  },
  {
   "cell_type": "markdown",
   "metadata": {},
   "source": [
    "Au fur et à mesure que vous exécutez des cellules de code, vous voyez apparaître des numéros entre crochets à gauche de la cellule. Ces numéros vous aident à garder une trace de l'ordre dans lequel vous exécutez les cellules. Juste pour voir, revenez à la première cellule de code et modifiez la valeur de **y**. Puis, réexécutez la cellule. Cela change la sortie de la première cellule, mais pas de la deuxième (alors que la valeur de **y** a changé). Les numéros entre chrochets vous permettent donc de vous répérer plus facilement.\n",
    "\n",
    "Parfois, quand on vient d'exécuter plein de cellules, on perd un peu le contrôle, et on ne sait plus quelles sont les valeurs actuelles des différentes variables. Dans ce cas, il vaut mieux reprendre à zéro. Pour cela, sélectionnez **Kernel** en haut de la page et choisissez **Restart**. Vous pouvez observer que tous les numéros entre crochets disparaissent ainsi que toutes les sorties en-dessous des cellules de code. Un **Restart** du **Kernel** revient alors à supprimer tous les objets créés.\n",
    "\n",
    "Vous pouvez modifier un notebook comme bon vous semble. Par exemple, pour ajouter une cellule, cliquez sur le symbole **+** dans la barre à outils. Cela crée une nouvelle cellule juste en-dessous de la dernière cellule sélectionnée. Par défaut, il s'agit d'une cellule de code dans laquelle vous pouvez écrire des instructions en R. Si la nouvelle cellule doit contenir du texte, il suffit de modifier son type par le menu déroulant en changeant **Code** en **Markdown**. Le **Markdown** permet d'écrire du texte, le formatage est très simple. Si cela vous intéresse, double-cliquez sur les cellules de type **Markdown** dans ce notebook pour voir comment ajouter un titre, mettre du texte **en gras** ou *en italique*, créer une liste etc. N'oubliez pas qu'il faut aussi exécuter les cellules **Markdown**.\n",
    "\n",
    "# Les vecteurs\n",
    "\n",
    "Nous avons déjà vu comment définir une variable qui stocke une valeur numérique. En statistique, on aura plutôt besoin de **vecteurs** de valeurs numériques. On peut en créer par la fonction **c( )** (**c** comme *concaténer*):"
   ]
  },
  {
   "cell_type": "code",
   "execution_count": 2,
   "metadata": {},
   "outputs": [
    {
     "data": {
      "text/html": [
       "<ol class=list-inline>\n",
       "\t<li>5</li>\n",
       "\t<li>8</li>\n",
       "\t<li>3</li>\n",
       "</ol>\n"
      ],
      "text/latex": [
       "\\begin{enumerate*}\n",
       "\\item 5\n",
       "\\item 8\n",
       "\\item 3\n",
       "\\end{enumerate*}\n"
      ],
      "text/markdown": [
       "1. 5\n",
       "2. 8\n",
       "3. 3\n",
       "\n",
       "\n"
      ],
      "text/plain": [
       "[1] 5 8 3"
      ]
     },
     "metadata": {},
     "output_type": "display_data"
    }
   ],
   "source": [
    "vec1 <- c(5,8,3)\n",
    "vec1"
   ]
  },
  {
   "cell_type": "markdown",
   "metadata": {},
   "source": [
    "On peut également  concaténer des vecteurs :"
   ]
  },
  {
   "cell_type": "code",
   "execution_count": 3,
   "metadata": {},
   "outputs": [
    {
     "data": {
      "text/html": [
       "<ol class=list-inline>\n",
       "\t<li>5</li>\n",
       "\t<li>8</li>\n",
       "\t<li>3</li>\n",
       "\t<li>0</li>\n",
       "\t<li>5</li>\n",
       "\t<li>8</li>\n",
       "\t<li>3</li>\n",
       "</ol>\n"
      ],
      "text/latex": [
       "\\begin{enumerate*}\n",
       "\\item 5\n",
       "\\item 8\n",
       "\\item 3\n",
       "\\item 0\n",
       "\\item 5\n",
       "\\item 8\n",
       "\\item 3\n",
       "\\end{enumerate*}\n"
      ],
      "text/markdown": [
       "1. 5\n",
       "2. 8\n",
       "3. 3\n",
       "4. 0\n",
       "5. 5\n",
       "6. 8\n",
       "7. 3\n",
       "\n",
       "\n"
      ],
      "text/plain": [
       "[1] 5 8 3 0 5 8 3"
      ]
     },
     "metadata": {},
     "output_type": "display_data"
    }
   ],
   "source": [
    "vec2 <- c(vec1,0,vec1)\n",
    "vec2"
   ]
  },
  {
   "cell_type": "markdown",
   "metadata": {},
   "source": [
    "Voici quelques exemples de calcul avec des vecteurs :"
   ]
  },
  {
   "cell_type": "code",
   "execution_count": 4,
   "metadata": {},
   "outputs": [
    {
     "data": {
      "text/html": [
       "<ol class=list-inline>\n",
       "\t<li>7</li>\n",
       "\t<li>10</li>\n",
       "\t<li>5</li>\n",
       "</ol>\n"
      ],
      "text/latex": [
       "\\begin{enumerate*}\n",
       "\\item 7\n",
       "\\item 10\n",
       "\\item 5\n",
       "\\end{enumerate*}\n"
      ],
      "text/markdown": [
       "1. 7\n",
       "2. 10\n",
       "3. 5\n",
       "\n",
       "\n"
      ],
      "text/plain": [
       "[1]  7 10  5"
      ]
     },
     "metadata": {},
     "output_type": "display_data"
    }
   ],
   "source": [
    "vec1+2"
   ]
  },
  {
   "cell_type": "code",
   "execution_count": 5,
   "metadata": {},
   "outputs": [
    {
     "data": {
      "text/html": [
       "<ol class=list-inline>\n",
       "\t<li>25</li>\n",
       "\t<li>40</li>\n",
       "\t<li>15</li>\n",
       "</ol>\n"
      ],
      "text/latex": [
       "\\begin{enumerate*}\n",
       "\\item 25\n",
       "\\item 40\n",
       "\\item 15\n",
       "\\end{enumerate*}\n"
      ],
      "text/markdown": [
       "1. 25\n",
       "2. 40\n",
       "3. 15\n",
       "\n",
       "\n"
      ],
      "text/plain": [
       "[1] 25 40 15"
      ]
     },
     "metadata": {},
     "output_type": "display_data"
    }
   ],
   "source": [
    "5*vec1"
   ]
  },
  {
   "cell_type": "code",
   "execution_count": 6,
   "metadata": {},
   "outputs": [
    {
     "data": {
      "text/html": [
       "<ol class=list-inline>\n",
       "\t<li>10</li>\n",
       "\t<li>16</li>\n",
       "\t<li>6</li>\n",
       "</ol>\n"
      ],
      "text/latex": [
       "\\begin{enumerate*}\n",
       "\\item 10\n",
       "\\item 16\n",
       "\\item 6\n",
       "\\end{enumerate*}\n"
      ],
      "text/markdown": [
       "1. 10\n",
       "2. 16\n",
       "3. 6\n",
       "\n",
       "\n"
      ],
      "text/plain": [
       "[1] 10 16  6"
      ]
     },
     "metadata": {},
     "output_type": "display_data"
    }
   ],
   "source": [
    "vec1+vec1"
   ]
  },
  {
   "cell_type": "code",
   "execution_count": 7,
   "metadata": {},
   "outputs": [
    {
     "data": {
      "text/html": [
       "<ol class=list-inline>\n",
       "\t<li>25</li>\n",
       "\t<li>64</li>\n",
       "\t<li>9</li>\n",
       "</ol>\n"
      ],
      "text/latex": [
       "\\begin{enumerate*}\n",
       "\\item 25\n",
       "\\item 64\n",
       "\\item 9\n",
       "\\end{enumerate*}\n"
      ],
      "text/markdown": [
       "1. 25\n",
       "2. 64\n",
       "3. 9\n",
       "\n",
       "\n"
      ],
      "text/plain": [
       "[1] 25 64  9"
      ]
     },
     "metadata": {},
     "output_type": "display_data"
    }
   ],
   "source": [
    "vec1*vec1"
   ]
  },
  {
   "cell_type": "code",
   "execution_count": 8,
   "metadata": {},
   "outputs": [
    {
     "data": {
      "text/html": [
       "<ol class=list-inline>\n",
       "\t<li>25</li>\n",
       "\t<li>64</li>\n",
       "\t<li>9</li>\n",
       "</ol>\n"
      ],
      "text/latex": [
       "\\begin{enumerate*}\n",
       "\\item 25\n",
       "\\item 64\n",
       "\\item 9\n",
       "\\end{enumerate*}\n"
      ],
      "text/markdown": [
       "1. 25\n",
       "2. 64\n",
       "3. 9\n",
       "\n",
       "\n"
      ],
      "text/plain": [
       "[1] 25 64  9"
      ]
     },
     "metadata": {},
     "output_type": "display_data"
    }
   ],
   "source": [
    "vec1^2"
   ]
  },
  {
   "cell_type": "markdown",
   "metadata": {},
   "source": [
    "Vous constatez que c'est très simple. Mais attention aux dimensions des vecteurs :"
   ]
  },
  {
   "cell_type": "code",
   "execution_count": 9,
   "metadata": {},
   "outputs": [
    {
     "name": "stderr",
     "output_type": "stream",
     "text": [
      "Warning message in vec1 + vec2:\n",
      "\"la taille d'un objet plus long n'est pas multiple de la taille d'un objet plus court\""
     ]
    },
    {
     "data": {
      "text/html": [
       "<ol class=list-inline>\n",
       "\t<li>10</li>\n",
       "\t<li>16</li>\n",
       "\t<li>6</li>\n",
       "\t<li>5</li>\n",
       "\t<li>13</li>\n",
       "\t<li>11</li>\n",
       "\t<li>8</li>\n",
       "</ol>\n"
      ],
      "text/latex": [
       "\\begin{enumerate*}\n",
       "\\item 10\n",
       "\\item 16\n",
       "\\item 6\n",
       "\\item 5\n",
       "\\item 13\n",
       "\\item 11\n",
       "\\item 8\n",
       "\\end{enumerate*}\n"
      ],
      "text/markdown": [
       "1. 10\n",
       "2. 16\n",
       "3. 6\n",
       "4. 5\n",
       "5. 13\n",
       "6. 11\n",
       "7. 8\n",
       "\n",
       "\n"
      ],
      "text/plain": [
       "[1] 10 16  6  5 13 11  8"
      ]
     },
     "metadata": {},
     "output_type": "display_data"
    }
   ],
   "source": [
    "vec1+vec2"
   ]
  },
  {
   "cell_type": "markdown",
   "metadata": {},
   "source": [
    "Vous constatez que malgré le message d'erreur (prenez l'habitude de les lire !), R produit un résultat. Ici, R répète le vecteur **vec1** deux fois afin de créer un vecteur de la taille du vecteur **vec2**. C'est une technique courante de R lorsque les dimensions ne correspondent pas : répéter l'objet le plus petit jusqu'à ce que le calcul souhaité fasse sens. (Mais assurez-vous que ça correspond bien au calcul que vous souhaitez faire !).\n"
   ]
  },
  {
   "cell_type": "markdown",
   "metadata": {},
   "source": [
    "\n",
    "\n",
    "## Fonctions mathématiques pour les vecteurs\n",
    "\n",
    "En R il existe un grand nombre de fonctions mathématiques prédéfinies et très utiles en pratique.\n",
    "Voici une liste de fonctions pour vecteurs :\n",
    " - **sum**\n",
    " - **prod**\n",
    " - **length**\n",
    " - **min**\n",
    " - **max**\n",
    " - **which.min**\n",
    " - **which.max**\n",
    " - **sort**\n",
    " - **order**\n",
    " - **mean**\n",
    " - **var**\n",
    " - **sd**\n",
    " - **median**\n",
    "\n",
    "### Entraînement 1\n",
    "\n",
    "Essayez de comprendre chacune des fonctions ci-dessus. Pour cela, créez une nouvelle cellule, définissez quelques vecteurs jouets, appliquez les fonctions ci-dessus et essayez de comprendre la sortie.  Si vous n'arrivez pas à comprendre une fonction, consultez l'aide en utilisant la fonction **help()** ou la commande **?** suivi du nom de la fonction qui vous intéresse. \n",
    "\n",
    "# Le type des données\n",
    "\n",
    "R n'est pas limité à des variables de type numérique. L'instruction **typeof(x)** permet de connaître le type ou mode de l'objet  **x**. Énumérons maintenant les principaux types de données.\n",
    "\n",
    "## Type numérique (*numeric*)\n",
    "\n",
    "Parmi les objets de type numérique, on distingue deux types : les entiers (*integer*) et les réels (*real* ou *double*). Définissons deux variables et vérifions leur type :\n",
    "\n"
   ]
  },
  {
   "cell_type": "code",
   "execution_count": 10,
   "metadata": {},
   "outputs": [
    {
     "data": {
      "text/html": [
       "'double'"
      ],
      "text/latex": [
       "'double'"
      ],
      "text/markdown": [
       "'double'"
      ],
      "text/plain": [
       "[1] \"double\""
      ]
     },
     "metadata": {},
     "output_type": "display_data"
    }
   ],
   "source": [
    "var.a <- 1.7\n",
    "typeof(var.a)"
   ]
  },
  {
   "cell_type": "code",
   "execution_count": 11,
   "metadata": {},
   "outputs": [
    {
     "data": {
      "text/html": [
       "'double'"
      ],
      "text/latex": [
       "'double'"
      ],
      "text/markdown": [
       "'double'"
      ],
      "text/plain": [
       "[1] \"double\""
      ]
     },
     "metadata": {},
     "output_type": "display_data"
    }
   ],
   "source": [
    "var.b <- -3\n",
    "typeof(var.b)"
   ]
  },
  {
   "cell_type": "markdown",
   "metadata": {},
   "source": [
    "Les variables **var.a** et **var.b** sont de type *double*.\n",
    "Afin d'obtenir une variable de type *integer*, il faut forcer le type en utilisant la fonction **as.integer**.\n",
    " L'intérêt du type *integer* est que\n",
    "son stockage prend moins de place en mémoire. "
   ]
  },
  {
   "cell_type": "code",
   "execution_count": 12,
   "metadata": {},
   "outputs": [
    {
     "data": {
      "text/html": [
       "'integer'"
      ],
      "text/latex": [
       "'integer'"
      ],
      "text/markdown": [
       "'integer'"
      ],
      "text/plain": [
       "[1] \"integer\""
      ]
     },
     "metadata": {},
     "output_type": "display_data"
    }
   ],
   "source": [
    "var.c <- as.integer(var.b)\n",
    "typeof(var.c)"
   ]
  },
  {
   "cell_type": "markdown",
   "metadata": {},
   "source": [
    "\n",
    "## Type booléen ou logique (*logical*)\n",
    "R sait répondre à certaines questions simples, pas avec \"oui\" ou \"non\", mais avec **TRUE** ou **FALSE**.\n",
    "Voici quelques exemples :\n",
    "\n",
    "Tester l'égalité entre les valeurs de var.a et var.b\n"
   ]
  },
  {
   "cell_type": "code",
   "execution_count": 13,
   "metadata": {},
   "outputs": [
    {
     "data": {
      "text/html": [
       "FALSE"
      ],
      "text/latex": [
       "FALSE"
      ],
      "text/markdown": [
       "FALSE"
      ],
      "text/plain": [
       "[1] FALSE"
      ]
     },
     "metadata": {},
     "output_type": "display_data"
    }
   ],
   "source": [
    "var.a==var.b "
   ]
  },
  {
   "cell_type": "markdown",
   "metadata": {},
   "source": [
    "Tester si var.a est plus grand que var.b"
   ]
  },
  {
   "cell_type": "code",
   "execution_count": 14,
   "metadata": {},
   "outputs": [
    {
     "data": {
      "text/html": [
       "TRUE"
      ],
      "text/latex": [
       "TRUE"
      ],
      "text/markdown": [
       "TRUE"
      ],
      "text/plain": [
       "[1] TRUE"
      ]
     },
     "metadata": {},
     "output_type": "display_data"
    }
   ],
   "source": [
    "var.a>var.b "
   ]
  },
  {
   "cell_type": "markdown",
   "metadata": {},
   "source": [
    "Ces réponses sont des objets de type logique.\n",
    "Le type logique ne peut prendre que les valeurs\n",
    "**TRUE** et **FALSE** (il n'y a pas de valeur du genre \"je ne sais pas\" ou \"peut-être\"). \n",
    "On appelle les questions des exemples ci-dessus des *conditions logiques*, car le résultat  est de type logique.\n",
    "\n",
    "De même, le résultat renvoyé par des fonctions qui testent le type d'un objet  **x** (commençant par **is.**) est de type logique :"
   ]
  },
  {
   "cell_type": "code",
   "execution_count": 15,
   "metadata": {},
   "outputs": [
    {
     "data": {
      "text/html": [
       "TRUE"
      ],
      "text/latex": [
       "TRUE"
      ],
      "text/markdown": [
       "TRUE"
      ],
      "text/plain": [
       "[1] TRUE"
      ]
     },
     "metadata": {},
     "output_type": "display_data"
    }
   ],
   "source": [
    "is.numeric(var.b)"
   ]
  },
  {
   "cell_type": "code",
   "execution_count": 16,
   "metadata": {},
   "outputs": [
    {
     "data": {
      "text/html": [
       "FALSE"
      ],
      "text/latex": [
       "FALSE"
      ],
      "text/markdown": [
       "FALSE"
      ],
      "text/plain": [
       "[1] FALSE"
      ]
     },
     "metadata": {},
     "output_type": "display_data"
    }
   ],
   "source": [
    "is.integer(var.b)"
   ]
  },
  {
   "cell_type": "code",
   "execution_count": 17,
   "metadata": {},
   "outputs": [
    {
     "data": {
      "text/html": [
       "TRUE"
      ],
      "text/latex": [
       "TRUE"
      ],
      "text/markdown": [
       "TRUE"
      ],
      "text/plain": [
       "[1] TRUE"
      ]
     },
     "metadata": {},
     "output_type": "display_data"
    }
   ],
   "source": [
    "var.x <- FALSE\n",
    "is.logical(var.x)"
   ]
  },
  {
   "cell_type": "markdown",
   "metadata": {},
   "source": [
    "**TRUE** et **FALSE** peuvent être saisis de manière plus succincte en tapant\n",
    "respectivement  **T** et  **F**.\n",
    "\n",
    "Lorsque cela se révèle nécessaire, ce type de données est naturellement\n",
    "converti en type numérique sans qu'il y ait à le spécifier : **TRUE** vaut 1 et\n",
    "**FALSE** vaut 0. Cela est illustré par les exemples suivants."
   ]
  },
  {
   "cell_type": "code",
   "execution_count": 18,
   "metadata": {},
   "outputs": [
    {
     "data": {
      "text/html": [
       "1"
      ],
      "text/latex": [
       "1"
      ],
      "text/markdown": [
       "1"
      ],
      "text/plain": [
       "[1] 1"
      ]
     },
     "metadata": {},
     "output_type": "display_data"
    }
   ],
   "source": [
    "TRUE + FALSE"
   ]
  },
  {
   "cell_type": "code",
   "execution_count": 19,
   "metadata": {},
   "outputs": [
    {
     "data": {
      "text/html": [
       "3.5"
      ],
      "text/latex": [
       "3.5"
      ],
      "text/markdown": [
       "3.5"
      ],
      "text/plain": [
       "[1] 3.5"
      ]
     },
     "metadata": {},
     "output_type": "display_data"
    }
   ],
   "source": [
    "TRUE/2 - var.b"
   ]
  },
  {
   "cell_type": "code",
   "execution_count": 20,
   "metadata": {},
   "outputs": [
    {
     "data": {
      "text/html": [
       "4"
      ],
      "text/latex": [
       "4"
      ],
      "text/markdown": [
       "4"
      ],
      "text/plain": [
       "[1] 4"
      ]
     },
     "metadata": {},
     "output_type": "display_data"
    }
   ],
   "source": [
    "(TRUE + T)^2 + FALSE*F + T*FALSE + F"
   ]
  },
  {
   "cell_type": "markdown",
   "metadata": {},
   "source": [
    "## Type chaînes de caractères (*character*)\n",
    "Toute information mise entre guillemets (simple **'** ou double **\"**) correspond\n",
    "à une chaîne de caractères :"
   ]
  },
  {
   "cell_type": "code",
   "execution_count": 21,
   "metadata": {},
   "outputs": [
    {
     "data": {
      "text/html": [
       "'I love maths'"
      ],
      "text/latex": [
       "'I love maths'"
      ],
      "text/markdown": [
       "'I love maths'"
      ],
      "text/plain": [
       "[1] \"I love maths\""
      ]
     },
     "metadata": {},
     "output_type": "display_data"
    }
   ],
   "source": [
    "string1 <- \"I love maths\"\n",
    "string1"
   ]
  },
  {
   "cell_type": "code",
   "execution_count": 22,
   "metadata": {},
   "outputs": [
    {
     "data": {
      "text/html": [
       "'character'"
      ],
      "text/latex": [
       "'character'"
      ],
      "text/markdown": [
       "'character'"
      ],
      "text/plain": [
       "[1] \"character\""
      ]
     },
     "metadata": {},
     "output_type": "display_data"
    }
   ],
   "source": [
    "typeof(string1)"
   ]
  },
  {
   "cell_type": "code",
   "execution_count": 23,
   "metadata": {},
   "outputs": [
    {
     "data": {
      "text/html": [
       "'Moi aussi !'"
      ],
      "text/latex": [
       "'Moi aussi !'"
      ],
      "text/markdown": [
       "'Moi aussi !'"
      ],
      "text/plain": [
       "[1] \"Moi aussi !\""
      ]
     },
     "metadata": {},
     "output_type": "display_data"
    }
   ],
   "source": [
    "string2 <- 'Moi aussi !'\n",
    "string2"
   ]
  },
  {
   "cell_type": "code",
   "execution_count": 24,
   "metadata": {},
   "outputs": [
    {
     "data": {
      "text/html": [
       "TRUE"
      ],
      "text/latex": [
       "TRUE"
      ],
      "text/markdown": [
       "TRUE"
      ],
      "text/plain": [
       "[1] TRUE"
      ]
     },
     "metadata": {},
     "output_type": "display_data"
    }
   ],
   "source": [
    "is.character(string2)"
   ]
  },
  {
   "cell_type": "markdown",
   "metadata": {},
   "source": [
    "## Conversion de type\n",
    "Les conversions de type sont possibles grâce aux fonctions commençant par **as.**\n",
    "\n",
    "Il faut cependant être prudent quant à la signification de ces conversions.  R retourne toujours un résultat à une instruction de conversion même si cette dernière n'a pas de sens.   Voici quelques exemples :\n",
    "\n",
    "Conversion vers une chaîne de caractères"
   ]
  },
  {
   "cell_type": "code",
   "execution_count": 25,
   "metadata": {},
   "outputs": [
    {
     "data": {
      "text/html": [
       "'2.3'"
      ],
      "text/latex": [
       "'2.3'"
      ],
      "text/markdown": [
       "'2.3'"
      ],
      "text/plain": [
       "[1] \"2.3\""
      ]
     },
     "metadata": {},
     "output_type": "display_data"
    }
   ],
   "source": [
    "as.character(2.3) "
   ]
  },
  {
   "cell_type": "markdown",
   "metadata": {},
   "source": [
    "Conversion depuis une chaîne de caractères"
   ]
  },
  {
   "cell_type": "code",
   "execution_count": 26,
   "metadata": {},
   "outputs": [
    {
     "data": {
      "text/html": [
       "2.3"
      ],
      "text/latex": [
       "2.3"
      ],
      "text/markdown": [
       "2.3"
      ],
      "text/plain": [
       "[1] 2.3"
      ]
     },
     "metadata": {},
     "output_type": "display_data"
    }
   ],
   "source": [
    "string3 <- \"2.3\"\n",
    "as.numeric(string3) "
   ]
  },
  {
   "cell_type": "markdown",
   "metadata": {},
   "source": [
    "Conversion depuis une chaîne de caractères"
   ]
  },
  {
   "cell_type": "code",
   "execution_count": 27,
   "metadata": {},
   "outputs": [
    {
     "data": {
      "text/html": [
       "2"
      ],
      "text/latex": [
       "2"
      ],
      "text/markdown": [
       "2"
      ],
      "text/plain": [
       "[1] 2"
      ]
     },
     "metadata": {},
     "output_type": "display_data"
    }
   ],
   "source": [
    "as.integer(string3)"
   ]
  },
  {
   "cell_type": "markdown",
   "metadata": {},
   "source": [
    "Conversion impossible"
   ]
  },
  {
   "cell_type": "code",
   "execution_count": 28,
   "metadata": {},
   "outputs": [
    {
     "name": "stderr",
     "output_type": "stream",
     "text": [
      "Warning message in eval(expr, envir, enclos):\n",
      "\"NAs introduits lors de la conversion automatique\""
     ]
    },
    {
     "data": {
      "text/html": [
       "&lt;NA&gt;"
      ],
      "text/latex": [
       "<NA>"
      ],
      "text/markdown": [
       "&lt;NA&gt;"
      ],
      "text/plain": [
       "[1] NA"
      ]
     },
     "metadata": {},
     "output_type": "display_data"
    }
   ],
   "source": [
    "as.integer(string1)"
   ]
  },
  {
   "cell_type": "markdown",
   "metadata": {},
   "source": [
    "# Structure des données\n",
    " R offre la possibilité d'organiser les différents types de données définies précédemment. En statistique nous travaillons beaucoup avec des vecteurs et des tableaux (dataframes) présentés ici. Les listes seront traitées ultérieurement.\n",
    "\n",
    "## Les vecteurs\n",
    "\n",
    "Cette structure de données est la plus simple. Elle représente une **suite de\n",
    "données de même type**. Nous avons déjà vu les vecteurs de type numérique, mais il y a également des vecteurs de type logique ou de type chaîne de caractères :"
   ]
  },
  {
   "cell_type": "code",
   "execution_count": 29,
   "metadata": {},
   "outputs": [
    {
     "data": {
      "text/html": [
       "<ol class=list-inline>\n",
       "\t<li>1</li>\n",
       "\t<li>4</li>\n",
       "\t<li>9</li>\n",
       "\t<li>2</li>\n",
       "\t<li>0</li>\n",
       "</ol>\n"
      ],
      "text/latex": [
       "\\begin{enumerate*}\n",
       "\\item 1\n",
       "\\item 4\n",
       "\\item 9\n",
       "\\item 2\n",
       "\\item 0\n",
       "\\end{enumerate*}\n"
      ],
      "text/markdown": [
       "1. 1\n",
       "2. 4\n",
       "3. 9\n",
       "4. 2\n",
       "5. 0\n",
       "\n",
       "\n"
      ],
      "text/plain": [
       "[1] 1 4 9 2 0"
      ]
     },
     "metadata": {},
     "output_type": "display_data"
    }
   ],
   "source": [
    "vec.num <- c(1,4,9,2,0)\n",
    "vec.num"
   ]
  },
  {
   "cell_type": "code",
   "execution_count": 30,
   "metadata": {},
   "outputs": [
    {
     "data": {
      "text/html": [
       "<ol class=list-inline>\n",
       "\t<li>'R'</li>\n",
       "\t<li>'c\\'est'</li>\n",
       "\t<li>'trop'</li>\n",
       "\t<li>'facile'</li>\n",
       "\t<li>'!'</li>\n",
       "</ol>\n"
      ],
      "text/latex": [
       "\\begin{enumerate*}\n",
       "\\item 'R'\n",
       "\\item 'c\\textbackslash{}'est'\n",
       "\\item 'trop'\n",
       "\\item 'facile'\n",
       "\\item '!'\n",
       "\\end{enumerate*}\n"
      ],
      "text/markdown": [
       "1. 'R'\n",
       "2. 'c\\'est'\n",
       "3. 'trop'\n",
       "4. 'facile'\n",
       "5. '!'\n",
       "\n",
       "\n"
      ],
      "text/plain": [
       "[1] \"R\"      \"c'est\"  \"trop\"   \"facile\" \"!\"     "
      ]
     },
     "metadata": {},
     "output_type": "display_data"
    }
   ],
   "source": [
    "vec.char <- c(\"R\",\"c'est\",\"trop\",\"facile\",\"!\")\n",
    "vec.char"
   ]
  },
  {
   "cell_type": "markdown",
   "metadata": {},
   "source": [
    "Un vecteur de type logique peut être obtenu par une condition logique appliquée à un ou plusieurs vecteurs (de type numérique ou chaîne  de caractère). Exemple :"
   ]
  },
  {
   "cell_type": "code",
   "execution_count": 31,
   "metadata": {},
   "outputs": [
    {
     "data": {
      "text/html": [
       "<ol class=list-inline>\n",
       "\t<li>FALSE</li>\n",
       "\t<li>TRUE</li>\n",
       "\t<li>TRUE</li>\n",
       "\t<li>FALSE</li>\n",
       "\t<li>FALSE</li>\n",
       "</ol>\n"
      ],
      "text/latex": [
       "\\begin{enumerate*}\n",
       "\\item FALSE\n",
       "\\item TRUE\n",
       "\\item TRUE\n",
       "\\item FALSE\n",
       "\\item FALSE\n",
       "\\end{enumerate*}\n"
      ],
      "text/markdown": [
       "1. FALSE\n",
       "2. TRUE\n",
       "3. TRUE\n",
       "4. FALSE\n",
       "5. FALSE\n",
       "\n",
       "\n"
      ],
      "text/plain": [
       "[1] FALSE  TRUE  TRUE FALSE FALSE"
      ]
     },
     "metadata": {},
     "output_type": "display_data"
    }
   ],
   "source": [
    "vec.logique <- (vec.num>=4)\n",
    "vec.logique"
   ]
  },
  {
   "cell_type": "markdown",
   "metadata": {},
   "source": [
    "Dans cet exemple  les éléments du vecteur **vec.num** sont comparés un à un à la valeur 4 et le résultat est reporté dans le vecteur **vec.logique**.\n",
    "\n",
    "Dans l'exemple suivant, une comparaison élément par élément de deux vecteurs est effectuée :"
   ]
  },
  {
   "cell_type": "code",
   "execution_count": 32,
   "metadata": {},
   "outputs": [
    {
     "data": {
      "text/html": [
       "<ol class=list-inline>\n",
       "\t<li>'R'</li>\n",
       "\t<li>'c\\'est pas'</li>\n",
       "\t<li>'mon'</li>\n",
       "\t<li>'truc'</li>\n",
       "\t<li>'!'</li>\n",
       "</ol>\n"
      ],
      "text/latex": [
       "\\begin{enumerate*}\n",
       "\\item 'R'\n",
       "\\item 'c\\textbackslash{}'est pas'\n",
       "\\item 'mon'\n",
       "\\item 'truc'\n",
       "\\item '!'\n",
       "\\end{enumerate*}\n"
      ],
      "text/markdown": [
       "1. 'R'\n",
       "2. 'c\\'est pas'\n",
       "3. 'mon'\n",
       "4. 'truc'\n",
       "5. '!'\n",
       "\n",
       "\n"
      ],
      "text/plain": [
       "[1] \"R\"         \"c'est pas\" \"mon\"       \"truc\"      \"!\"        "
      ]
     },
     "metadata": {},
     "output_type": "display_data"
    },
    {
     "data": {
      "text/html": [
       "<ol class=list-inline>\n",
       "\t<li>TRUE</li>\n",
       "\t<li>FALSE</li>\n",
       "\t<li>FALSE</li>\n",
       "\t<li>FALSE</li>\n",
       "\t<li>TRUE</li>\n",
       "</ol>\n"
      ],
      "text/latex": [
       "\\begin{enumerate*}\n",
       "\\item TRUE\n",
       "\\item FALSE\n",
       "\\item FALSE\n",
       "\\item FALSE\n",
       "\\item TRUE\n",
       "\\end{enumerate*}\n"
      ],
      "text/markdown": [
       "1. TRUE\n",
       "2. FALSE\n",
       "3. FALSE\n",
       "4. FALSE\n",
       "5. TRUE\n",
       "\n",
       "\n"
      ],
      "text/plain": [
       "[1]  TRUE FALSE FALSE FALSE  TRUE"
      ]
     },
     "metadata": {},
     "output_type": "display_data"
    }
   ],
   "source": [
    "vec.char2 <- c(\"R\",\"c'est pas\",\"mon\",\"truc\",\"!\")\n",
    "vec.char2\n",
    "vec.logique2 <- (vec.char == vec.char2)\n",
    "vec.logique2"
   ]
  },
  {
   "cell_type": "markdown",
   "metadata": {},
   "source": [
    "### Conversion automatique \n",
    "\n",
    "Par définition, tous les éléments d'un vecteur sont de même type.\n",
    "Lorsqu'on \n",
    "mélange des données de  types différents lors de la création d'un vecteur, R se charge d'opérer\n",
    "une conversion implicite vers le type de données le plus général comme vous\n",
    "pouvez le constater dans les exemples ci-dessous."
   ]
  },
  {
   "cell_type": "code",
   "execution_count": 33,
   "metadata": {},
   "outputs": [
    {
     "data": {
      "text/html": [
       "<ol class=list-inline>\n",
       "\t<li>3</li>\n",
       "\t<li>1</li>\n",
       "\t<li>7</li>\n",
       "</ol>\n"
      ],
      "text/latex": [
       "\\begin{enumerate*}\n",
       "\\item 3\n",
       "\\item 1\n",
       "\\item 7\n",
       "\\end{enumerate*}\n"
      ],
      "text/markdown": [
       "1. 3\n",
       "2. 1\n",
       "3. 7\n",
       "\n",
       "\n"
      ],
      "text/plain": [
       "[1] 3 1 7"
      ]
     },
     "metadata": {},
     "output_type": "display_data"
    }
   ],
   "source": [
    "c(3,TRUE,7)"
   ]
  },
  {
   "cell_type": "code",
   "execution_count": 34,
   "metadata": {},
   "outputs": [
    {
     "data": {
      "text/html": [
       "<ol class=list-inline>\n",
       "\t<li>'3'</li>\n",
       "\t<li>'TRUE'</li>\n",
       "\t<li>'7'</li>\n",
       "</ol>\n"
      ],
      "text/latex": [
       "\\begin{enumerate*}\n",
       "\\item '3'\n",
       "\\item 'TRUE'\n",
       "\\item '7'\n",
       "\\end{enumerate*}\n"
      ],
      "text/markdown": [
       "1. '3'\n",
       "2. 'TRUE'\n",
       "3. '7'\n",
       "\n",
       "\n"
      ],
      "text/plain": [
       "[1] \"3\"    \"TRUE\" \"7\"   "
      ]
     },
     "metadata": {},
     "output_type": "display_data"
    }
   ],
   "source": [
    "c(3,T,\"7\")"
   ]
  },
  {
   "cell_type": "markdown",
   "metadata": {},
   "source": [
    "## Suites régulières\n",
    "\n",
    "On peut  créer des vecteurs particuliers grâce à des suites régulières.  \n",
    "\n",
    "\n",
    "### Entraînement 2\n",
    "Exécutez les commandes suivantes et utilisez l'aide afin de comprendre \n",
    "- l'utilisation des  deux-points **:** , \n",
    "- la fonction **seq** et ses arguments **length** et **by**,\n",
    "- la fonction **rep** et ses arguments **times** et **each**."
   ]
  },
  {
   "cell_type": "code",
   "execution_count": 35,
   "metadata": {},
   "outputs": [
    {
     "data": {
      "text/html": [
       "<ol class=list-inline>\n",
       "\t<li>2</li>\n",
       "\t<li>3</li>\n",
       "\t<li>4</li>\n",
       "\t<li>5</li>\n",
       "</ol>\n"
      ],
      "text/latex": [
       "\\begin{enumerate*}\n",
       "\\item 2\n",
       "\\item 3\n",
       "\\item 4\n",
       "\\item 5\n",
       "\\end{enumerate*}\n"
      ],
      "text/markdown": [
       "1. 2\n",
       "2. 3\n",
       "3. 4\n",
       "4. 5\n",
       "\n",
       "\n"
      ],
      "text/plain": [
       "[1] 2 3 4 5"
      ]
     },
     "metadata": {},
     "output_type": "display_data"
    }
   ],
   "source": [
    "2:5"
   ]
  },
  {
   "cell_type": "code",
   "execution_count": 36,
   "metadata": {},
   "outputs": [
    {
     "data": {
      "text/html": [
       "<ol class=list-inline>\n",
       "\t<li>0.5</li>\n",
       "\t<li>1.5</li>\n",
       "\t<li>2.5</li>\n",
       "\t<li>3.5</li>\n",
       "</ol>\n"
      ],
      "text/latex": [
       "\\begin{enumerate*}\n",
       "\\item 0.5\n",
       "\\item 1.5\n",
       "\\item 2.5\n",
       "\\item 3.5\n",
       "\\end{enumerate*}\n"
      ],
      "text/markdown": [
       "1. 0.5\n",
       "2. 1.5\n",
       "3. 2.5\n",
       "4. 3.5\n",
       "\n",
       "\n"
      ],
      "text/plain": [
       "[1] 0.5 1.5 2.5 3.5"
      ]
     },
     "metadata": {},
     "output_type": "display_data"
    }
   ],
   "source": [
    ".5:4"
   ]
  },
  {
   "cell_type": "code",
   "execution_count": 37,
   "metadata": {},
   "outputs": [
    {
     "data": {
      "text/html": [
       "<ol class=list-inline>\n",
       "\t<li>12</li>\n",
       "\t<li>11</li>\n",
       "\t<li>10</li>\n",
       "\t<li>9</li>\n",
       "\t<li>8</li>\n",
       "\t<li>7</li>\n",
       "\t<li>6</li>\n",
       "\t<li>5</li>\n",
       "\t<li>4</li>\n",
       "\t<li>3</li>\n",
       "\t<li>2</li>\n",
       "\t<li>1</li>\n",
       "\t<li>0</li>\n",
       "\t<li>-1</li>\n",
       "\t<li>-2</li>\n",
       "\t<li>-3</li>\n",
       "\t<li>-4</li>\n",
       "</ol>\n"
      ],
      "text/latex": [
       "\\begin{enumerate*}\n",
       "\\item 12\n",
       "\\item 11\n",
       "\\item 10\n",
       "\\item 9\n",
       "\\item 8\n",
       "\\item 7\n",
       "\\item 6\n",
       "\\item 5\n",
       "\\item 4\n",
       "\\item 3\n",
       "\\item 2\n",
       "\\item 1\n",
       "\\item 0\n",
       "\\item -1\n",
       "\\item -2\n",
       "\\item -3\n",
       "\\item -4\n",
       "\\end{enumerate*}\n"
      ],
      "text/markdown": [
       "1. 12\n",
       "2. 11\n",
       "3. 10\n",
       "4. 9\n",
       "5. 8\n",
       "6. 7\n",
       "7. 6\n",
       "8. 5\n",
       "9. 4\n",
       "10. 3\n",
       "11. 2\n",
       "12. 1\n",
       "13. 0\n",
       "14. -1\n",
       "15. -2\n",
       "16. -3\n",
       "17. -4\n",
       "\n",
       "\n"
      ],
      "text/plain": [
       " [1] 12 11 10  9  8  7  6  5  4  3  2  1  0 -1 -2 -3 -4"
      ]
     },
     "metadata": {},
     "output_type": "display_data"
    }
   ],
   "source": [
    "12:-4"
   ]
  },
  {
   "cell_type": "code",
   "execution_count": 38,
   "metadata": {},
   "outputs": [
    {
     "data": {
      "text/html": [
       "<ol class=list-inline>\n",
       "\t<li>2</li>\n",
       "\t<li>3</li>\n",
       "\t<li>4</li>\n",
       "\t<li>5</li>\n",
       "\t<li>6</li>\n",
       "</ol>\n"
      ],
      "text/latex": [
       "\\begin{enumerate*}\n",
       "\\item 2\n",
       "\\item 3\n",
       "\\item 4\n",
       "\\item 5\n",
       "\\item 6\n",
       "\\end{enumerate*}\n"
      ],
      "text/markdown": [
       "1. 2\n",
       "2. 3\n",
       "3. 4\n",
       "4. 5\n",
       "5. 6\n",
       "\n",
       "\n"
      ],
      "text/plain": [
       "[1] 2 3 4 5 6"
      ]
     },
     "metadata": {},
     "output_type": "display_data"
    }
   ],
   "source": [
    "seq(2,6)"
   ]
  },
  {
   "cell_type": "code",
   "execution_count": 39,
   "metadata": {},
   "outputs": [
    {
     "data": {
      "text/html": [
       "<ol class=list-inline>\n",
       "\t<li>2</li>\n",
       "\t<li>2.2</li>\n",
       "\t<li>2.4</li>\n",
       "\t<li>2.6</li>\n",
       "\t<li>2.8</li>\n",
       "\t<li>3</li>\n",
       "\t<li>3.2</li>\n",
       "\t<li>3.4</li>\n",
       "\t<li>3.6</li>\n",
       "\t<li>3.8</li>\n",
       "\t<li>4</li>\n",
       "\t<li>4.2</li>\n",
       "\t<li>4.4</li>\n",
       "\t<li>4.6</li>\n",
       "\t<li>4.8</li>\n",
       "\t<li>5</li>\n",
       "\t<li>5.2</li>\n",
       "\t<li>5.4</li>\n",
       "\t<li>5.6</li>\n",
       "\t<li>5.8</li>\n",
       "\t<li>6</li>\n",
       "</ol>\n"
      ],
      "text/latex": [
       "\\begin{enumerate*}\n",
       "\\item 2\n",
       "\\item 2.2\n",
       "\\item 2.4\n",
       "\\item 2.6\n",
       "\\item 2.8\n",
       "\\item 3\n",
       "\\item 3.2\n",
       "\\item 3.4\n",
       "\\item 3.6\n",
       "\\item 3.8\n",
       "\\item 4\n",
       "\\item 4.2\n",
       "\\item 4.4\n",
       "\\item 4.6\n",
       "\\item 4.8\n",
       "\\item 5\n",
       "\\item 5.2\n",
       "\\item 5.4\n",
       "\\item 5.6\n",
       "\\item 5.8\n",
       "\\item 6\n",
       "\\end{enumerate*}\n"
      ],
      "text/markdown": [
       "1. 2\n",
       "2. 2.2\n",
       "3. 2.4\n",
       "4. 2.6\n",
       "5. 2.8\n",
       "6. 3\n",
       "7. 3.2\n",
       "8. 3.4\n",
       "9. 3.6\n",
       "10. 3.8\n",
       "11. 4\n",
       "12. 4.2\n",
       "13. 4.4\n",
       "14. 4.6\n",
       "15. 4.8\n",
       "16. 5\n",
       "17. 5.2\n",
       "18. 5.4\n",
       "19. 5.6\n",
       "20. 5.8\n",
       "21. 6\n",
       "\n",
       "\n"
      ],
      "text/plain": [
       " [1] 2.0 2.2 2.4 2.6 2.8 3.0 3.2 3.4 3.6 3.8 4.0 4.2 4.4 4.6 4.8 5.0 5.2 5.4 5.6\n",
       "[20] 5.8 6.0"
      ]
     },
     "metadata": {},
     "output_type": "display_data"
    }
   ],
   "source": [
    "seq(2,6,by=.2)"
   ]
  },
  {
   "cell_type": "code",
   "execution_count": 40,
   "metadata": {},
   "outputs": [
    {
     "data": {
      "text/html": [
       "<ol class=list-inline>\n",
       "\t<li>2</li>\n",
       "\t<li>3.33333333333333</li>\n",
       "\t<li>4.66666666666667</li>\n",
       "\t<li>6</li>\n",
       "</ol>\n"
      ],
      "text/latex": [
       "\\begin{enumerate*}\n",
       "\\item 2\n",
       "\\item 3.33333333333333\n",
       "\\item 4.66666666666667\n",
       "\\item 6\n",
       "\\end{enumerate*}\n"
      ],
      "text/markdown": [
       "1. 2\n",
       "2. 3.33333333333333\n",
       "3. 4.66666666666667\n",
       "4. 6\n",
       "\n",
       "\n"
      ],
      "text/plain": [
       "[1] 2.000000 3.333333 4.666667 6.000000"
      ]
     },
     "metadata": {},
     "output_type": "display_data"
    }
   ],
   "source": [
    "seq(2,6,length=4)"
   ]
  },
  {
   "cell_type": "code",
   "execution_count": 41,
   "metadata": {},
   "outputs": [
    {
     "data": {
      "text/html": [
       "<ol class=list-inline>\n",
       "\t<li>1</li>\n",
       "\t<li>1</li>\n",
       "\t<li>1</li>\n",
       "\t<li>1</li>\n",
       "\t<li>1</li>\n",
       "</ol>\n"
      ],
      "text/latex": [
       "\\begin{enumerate*}\n",
       "\\item 1\n",
       "\\item 1\n",
       "\\item 1\n",
       "\\item 1\n",
       "\\item 1\n",
       "\\end{enumerate*}\n"
      ],
      "text/markdown": [
       "1. 1\n",
       "2. 1\n",
       "3. 1\n",
       "4. 1\n",
       "5. 1\n",
       "\n",
       "\n"
      ],
      "text/plain": [
       "[1] 1 1 1 1 1"
      ]
     },
     "metadata": {},
     "output_type": "display_data"
    }
   ],
   "source": [
    "rep(1,5)"
   ]
  },
  {
   "cell_type": "code",
   "execution_count": 42,
   "metadata": {},
   "outputs": [
    {
     "data": {
      "text/html": [
       "<ol class=list-inline>\n",
       "\t<li>1</li>\n",
       "\t<li>2</li>\n",
       "\t<li>3</li>\n",
       "\t<li>1</li>\n",
       "\t<li>2</li>\n",
       "\t<li>3</li>\n",
       "\t<li>1</li>\n",
       "\t<li>2</li>\n",
       "\t<li>3</li>\n",
       "\t<li>1</li>\n",
       "\t<li>2</li>\n",
       "\t<li>3</li>\n",
       "</ol>\n"
      ],
      "text/latex": [
       "\\begin{enumerate*}\n",
       "\\item 1\n",
       "\\item 2\n",
       "\\item 3\n",
       "\\item 1\n",
       "\\item 2\n",
       "\\item 3\n",
       "\\item 1\n",
       "\\item 2\n",
       "\\item 3\n",
       "\\item 1\n",
       "\\item 2\n",
       "\\item 3\n",
       "\\end{enumerate*}\n"
      ],
      "text/markdown": [
       "1. 1\n",
       "2. 2\n",
       "3. 3\n",
       "4. 1\n",
       "5. 2\n",
       "6. 3\n",
       "7. 1\n",
       "8. 2\n",
       "9. 3\n",
       "10. 1\n",
       "11. 2\n",
       "12. 3\n",
       "\n",
       "\n"
      ],
      "text/plain": [
       " [1] 1 2 3 1 2 3 1 2 3 1 2 3"
      ]
     },
     "metadata": {},
     "output_type": "display_data"
    }
   ],
   "source": [
    "rep(1:3,times=4)"
   ]
  },
  {
   "cell_type": "code",
   "execution_count": 43,
   "metadata": {},
   "outputs": [
    {
     "data": {
      "text/html": [
       "<ol class=list-inline>\n",
       "\t<li>1</li>\n",
       "\t<li>1</li>\n",
       "\t<li>1</li>\n",
       "\t<li>1</li>\n",
       "\t<li>2</li>\n",
       "\t<li>2</li>\n",
       "\t<li>2</li>\n",
       "\t<li>2</li>\n",
       "\t<li>3</li>\n",
       "\t<li>3</li>\n",
       "\t<li>3</li>\n",
       "\t<li>3</li>\n",
       "</ol>\n"
      ],
      "text/latex": [
       "\\begin{enumerate*}\n",
       "\\item 1\n",
       "\\item 1\n",
       "\\item 1\n",
       "\\item 1\n",
       "\\item 2\n",
       "\\item 2\n",
       "\\item 2\n",
       "\\item 2\n",
       "\\item 3\n",
       "\\item 3\n",
       "\\item 3\n",
       "\\item 3\n",
       "\\end{enumerate*}\n"
      ],
      "text/markdown": [
       "1. 1\n",
       "2. 1\n",
       "3. 1\n",
       "4. 1\n",
       "5. 2\n",
       "6. 2\n",
       "7. 2\n",
       "8. 2\n",
       "9. 3\n",
       "10. 3\n",
       "11. 3\n",
       "12. 3\n",
       "\n",
       "\n"
      ],
      "text/plain": [
       " [1] 1 1 1 1 2 2 2 2 3 3 3 3"
      ]
     },
     "metadata": {},
     "output_type": "display_data"
    }
   ],
   "source": [
    "rep(1:3,each=4)"
   ]
  },
  {
   "cell_type": "markdown",
   "metadata": {},
   "source": [
    "## Les tableaux (*dataframe*)\n",
    "\n",
    "*Attention : Pour que les commandes de cette partie s'exécutent correctement, il faut enregistrer les fichiers **monfichier.txt**, **monfichier2.txt** et **monfichier3.txt** dans le même dossier où ce notebook est enregistré.*\n",
    "\n",
    "Le tableau ou *dataframe* est l'objet de référence en statistique, car il permet de gérer les observations de plusieurs variables sur une collection d'individus.\n",
    "Conceptuellement, c'est une\n",
    "matrice dont les lignes correspondent aux individus et les colonnes aux variables\n",
    "(ou caractères) mesurées sur ces derniers.\n",
    " Chaque colonne représente une\n",
    "variable particulière dont tous les éléments sont du même type, mais chaque colonne peut avoir un type différent. \n",
    "\n",
    "\n",
    "On peut créer un tableau de données en utilisant la fonction **data.frame**, mais le plus souvent on obtient un tableau comme résultat d'une importation de données.\n",
    "En pratique, les données d'une expérience statistique sont généralement enregistrées dans un fichier ASCII (fichier *.txt*)  sous forme de tableau en utilisant un logiciel comme Excel.\n",
    "  R permet de lire des fichiers externes pour les analyser par la suite. \n",
    "  \n",
    "Considérons le fichier **monfichier.txt** qui contient le   tableau de données suivant :"
   ]
  },
  {
   "cell_type": "raw",
   "metadata": {},
   "source": [
    "1    33   170    70     1     0   0.52  occas\t\n",
    "2    33   177    67     2     0   0.42  occas\t\n",
    "2    53   164    63     1     0   0.65  non\t\n",
    "2    42   169    76     1     1   0.48  occas\t\n",
    "2    53   152    54     0     0   0.45  occas\t"
   ]
  },
  {
   "cell_type": "markdown",
   "metadata": {},
   "source": [
    "La fonction **read.table** permet de lire et d'importer sous R les données. Si  le fichier *monfichier.txt* est  enregistré dans le répertoire de travail, l'importation des données sous  R se fait par l'instruction"
   ]
  },
  {
   "cell_type": "code",
   "execution_count": 44,
   "metadata": {},
   "outputs": [],
   "source": [
    "MesDonnees <- read.table(file= \"monfichier.txt\")"
   ]
  },
  {
   "cell_type": "markdown",
   "metadata": {},
   "source": [
    "Il est indispensable de mettre le nom du fichier entre guillemets \" (ou entre apostrophes ') pour indiquer à  R  qu'il s'agit d'une chaîne de caractères. \n",
    "\n",
    "Désormais le tableau de données est disponible sous R dans l'objet nommé **MesDonnees**.\n",
    "\n",
    "\n"
   ]
  },
  {
   "cell_type": "code",
   "execution_count": 45,
   "metadata": {},
   "outputs": [
    {
     "data": {
      "text/html": [
       "<table>\n",
       "<thead><tr><th scope=col>V1</th><th scope=col>V2</th><th scope=col>V3</th><th scope=col>V4</th><th scope=col>V5</th><th scope=col>V6</th><th scope=col>V7</th><th scope=col>V8</th></tr></thead>\n",
       "<tbody>\n",
       "\t<tr><td>1    </td><td>33   </td><td>170  </td><td>70   </td><td>1    </td><td>0    </td><td>0.52 </td><td>occas</td></tr>\n",
       "\t<tr><td>2    </td><td>33   </td><td>177  </td><td>67   </td><td>2    </td><td>0    </td><td>0.42 </td><td>occas</td></tr>\n",
       "\t<tr><td>2    </td><td>53   </td><td>164  </td><td>63   </td><td>1    </td><td>0    </td><td>0.65 </td><td>non  </td></tr>\n",
       "\t<tr><td>2    </td><td>42   </td><td>169  </td><td>76   </td><td>1    </td><td>1    </td><td>0.48 </td><td>occas</td></tr>\n",
       "\t<tr><td>2    </td><td>53   </td><td>152  </td><td>54   </td><td>0    </td><td>0    </td><td>0.45 </td><td>occas</td></tr>\n",
       "</tbody>\n",
       "</table>\n"
      ],
      "text/latex": [
       "\\begin{tabular}{r|llllllll}\n",
       " V1 & V2 & V3 & V4 & V5 & V6 & V7 & V8\\\\\n",
       "\\hline\n",
       "\t 1     & 33    & 170   & 70    & 1     & 0     & 0.52  & occas\\\\\n",
       "\t 2     & 33    & 177   & 67    & 2     & 0     & 0.42  & occas\\\\\n",
       "\t 2     & 53    & 164   & 63    & 1     & 0     & 0.65  & non  \\\\\n",
       "\t 2     & 42    & 169   & 76    & 1     & 1     & 0.48  & occas\\\\\n",
       "\t 2     & 53    & 152   & 54    & 0     & 0     & 0.45  & occas\\\\\n",
       "\\end{tabular}\n"
      ],
      "text/markdown": [
       "\n",
       "| V1 | V2 | V3 | V4 | V5 | V6 | V7 | V8 |\n",
       "|---|---|---|---|---|---|---|---|\n",
       "| 1     | 33    | 170   | 70    | 1     | 0     | 0.52  | occas |\n",
       "| 2     | 33    | 177   | 67    | 2     | 0     | 0.42  | occas |\n",
       "| 2     | 53    | 164   | 63    | 1     | 0     | 0.65  | non   |\n",
       "| 2     | 42    | 169   | 76    | 1     | 1     | 0.48  | occas |\n",
       "| 2     | 53    | 152   | 54    | 0     | 0     | 0.45  | occas |\n",
       "\n"
      ],
      "text/plain": [
       "  V1 V2 V3  V4 V5 V6 V7   V8   \n",
       "1 1  33 170 70 1  0  0.52 occas\n",
       "2 2  33 177 67 2  0  0.42 occas\n",
       "3 2  53 164 63 1  0  0.65 non  \n",
       "4 2  42 169 76 1  1  0.48 occas\n",
       "5 2  53 152 54 0  0  0.45 occas"
      ]
     },
     "metadata": {},
     "output_type": "display_data"
    }
   ],
   "source": [
    "MesDonnees"
   ]
  },
  {
   "cell_type": "markdown",
   "metadata": {},
   "source": [
    "**V1,...,V8** sont les noms des colonnes par défaut :"
   ]
  },
  {
   "cell_type": "code",
   "execution_count": 46,
   "metadata": {},
   "outputs": [
    {
     "data": {
      "text/html": [
       "<ol class=list-inline>\n",
       "\t<li>'V1'</li>\n",
       "\t<li>'V2'</li>\n",
       "\t<li>'V3'</li>\n",
       "\t<li>'V4'</li>\n",
       "\t<li>'V5'</li>\n",
       "\t<li>'V6'</li>\n",
       "\t<li>'V7'</li>\n",
       "\t<li>'V8'</li>\n",
       "</ol>\n"
      ],
      "text/latex": [
       "\\begin{enumerate*}\n",
       "\\item 'V1'\n",
       "\\item 'V2'\n",
       "\\item 'V3'\n",
       "\\item 'V4'\n",
       "\\item 'V5'\n",
       "\\item 'V6'\n",
       "\\item 'V7'\n",
       "\\item 'V8'\n",
       "\\end{enumerate*}\n"
      ],
      "text/markdown": [
       "1. 'V1'\n",
       "2. 'V2'\n",
       "3. 'V3'\n",
       "4. 'V4'\n",
       "5. 'V5'\n",
       "6. 'V6'\n",
       "7. 'V7'\n",
       "8. 'V8'\n",
       "\n",
       "\n"
      ],
      "text/plain": [
       "[1] \"V1\" \"V2\" \"V3\" \"V4\" \"V5\" \"V6\" \"V7\" \"V8\""
      ]
     },
     "metadata": {},
     "output_type": "display_data"
    }
   ],
   "source": [
    "names(MesDonnees)"
   ]
  },
  {
   "cell_type": "markdown",
   "metadata": {},
   "source": [
    "On peut les modifier par l'instruction suivante :"
   ]
  },
  {
   "cell_type": "code",
   "execution_count": 47,
   "metadata": {},
   "outputs": [
    {
     "data": {
      "text/html": [
       "<table>\n",
       "<thead><tr><th scope=col>sexe</th><th scope=col>age</th><th scope=col>taille</th><th scope=col>poids</th><th scope=col>tabac</th><th scope=col>sport</th><th scope=col>mesure</th><th scope=col>alcool</th></tr></thead>\n",
       "<tbody>\n",
       "\t<tr><td>1    </td><td>33   </td><td>170  </td><td>70   </td><td>1    </td><td>0    </td><td>0.52 </td><td>occas</td></tr>\n",
       "\t<tr><td>2    </td><td>33   </td><td>177  </td><td>67   </td><td>2    </td><td>0    </td><td>0.42 </td><td>occas</td></tr>\n",
       "\t<tr><td>2    </td><td>53   </td><td>164  </td><td>63   </td><td>1    </td><td>0    </td><td>0.65 </td><td>non  </td></tr>\n",
       "\t<tr><td>2    </td><td>42   </td><td>169  </td><td>76   </td><td>1    </td><td>1    </td><td>0.48 </td><td>occas</td></tr>\n",
       "\t<tr><td>2    </td><td>53   </td><td>152  </td><td>54   </td><td>0    </td><td>0    </td><td>0.45 </td><td>occas</td></tr>\n",
       "</tbody>\n",
       "</table>\n"
      ],
      "text/latex": [
       "\\begin{tabular}{r|llllllll}\n",
       " sexe & age & taille & poids & tabac & sport & mesure & alcool\\\\\n",
       "\\hline\n",
       "\t 1     & 33    & 170   & 70    & 1     & 0     & 0.52  & occas\\\\\n",
       "\t 2     & 33    & 177   & 67    & 2     & 0     & 0.42  & occas\\\\\n",
       "\t 2     & 53    & 164   & 63    & 1     & 0     & 0.65  & non  \\\\\n",
       "\t 2     & 42    & 169   & 76    & 1     & 1     & 0.48  & occas\\\\\n",
       "\t 2     & 53    & 152   & 54    & 0     & 0     & 0.45  & occas\\\\\n",
       "\\end{tabular}\n"
      ],
      "text/markdown": [
       "\n",
       "| sexe | age | taille | poids | tabac | sport | mesure | alcool |\n",
       "|---|---|---|---|---|---|---|---|\n",
       "| 1     | 33    | 170   | 70    | 1     | 0     | 0.52  | occas |\n",
       "| 2     | 33    | 177   | 67    | 2     | 0     | 0.42  | occas |\n",
       "| 2     | 53    | 164   | 63    | 1     | 0     | 0.65  | non   |\n",
       "| 2     | 42    | 169   | 76    | 1     | 1     | 0.48  | occas |\n",
       "| 2     | 53    | 152   | 54    | 0     | 0     | 0.45  | occas |\n",
       "\n"
      ],
      "text/plain": [
       "  sexe age taille poids tabac sport mesure alcool\n",
       "1 1    33  170    70    1     0     0.52   occas \n",
       "2 2    33  177    67    2     0     0.42   occas \n",
       "3 2    53  164    63    1     0     0.65   non   \n",
       "4 2    42  169    76    1     1     0.48   occas \n",
       "5 2    53  152    54    0     0     0.45   occas "
      ]
     },
     "metadata": {},
     "output_type": "display_data"
    }
   ],
   "source": [
    "names(MesDonnees) <- c('sexe', 'age', 'taille', 'poids', 'tabac','sport', 'mesure', 'alcool')\n",
    "MesDonnees"
   ]
  },
  {
   "cell_type": "markdown",
   "metadata": {},
   "source": [
    "\n",
    "Mais tous les tableaux de données n'ont pas la forme du tableau ci-dessus.  Plusieurs options permettent de paramétrer précisément l'importation de données afin de pouvoir gérer différents formats de tableaux. \n",
    "\n",
    "Souvent la première ligne indique les noms des colonnes comme dans le tableau suivant :\n",
    "\n"
   ]
  },
  {
   "cell_type": "raw",
   "metadata": {},
   "source": [
    "sexe age  taille poids  tabac sport mesure alcool\t\n",
    "1    33   170    70     1     0     0.52   occas\t\n",
    "2    33   177    67     2     0     0.42   occas\t\n",
    "2    53   164    63     1     0     0.65   non"
   ]
  },
  {
   "cell_type": "markdown",
   "metadata": {},
   "source": [
    "Pour importer ce tableau (enregistré dans le répertoire de travail sous le nom *monfichier2.txt*), on rajoute l'option **header=TRUE** :"
   ]
  },
  {
   "cell_type": "code",
   "execution_count": 48,
   "metadata": {},
   "outputs": [
    {
     "data": {
      "text/html": [
       "<table>\n",
       "<thead><tr><th scope=col>ï..sexe</th><th scope=col>age</th><th scope=col>taille</th><th scope=col>poids</th><th scope=col>tabac</th><th scope=col>sport</th><th scope=col>mesure</th><th scope=col>alcool</th></tr></thead>\n",
       "<tbody>\n",
       "\t<tr><td>1    </td><td>33   </td><td>170  </td><td>70   </td><td>1    </td><td>0    </td><td>0.52 </td><td>occas</td></tr>\n",
       "\t<tr><td>2    </td><td>33   </td><td>177  </td><td>67   </td><td>2    </td><td>0    </td><td>0.42 </td><td>occas</td></tr>\n",
       "\t<tr><td>2    </td><td>53   </td><td>164  </td><td>63   </td><td>1    </td><td>0    </td><td>0.65 </td><td>non  </td></tr>\n",
       "</tbody>\n",
       "</table>\n"
      ],
      "text/latex": [
       "\\begin{tabular}{r|llllllll}\n",
       " ï..sexe & age & taille & poids & tabac & sport & mesure & alcool\\\\\n",
       "\\hline\n",
       "\t 1     & 33    & 170   & 70    & 1     & 0     & 0.52  & occas\\\\\n",
       "\t 2     & 33    & 177   & 67    & 2     & 0     & 0.42  & occas\\\\\n",
       "\t 2     & 53    & 164   & 63    & 1     & 0     & 0.65  & non  \\\\\n",
       "\\end{tabular}\n"
      ],
      "text/markdown": [
       "\n",
       "| ï..sexe | age | taille | poids | tabac | sport | mesure | alcool |\n",
       "|---|---|---|---|---|---|---|---|\n",
       "| 1     | 33    | 170   | 70    | 1     | 0     | 0.52  | occas |\n",
       "| 2     | 33    | 177   | 67    | 2     | 0     | 0.42  | occas |\n",
       "| 2     | 53    | 164   | 63    | 1     | 0     | 0.65  | non   |\n",
       "\n"
      ],
      "text/plain": [
       "  ï..sexe age taille poids tabac sport mesure alcool\n",
       "1 1       33  170    70    1     0     0.52   occas \n",
       "2 2       33  177    67    2     0     0.42   occas \n",
       "3 2       53  164    63    1     0     0.65   non   "
      ]
     },
     "metadata": {},
     "output_type": "display_data"
    }
   ],
   "source": [
    "MesDonnees2 <- read.table(file= \"monfichier2.txt\", header=TRUE)\n",
    "MesDonnees2"
   ]
  },
  {
   "cell_type": "markdown",
   "metadata": {},
   "source": [
    "Le contenu de la première ligne n'est alors  pas considéré comme des valeurs de mesure, mais comme des noms de variables.\n",
    "\n",
    "Dans l'exemple précédent, les différentes valeurs sont séparées par la tabulation (**\\t**), mais d'autres caractères peuvent être utilisés comme *séparateur*  afin de pouvoir  distinguer les valeurs entre elles. Voici par exemple le tableau du fichier *monfichier3.txt* :\n",
    "\n"
   ]
  },
  {
   "cell_type": "raw",
   "metadata": {},
   "source": [
    "SEXE;AGE;taille;poids;tabac;SPORT;mesure;alcool\n",
    "1;33;170;70;1;0;0.52;occas\n",
    "2;33;177;67;2;0;0.42;occas\n",
    "2;53;164;63;1;0;0.65;non"
   ]
  },
  {
   "cell_type": "markdown",
   "metadata": {},
   "source": [
    "On indique le séparateur (ici **;**) au logiciel avec  l'option **sep =\";\"** :"
   ]
  },
  {
   "cell_type": "code",
   "execution_count": 49,
   "metadata": {},
   "outputs": [
    {
     "data": {
      "text/html": [
       "<table>\n",
       "<thead><tr><th scope=col>ï..SEXE</th><th scope=col>AGE</th><th scope=col>taille</th><th scope=col>poids</th><th scope=col>tabac</th><th scope=col>SPORT</th><th scope=col>mesure</th><th scope=col>alcool</th></tr></thead>\n",
       "<tbody>\n",
       "\t<tr><td>1     </td><td>33    </td><td>170   </td><td>70    </td><td>1     </td><td>0     </td><td>0.52  </td><td>occas\t</td></tr>\n",
       "\t<tr><td>2     </td><td>33    </td><td>177   </td><td>67    </td><td>2     </td><td>0     </td><td>0.42  </td><td>occas\t</td></tr>\n",
       "\t<tr><td>2     </td><td>53    </td><td>164   </td><td>63    </td><td>1     </td><td>0     </td><td>0.65  </td><td>non   </td></tr>\n",
       "</tbody>\n",
       "</table>\n"
      ],
      "text/latex": [
       "\\begin{tabular}{r|llllllll}\n",
       " ï..SEXE & AGE & taille & poids & tabac & SPORT & mesure & alcool\\\\\n",
       "\\hline\n",
       "\t 1      & 33     & 170    & 70     & 1      & 0      & 0.52   & occas\t\\\\\n",
       "\t 2      & 33     & 177    & 67     & 2      & 0      & 0.42   & occas\t\\\\\n",
       "\t 2      & 53     & 164    & 63     & 1      & 0      & 0.65   & non   \\\\\n",
       "\\end{tabular}\n"
      ],
      "text/markdown": [
       "\n",
       "| ï..SEXE | AGE | taille | poids | tabac | SPORT | mesure | alcool |\n",
       "|---|---|---|---|---|---|---|---|\n",
       "| 1      | 33     | 170    | 70     | 1      | 0      | 0.52   | occas\t |\n",
       "| 2      | 33     | 177    | 67     | 2      | 0      | 0.42   | occas\t |\n",
       "| 2      | 53     | 164    | 63     | 1      | 0      | 0.65   | non    |\n",
       "\n"
      ],
      "text/plain": [
       "  ï..SEXE AGE taille poids tabac SPORT mesure alcool\n",
       "1 1       33  170    70    1     0     0.52   occas\\t\n",
       "2 2       33  177    67    2     0     0.42   occas\\t\n",
       "3 2       53  164    63    1     0     0.65   non   "
      ]
     },
     "metadata": {},
     "output_type": "display_data"
    }
   ],
   "source": [
    "MesDonnees3 <- read.table(file= \"monfichier3.txt\", header=TRUE, sep =\";\")\n",
    "MesDonnees3"
   ]
  },
  {
   "cell_type": "markdown",
   "metadata": {},
   "source": [
    "En toute  généralité, pour l'importation des données, il est primordial de commencer par ouvrir et  regarder le fichier texte de départ afin de bien déterminer les options nécessaires pour que l'importation sous  R se fasse correctement.\n",
    "\n",
    "\n",
    "### Entraînement 3\n",
    "On considère un tableau de données qui  renseigne quelques caractéristiques de cathédrales anglaises. Plus précisément, le tableau contient le nom de la cathédrale, son style  d'architecture (gothique ou romane) et   les dimensions de celle-ci (en pied).\n",
    "- Ouvrez RStudio et changez le répertoire de travail.\n",
    "- Rendez-vous sur Moodle, téléchargez le tableau *cathedral.txt* et enregistrez-le dans votre répertoire de travail. \n",
    "- Afin d'importer le tableau sous R, ouvrez d'abord le fichier *cathedral.txt* pour déterminer les options de la fonction **read.table( )** (notamment  *header*  et *sep*). \n",
    "- Retournez dans RStudio et  importez les données sous forme d'un dataframe, que vous nommez  **cath**.\n",
    "-  Pour vous familiariser avec le tableau de données, \n",
    "    * utiliser la fonction  **class( )** pour vérifier le type de l'objet  **cath**,\n",
    "    * utilisez les fonctions  **nrow( )**, **ncol( )** ou **dim( )** pour connaître le nombre de variables  et le nombre de cathédrales de ce  jeu de données,\n",
    "    * utilisez  la fonction **names( )** pour connaitre les  noms des variables\n",
    "    \n",
    "## Manipulation d'un dataframe\n",
    "\n",
    "Afin d'illustrer certaines commandes pour les dataframes, nous chargeons par la commande suivante le jeu de données **ToothGrowth** (disponible dans la librairie datasets) :"
   ]
  },
  {
   "cell_type": "code",
   "execution_count": 50,
   "metadata": {},
   "outputs": [
    {
     "data": {
      "text/html": [
       "<table>\n",
       "<thead><tr><th scope=col>len</th><th scope=col>supp</th><th scope=col>dose</th></tr></thead>\n",
       "<tbody>\n",
       "\t<tr><td> 4.2</td><td>VC  </td><td>0.5 </td></tr>\n",
       "\t<tr><td>11.5</td><td>VC  </td><td>0.5 </td></tr>\n",
       "\t<tr><td> 7.3</td><td>VC  </td><td>0.5 </td></tr>\n",
       "\t<tr><td> 5.8</td><td>VC  </td><td>0.5 </td></tr>\n",
       "\t<tr><td> 6.4</td><td>VC  </td><td>0.5 </td></tr>\n",
       "\t<tr><td>10.0</td><td>VC  </td><td>0.5 </td></tr>\n",
       "</tbody>\n",
       "</table>\n"
      ],
      "text/latex": [
       "\\begin{tabular}{r|lll}\n",
       " len & supp & dose\\\\\n",
       "\\hline\n",
       "\t  4.2 & VC   & 0.5 \\\\\n",
       "\t 11.5 & VC   & 0.5 \\\\\n",
       "\t  7.3 & VC   & 0.5 \\\\\n",
       "\t  5.8 & VC   & 0.5 \\\\\n",
       "\t  6.4 & VC   & 0.5 \\\\\n",
       "\t 10.0 & VC   & 0.5 \\\\\n",
       "\\end{tabular}\n"
      ],
      "text/markdown": [
       "\n",
       "| len | supp | dose |\n",
       "|---|---|---|\n",
       "|  4.2 | VC   | 0.5  |\n",
       "| 11.5 | VC   | 0.5  |\n",
       "|  7.3 | VC   | 0.5  |\n",
       "|  5.8 | VC   | 0.5  |\n",
       "|  6.4 | VC   | 0.5  |\n",
       "| 10.0 | VC   | 0.5  |\n",
       "\n"
      ],
      "text/plain": [
       "  len  supp dose\n",
       "1  4.2 VC   0.5 \n",
       "2 11.5 VC   0.5 \n",
       "3  7.3 VC   0.5 \n",
       "4  5.8 VC   0.5 \n",
       "5  6.4 VC   0.5 \n",
       "6 10.0 VC   0.5 "
      ]
     },
     "metadata": {},
     "output_type": "display_data"
    }
   ],
   "source": [
    "library(datasets)\n",
    "head(ToothGrowth)"
   ]
  },
  {
   "cell_type": "markdown",
   "metadata": {},
   "source": [
    "La fonction **head()** permet d'afficher les 5 premières lignes d'un dataframe (c'est pratique notamment quand le tableau est très grand).\n",
    "\n",
    "\n",
    "Ce jeu de données est le résultat d'une étude sur l'impact de la vitamine C sur la croissance des dents. Dans le cadre de cette étude, 60 cochons ont reçu des doses variées de vitamine C (0.5, 1 ou 2 mg/jour), soit sous forme de jus d'orange (**OJ**), soit sous forme d'acide ascorbique (**VC**). À la fin de l'étude, la longueur des dents des cochons a été mesurée.\n",
    "\n",
    "\n",
    "L'accès aux variables (colonnes) d'un tableau se fait avec le symbole $ et le nom de la variable :\n",
    "\n",
    "\n"
   ]
  },
  {
   "cell_type": "code",
   "execution_count": 51,
   "metadata": {},
   "outputs": [
    {
     "data": {
      "text/html": [
       "<ol class=list-inline>\n",
       "\t<li>4.2</li>\n",
       "\t<li>11.5</li>\n",
       "\t<li>7.3</li>\n",
       "\t<li>5.8</li>\n",
       "\t<li>6.4</li>\n",
       "\t<li>10</li>\n",
       "\t<li>11.2</li>\n",
       "\t<li>11.2</li>\n",
       "\t<li>5.2</li>\n",
       "\t<li>7</li>\n",
       "\t<li>16.5</li>\n",
       "\t<li>16.5</li>\n",
       "\t<li>15.2</li>\n",
       "\t<li>17.3</li>\n",
       "\t<li>22.5</li>\n",
       "\t<li>17.3</li>\n",
       "\t<li>13.6</li>\n",
       "\t<li>14.5</li>\n",
       "\t<li>18.8</li>\n",
       "\t<li>15.5</li>\n",
       "\t<li>23.6</li>\n",
       "\t<li>18.5</li>\n",
       "\t<li>33.9</li>\n",
       "\t<li>25.5</li>\n",
       "\t<li>26.4</li>\n",
       "\t<li>32.5</li>\n",
       "\t<li>26.7</li>\n",
       "\t<li>21.5</li>\n",
       "\t<li>23.3</li>\n",
       "\t<li>29.5</li>\n",
       "\t<li>15.2</li>\n",
       "\t<li>21.5</li>\n",
       "\t<li>17.6</li>\n",
       "\t<li>9.7</li>\n",
       "\t<li>14.5</li>\n",
       "\t<li>10</li>\n",
       "\t<li>8.2</li>\n",
       "\t<li>9.4</li>\n",
       "\t<li>16.5</li>\n",
       "\t<li>9.7</li>\n",
       "\t<li>19.7</li>\n",
       "\t<li>23.3</li>\n",
       "\t<li>23.6</li>\n",
       "\t<li>26.4</li>\n",
       "\t<li>20</li>\n",
       "\t<li>25.2</li>\n",
       "\t<li>25.8</li>\n",
       "\t<li>21.2</li>\n",
       "\t<li>14.5</li>\n",
       "\t<li>27.3</li>\n",
       "\t<li>25.5</li>\n",
       "\t<li>26.4</li>\n",
       "\t<li>22.4</li>\n",
       "\t<li>24.5</li>\n",
       "\t<li>24.8</li>\n",
       "\t<li>30.9</li>\n",
       "\t<li>26.4</li>\n",
       "\t<li>27.3</li>\n",
       "\t<li>29.4</li>\n",
       "\t<li>23</li>\n",
       "</ol>\n"
      ],
      "text/latex": [
       "\\begin{enumerate*}\n",
       "\\item 4.2\n",
       "\\item 11.5\n",
       "\\item 7.3\n",
       "\\item 5.8\n",
       "\\item 6.4\n",
       "\\item 10\n",
       "\\item 11.2\n",
       "\\item 11.2\n",
       "\\item 5.2\n",
       "\\item 7\n",
       "\\item 16.5\n",
       "\\item 16.5\n",
       "\\item 15.2\n",
       "\\item 17.3\n",
       "\\item 22.5\n",
       "\\item 17.3\n",
       "\\item 13.6\n",
       "\\item 14.5\n",
       "\\item 18.8\n",
       "\\item 15.5\n",
       "\\item 23.6\n",
       "\\item 18.5\n",
       "\\item 33.9\n",
       "\\item 25.5\n",
       "\\item 26.4\n",
       "\\item 32.5\n",
       "\\item 26.7\n",
       "\\item 21.5\n",
       "\\item 23.3\n",
       "\\item 29.5\n",
       "\\item 15.2\n",
       "\\item 21.5\n",
       "\\item 17.6\n",
       "\\item 9.7\n",
       "\\item 14.5\n",
       "\\item 10\n",
       "\\item 8.2\n",
       "\\item 9.4\n",
       "\\item 16.5\n",
       "\\item 9.7\n",
       "\\item 19.7\n",
       "\\item 23.3\n",
       "\\item 23.6\n",
       "\\item 26.4\n",
       "\\item 20\n",
       "\\item 25.2\n",
       "\\item 25.8\n",
       "\\item 21.2\n",
       "\\item 14.5\n",
       "\\item 27.3\n",
       "\\item 25.5\n",
       "\\item 26.4\n",
       "\\item 22.4\n",
       "\\item 24.5\n",
       "\\item 24.8\n",
       "\\item 30.9\n",
       "\\item 26.4\n",
       "\\item 27.3\n",
       "\\item 29.4\n",
       "\\item 23\n",
       "\\end{enumerate*}\n"
      ],
      "text/markdown": [
       "1. 4.2\n",
       "2. 11.5\n",
       "3. 7.3\n",
       "4. 5.8\n",
       "5. 6.4\n",
       "6. 10\n",
       "7. 11.2\n",
       "8. 11.2\n",
       "9. 5.2\n",
       "10. 7\n",
       "11. 16.5\n",
       "12. 16.5\n",
       "13. 15.2\n",
       "14. 17.3\n",
       "15. 22.5\n",
       "16. 17.3\n",
       "17. 13.6\n",
       "18. 14.5\n",
       "19. 18.8\n",
       "20. 15.5\n",
       "21. 23.6\n",
       "22. 18.5\n",
       "23. 33.9\n",
       "24. 25.5\n",
       "25. 26.4\n",
       "26. 32.5\n",
       "27. 26.7\n",
       "28. 21.5\n",
       "29. 23.3\n",
       "30. 29.5\n",
       "31. 15.2\n",
       "32. 21.5\n",
       "33. 17.6\n",
       "34. 9.7\n",
       "35. 14.5\n",
       "36. 10\n",
       "37. 8.2\n",
       "38. 9.4\n",
       "39. 16.5\n",
       "40. 9.7\n",
       "41. 19.7\n",
       "42. 23.3\n",
       "43. 23.6\n",
       "44. 26.4\n",
       "45. 20\n",
       "46. 25.2\n",
       "47. 25.8\n",
       "48. 21.2\n",
       "49. 14.5\n",
       "50. 27.3\n",
       "51. 25.5\n",
       "52. 26.4\n",
       "53. 22.4\n",
       "54. 24.5\n",
       "55. 24.8\n",
       "56. 30.9\n",
       "57. 26.4\n",
       "58. 27.3\n",
       "59. 29.4\n",
       "60. 23\n",
       "\n",
       "\n"
      ],
      "text/plain": [
       " [1]  4.2 11.5  7.3  5.8  6.4 10.0 11.2 11.2  5.2  7.0 16.5 16.5 15.2 17.3 22.5\n",
       "[16] 17.3 13.6 14.5 18.8 15.5 23.6 18.5 33.9 25.5 26.4 32.5 26.7 21.5 23.3 29.5\n",
       "[31] 15.2 21.5 17.6  9.7 14.5 10.0  8.2  9.4 16.5  9.7 19.7 23.3 23.6 26.4 20.0\n",
       "[46] 25.2 25.8 21.2 14.5 27.3 25.5 26.4 22.4 24.5 24.8 30.9 26.4 27.3 29.4 23.0"
      ]
     },
     "metadata": {},
     "output_type": "display_data"
    }
   ],
   "source": [
    "ToothGrowth$len"
   ]
  },
  {
   "cell_type": "markdown",
   "metadata": {},
   "source": [
    "Notez que  **ToothGrowth\\$len** est un objet de type vecteur.\n",
    "\n",
    "Pour accéder à une colonne, on peut aussi utiliser la commande suivante à l'aide des crochets. Par exemple, "
   ]
  },
  {
   "cell_type": "code",
   "execution_count": 52,
   "metadata": {},
   "outputs": [
    {
     "data": {
      "text/html": [
       "<ol class=list-inline>\n",
       "\t<li>4.2</li>\n",
       "\t<li>11.5</li>\n",
       "\t<li>7.3</li>\n",
       "\t<li>5.8</li>\n",
       "\t<li>6.4</li>\n",
       "\t<li>10</li>\n",
       "\t<li>11.2</li>\n",
       "\t<li>11.2</li>\n",
       "\t<li>5.2</li>\n",
       "\t<li>7</li>\n",
       "\t<li>16.5</li>\n",
       "\t<li>16.5</li>\n",
       "\t<li>15.2</li>\n",
       "\t<li>17.3</li>\n",
       "\t<li>22.5</li>\n",
       "\t<li>17.3</li>\n",
       "\t<li>13.6</li>\n",
       "\t<li>14.5</li>\n",
       "\t<li>18.8</li>\n",
       "\t<li>15.5</li>\n",
       "\t<li>23.6</li>\n",
       "\t<li>18.5</li>\n",
       "\t<li>33.9</li>\n",
       "\t<li>25.5</li>\n",
       "\t<li>26.4</li>\n",
       "\t<li>32.5</li>\n",
       "\t<li>26.7</li>\n",
       "\t<li>21.5</li>\n",
       "\t<li>23.3</li>\n",
       "\t<li>29.5</li>\n",
       "\t<li>15.2</li>\n",
       "\t<li>21.5</li>\n",
       "\t<li>17.6</li>\n",
       "\t<li>9.7</li>\n",
       "\t<li>14.5</li>\n",
       "\t<li>10</li>\n",
       "\t<li>8.2</li>\n",
       "\t<li>9.4</li>\n",
       "\t<li>16.5</li>\n",
       "\t<li>9.7</li>\n",
       "\t<li>19.7</li>\n",
       "\t<li>23.3</li>\n",
       "\t<li>23.6</li>\n",
       "\t<li>26.4</li>\n",
       "\t<li>20</li>\n",
       "\t<li>25.2</li>\n",
       "\t<li>25.8</li>\n",
       "\t<li>21.2</li>\n",
       "\t<li>14.5</li>\n",
       "\t<li>27.3</li>\n",
       "\t<li>25.5</li>\n",
       "\t<li>26.4</li>\n",
       "\t<li>22.4</li>\n",
       "\t<li>24.5</li>\n",
       "\t<li>24.8</li>\n",
       "\t<li>30.9</li>\n",
       "\t<li>26.4</li>\n",
       "\t<li>27.3</li>\n",
       "\t<li>29.4</li>\n",
       "\t<li>23</li>\n",
       "</ol>\n"
      ],
      "text/latex": [
       "\\begin{enumerate*}\n",
       "\\item 4.2\n",
       "\\item 11.5\n",
       "\\item 7.3\n",
       "\\item 5.8\n",
       "\\item 6.4\n",
       "\\item 10\n",
       "\\item 11.2\n",
       "\\item 11.2\n",
       "\\item 5.2\n",
       "\\item 7\n",
       "\\item 16.5\n",
       "\\item 16.5\n",
       "\\item 15.2\n",
       "\\item 17.3\n",
       "\\item 22.5\n",
       "\\item 17.3\n",
       "\\item 13.6\n",
       "\\item 14.5\n",
       "\\item 18.8\n",
       "\\item 15.5\n",
       "\\item 23.6\n",
       "\\item 18.5\n",
       "\\item 33.9\n",
       "\\item 25.5\n",
       "\\item 26.4\n",
       "\\item 32.5\n",
       "\\item 26.7\n",
       "\\item 21.5\n",
       "\\item 23.3\n",
       "\\item 29.5\n",
       "\\item 15.2\n",
       "\\item 21.5\n",
       "\\item 17.6\n",
       "\\item 9.7\n",
       "\\item 14.5\n",
       "\\item 10\n",
       "\\item 8.2\n",
       "\\item 9.4\n",
       "\\item 16.5\n",
       "\\item 9.7\n",
       "\\item 19.7\n",
       "\\item 23.3\n",
       "\\item 23.6\n",
       "\\item 26.4\n",
       "\\item 20\n",
       "\\item 25.2\n",
       "\\item 25.8\n",
       "\\item 21.2\n",
       "\\item 14.5\n",
       "\\item 27.3\n",
       "\\item 25.5\n",
       "\\item 26.4\n",
       "\\item 22.4\n",
       "\\item 24.5\n",
       "\\item 24.8\n",
       "\\item 30.9\n",
       "\\item 26.4\n",
       "\\item 27.3\n",
       "\\item 29.4\n",
       "\\item 23\n",
       "\\end{enumerate*}\n"
      ],
      "text/markdown": [
       "1. 4.2\n",
       "2. 11.5\n",
       "3. 7.3\n",
       "4. 5.8\n",
       "5. 6.4\n",
       "6. 10\n",
       "7. 11.2\n",
       "8. 11.2\n",
       "9. 5.2\n",
       "10. 7\n",
       "11. 16.5\n",
       "12. 16.5\n",
       "13. 15.2\n",
       "14. 17.3\n",
       "15. 22.5\n",
       "16. 17.3\n",
       "17. 13.6\n",
       "18. 14.5\n",
       "19. 18.8\n",
       "20. 15.5\n",
       "21. 23.6\n",
       "22. 18.5\n",
       "23. 33.9\n",
       "24. 25.5\n",
       "25. 26.4\n",
       "26. 32.5\n",
       "27. 26.7\n",
       "28. 21.5\n",
       "29. 23.3\n",
       "30. 29.5\n",
       "31. 15.2\n",
       "32. 21.5\n",
       "33. 17.6\n",
       "34. 9.7\n",
       "35. 14.5\n",
       "36. 10\n",
       "37. 8.2\n",
       "38. 9.4\n",
       "39. 16.5\n",
       "40. 9.7\n",
       "41. 19.7\n",
       "42. 23.3\n",
       "43. 23.6\n",
       "44. 26.4\n",
       "45. 20\n",
       "46. 25.2\n",
       "47. 25.8\n",
       "48. 21.2\n",
       "49. 14.5\n",
       "50. 27.3\n",
       "51. 25.5\n",
       "52. 26.4\n",
       "53. 22.4\n",
       "54. 24.5\n",
       "55. 24.8\n",
       "56. 30.9\n",
       "57. 26.4\n",
       "58. 27.3\n",
       "59. 29.4\n",
       "60. 23\n",
       "\n",
       "\n"
      ],
      "text/plain": [
       " [1]  4.2 11.5  7.3  5.8  6.4 10.0 11.2 11.2  5.2  7.0 16.5 16.5 15.2 17.3 22.5\n",
       "[16] 17.3 13.6 14.5 18.8 15.5 23.6 18.5 33.9 25.5 26.4 32.5 26.7 21.5 23.3 29.5\n",
       "[31] 15.2 21.5 17.6  9.7 14.5 10.0  8.2  9.4 16.5  9.7 19.7 23.3 23.6 26.4 20.0\n",
       "[46] 25.2 25.8 21.2 14.5 27.3 25.5 26.4 22.4 24.5 24.8 30.9 26.4 27.3 29.4 23.0"
      ]
     },
     "metadata": {},
     "output_type": "display_data"
    }
   ],
   "source": [
    "ToothGrowth[,1]"
   ]
  },
  {
   "cell_type": "markdown",
   "metadata": {},
   "source": [
    "**Attention !** Cette commande n'est pas très intéressante pour accéder à une colonne, il est plus pratique d'utiliser le symbole $ et le nom de la variable. Elle est intéressante pour accéder à plusieurs colonnes en même temps ou supprimer une colonne"
   ]
  },
  {
   "cell_type": "code",
   "execution_count": 53,
   "metadata": {},
   "outputs": [
    {
     "data": {
      "text/html": [
       "<table>\n",
       "<thead><tr><th scope=col>len</th><th scope=col>supp</th></tr></thead>\n",
       "<tbody>\n",
       "\t<tr><td> 4.2</td><td>VC  </td></tr>\n",
       "\t<tr><td>11.5</td><td>VC  </td></tr>\n",
       "\t<tr><td> 7.3</td><td>VC  </td></tr>\n",
       "\t<tr><td> 5.8</td><td>VC  </td></tr>\n",
       "\t<tr><td> 6.4</td><td>VC  </td></tr>\n",
       "\t<tr><td>10.0</td><td>VC  </td></tr>\n",
       "\t<tr><td>11.2</td><td>VC  </td></tr>\n",
       "\t<tr><td>11.2</td><td>VC  </td></tr>\n",
       "\t<tr><td> 5.2</td><td>VC  </td></tr>\n",
       "\t<tr><td> 7.0</td><td>VC  </td></tr>\n",
       "\t<tr><td>16.5</td><td>VC  </td></tr>\n",
       "\t<tr><td>16.5</td><td>VC  </td></tr>\n",
       "\t<tr><td>15.2</td><td>VC  </td></tr>\n",
       "\t<tr><td>17.3</td><td>VC  </td></tr>\n",
       "\t<tr><td>22.5</td><td>VC  </td></tr>\n",
       "\t<tr><td>17.3</td><td>VC  </td></tr>\n",
       "\t<tr><td>13.6</td><td>VC  </td></tr>\n",
       "\t<tr><td>14.5</td><td>VC  </td></tr>\n",
       "\t<tr><td>18.8</td><td>VC  </td></tr>\n",
       "\t<tr><td>15.5</td><td>VC  </td></tr>\n",
       "\t<tr><td>23.6</td><td>VC  </td></tr>\n",
       "\t<tr><td>18.5</td><td>VC  </td></tr>\n",
       "\t<tr><td>33.9</td><td>VC  </td></tr>\n",
       "\t<tr><td>25.5</td><td>VC  </td></tr>\n",
       "\t<tr><td>26.4</td><td>VC  </td></tr>\n",
       "\t<tr><td>32.5</td><td>VC  </td></tr>\n",
       "\t<tr><td>26.7</td><td>VC  </td></tr>\n",
       "\t<tr><td>21.5</td><td>VC  </td></tr>\n",
       "\t<tr><td>23.3</td><td>VC  </td></tr>\n",
       "\t<tr><td>29.5</td><td>VC  </td></tr>\n",
       "\t<tr><td>15.2</td><td>OJ  </td></tr>\n",
       "\t<tr><td>21.5</td><td>OJ  </td></tr>\n",
       "\t<tr><td>17.6</td><td>OJ  </td></tr>\n",
       "\t<tr><td> 9.7</td><td>OJ  </td></tr>\n",
       "\t<tr><td>14.5</td><td>OJ  </td></tr>\n",
       "\t<tr><td>10.0</td><td>OJ  </td></tr>\n",
       "\t<tr><td> 8.2</td><td>OJ  </td></tr>\n",
       "\t<tr><td> 9.4</td><td>OJ  </td></tr>\n",
       "\t<tr><td>16.5</td><td>OJ  </td></tr>\n",
       "\t<tr><td> 9.7</td><td>OJ  </td></tr>\n",
       "\t<tr><td>19.7</td><td>OJ  </td></tr>\n",
       "\t<tr><td>23.3</td><td>OJ  </td></tr>\n",
       "\t<tr><td>23.6</td><td>OJ  </td></tr>\n",
       "\t<tr><td>26.4</td><td>OJ  </td></tr>\n",
       "\t<tr><td>20.0</td><td>OJ  </td></tr>\n",
       "\t<tr><td>25.2</td><td>OJ  </td></tr>\n",
       "\t<tr><td>25.8</td><td>OJ  </td></tr>\n",
       "\t<tr><td>21.2</td><td>OJ  </td></tr>\n",
       "\t<tr><td>14.5</td><td>OJ  </td></tr>\n",
       "\t<tr><td>27.3</td><td>OJ  </td></tr>\n",
       "\t<tr><td>25.5</td><td>OJ  </td></tr>\n",
       "\t<tr><td>26.4</td><td>OJ  </td></tr>\n",
       "\t<tr><td>22.4</td><td>OJ  </td></tr>\n",
       "\t<tr><td>24.5</td><td>OJ  </td></tr>\n",
       "\t<tr><td>24.8</td><td>OJ  </td></tr>\n",
       "\t<tr><td>30.9</td><td>OJ  </td></tr>\n",
       "\t<tr><td>26.4</td><td>OJ  </td></tr>\n",
       "\t<tr><td>27.3</td><td>OJ  </td></tr>\n",
       "\t<tr><td>29.4</td><td>OJ  </td></tr>\n",
       "\t<tr><td>23.0</td><td>OJ  </td></tr>\n",
       "</tbody>\n",
       "</table>\n"
      ],
      "text/latex": [
       "\\begin{tabular}{r|ll}\n",
       " len & supp\\\\\n",
       "\\hline\n",
       "\t  4.2 & VC  \\\\\n",
       "\t 11.5 & VC  \\\\\n",
       "\t  7.3 & VC  \\\\\n",
       "\t  5.8 & VC  \\\\\n",
       "\t  6.4 & VC  \\\\\n",
       "\t 10.0 & VC  \\\\\n",
       "\t 11.2 & VC  \\\\\n",
       "\t 11.2 & VC  \\\\\n",
       "\t  5.2 & VC  \\\\\n",
       "\t  7.0 & VC  \\\\\n",
       "\t 16.5 & VC  \\\\\n",
       "\t 16.5 & VC  \\\\\n",
       "\t 15.2 & VC  \\\\\n",
       "\t 17.3 & VC  \\\\\n",
       "\t 22.5 & VC  \\\\\n",
       "\t 17.3 & VC  \\\\\n",
       "\t 13.6 & VC  \\\\\n",
       "\t 14.5 & VC  \\\\\n",
       "\t 18.8 & VC  \\\\\n",
       "\t 15.5 & VC  \\\\\n",
       "\t 23.6 & VC  \\\\\n",
       "\t 18.5 & VC  \\\\\n",
       "\t 33.9 & VC  \\\\\n",
       "\t 25.5 & VC  \\\\\n",
       "\t 26.4 & VC  \\\\\n",
       "\t 32.5 & VC  \\\\\n",
       "\t 26.7 & VC  \\\\\n",
       "\t 21.5 & VC  \\\\\n",
       "\t 23.3 & VC  \\\\\n",
       "\t 29.5 & VC  \\\\\n",
       "\t 15.2 & OJ  \\\\\n",
       "\t 21.5 & OJ  \\\\\n",
       "\t 17.6 & OJ  \\\\\n",
       "\t  9.7 & OJ  \\\\\n",
       "\t 14.5 & OJ  \\\\\n",
       "\t 10.0 & OJ  \\\\\n",
       "\t  8.2 & OJ  \\\\\n",
       "\t  9.4 & OJ  \\\\\n",
       "\t 16.5 & OJ  \\\\\n",
       "\t  9.7 & OJ  \\\\\n",
       "\t 19.7 & OJ  \\\\\n",
       "\t 23.3 & OJ  \\\\\n",
       "\t 23.6 & OJ  \\\\\n",
       "\t 26.4 & OJ  \\\\\n",
       "\t 20.0 & OJ  \\\\\n",
       "\t 25.2 & OJ  \\\\\n",
       "\t 25.8 & OJ  \\\\\n",
       "\t 21.2 & OJ  \\\\\n",
       "\t 14.5 & OJ  \\\\\n",
       "\t 27.3 & OJ  \\\\\n",
       "\t 25.5 & OJ  \\\\\n",
       "\t 26.4 & OJ  \\\\\n",
       "\t 22.4 & OJ  \\\\\n",
       "\t 24.5 & OJ  \\\\\n",
       "\t 24.8 & OJ  \\\\\n",
       "\t 30.9 & OJ  \\\\\n",
       "\t 26.4 & OJ  \\\\\n",
       "\t 27.3 & OJ  \\\\\n",
       "\t 29.4 & OJ  \\\\\n",
       "\t 23.0 & OJ  \\\\\n",
       "\\end{tabular}\n"
      ],
      "text/markdown": [
       "\n",
       "| len | supp |\n",
       "|---|---|\n",
       "|  4.2 | VC   |\n",
       "| 11.5 | VC   |\n",
       "|  7.3 | VC   |\n",
       "|  5.8 | VC   |\n",
       "|  6.4 | VC   |\n",
       "| 10.0 | VC   |\n",
       "| 11.2 | VC   |\n",
       "| 11.2 | VC   |\n",
       "|  5.2 | VC   |\n",
       "|  7.0 | VC   |\n",
       "| 16.5 | VC   |\n",
       "| 16.5 | VC   |\n",
       "| 15.2 | VC   |\n",
       "| 17.3 | VC   |\n",
       "| 22.5 | VC   |\n",
       "| 17.3 | VC   |\n",
       "| 13.6 | VC   |\n",
       "| 14.5 | VC   |\n",
       "| 18.8 | VC   |\n",
       "| 15.5 | VC   |\n",
       "| 23.6 | VC   |\n",
       "| 18.5 | VC   |\n",
       "| 33.9 | VC   |\n",
       "| 25.5 | VC   |\n",
       "| 26.4 | VC   |\n",
       "| 32.5 | VC   |\n",
       "| 26.7 | VC   |\n",
       "| 21.5 | VC   |\n",
       "| 23.3 | VC   |\n",
       "| 29.5 | VC   |\n",
       "| 15.2 | OJ   |\n",
       "| 21.5 | OJ   |\n",
       "| 17.6 | OJ   |\n",
       "|  9.7 | OJ   |\n",
       "| 14.5 | OJ   |\n",
       "| 10.0 | OJ   |\n",
       "|  8.2 | OJ   |\n",
       "|  9.4 | OJ   |\n",
       "| 16.5 | OJ   |\n",
       "|  9.7 | OJ   |\n",
       "| 19.7 | OJ   |\n",
       "| 23.3 | OJ   |\n",
       "| 23.6 | OJ   |\n",
       "| 26.4 | OJ   |\n",
       "| 20.0 | OJ   |\n",
       "| 25.2 | OJ   |\n",
       "| 25.8 | OJ   |\n",
       "| 21.2 | OJ   |\n",
       "| 14.5 | OJ   |\n",
       "| 27.3 | OJ   |\n",
       "| 25.5 | OJ   |\n",
       "| 26.4 | OJ   |\n",
       "| 22.4 | OJ   |\n",
       "| 24.5 | OJ   |\n",
       "| 24.8 | OJ   |\n",
       "| 30.9 | OJ   |\n",
       "| 26.4 | OJ   |\n",
       "| 27.3 | OJ   |\n",
       "| 29.4 | OJ   |\n",
       "| 23.0 | OJ   |\n",
       "\n"
      ],
      "text/plain": [
       "   len  supp\n",
       "1   4.2 VC  \n",
       "2  11.5 VC  \n",
       "3   7.3 VC  \n",
       "4   5.8 VC  \n",
       "5   6.4 VC  \n",
       "6  10.0 VC  \n",
       "7  11.2 VC  \n",
       "8  11.2 VC  \n",
       "9   5.2 VC  \n",
       "10  7.0 VC  \n",
       "11 16.5 VC  \n",
       "12 16.5 VC  \n",
       "13 15.2 VC  \n",
       "14 17.3 VC  \n",
       "15 22.5 VC  \n",
       "16 17.3 VC  \n",
       "17 13.6 VC  \n",
       "18 14.5 VC  \n",
       "19 18.8 VC  \n",
       "20 15.5 VC  \n",
       "21 23.6 VC  \n",
       "22 18.5 VC  \n",
       "23 33.9 VC  \n",
       "24 25.5 VC  \n",
       "25 26.4 VC  \n",
       "26 32.5 VC  \n",
       "27 26.7 VC  \n",
       "28 21.5 VC  \n",
       "29 23.3 VC  \n",
       "30 29.5 VC  \n",
       "31 15.2 OJ  \n",
       "32 21.5 OJ  \n",
       "33 17.6 OJ  \n",
       "34  9.7 OJ  \n",
       "35 14.5 OJ  \n",
       "36 10.0 OJ  \n",
       "37  8.2 OJ  \n",
       "38  9.4 OJ  \n",
       "39 16.5 OJ  \n",
       "40  9.7 OJ  \n",
       "41 19.7 OJ  \n",
       "42 23.3 OJ  \n",
       "43 23.6 OJ  \n",
       "44 26.4 OJ  \n",
       "45 20.0 OJ  \n",
       "46 25.2 OJ  \n",
       "47 25.8 OJ  \n",
       "48 21.2 OJ  \n",
       "49 14.5 OJ  \n",
       "50 27.3 OJ  \n",
       "51 25.5 OJ  \n",
       "52 26.4 OJ  \n",
       "53 22.4 OJ  \n",
       "54 24.5 OJ  \n",
       "55 24.8 OJ  \n",
       "56 30.9 OJ  \n",
       "57 26.4 OJ  \n",
       "58 27.3 OJ  \n",
       "59 29.4 OJ  \n",
       "60 23.0 OJ  "
      ]
     },
     "metadata": {},
     "output_type": "display_data"
    },
    {
     "data": {
      "text/html": [
       "<table>\n",
       "<thead><tr><th scope=col>supp</th><th scope=col>dose</th></tr></thead>\n",
       "<tbody>\n",
       "\t<tr><td>VC </td><td>0.5</td></tr>\n",
       "\t<tr><td>VC </td><td>0.5</td></tr>\n",
       "\t<tr><td>VC </td><td>0.5</td></tr>\n",
       "\t<tr><td>VC </td><td>0.5</td></tr>\n",
       "\t<tr><td>VC </td><td>0.5</td></tr>\n",
       "\t<tr><td>VC </td><td>0.5</td></tr>\n",
       "\t<tr><td>VC </td><td>0.5</td></tr>\n",
       "\t<tr><td>VC </td><td>0.5</td></tr>\n",
       "\t<tr><td>VC </td><td>0.5</td></tr>\n",
       "\t<tr><td>VC </td><td>0.5</td></tr>\n",
       "\t<tr><td>VC </td><td>1.0</td></tr>\n",
       "\t<tr><td>VC </td><td>1.0</td></tr>\n",
       "\t<tr><td>VC </td><td>1.0</td></tr>\n",
       "\t<tr><td>VC </td><td>1.0</td></tr>\n",
       "\t<tr><td>VC </td><td>1.0</td></tr>\n",
       "\t<tr><td>VC </td><td>1.0</td></tr>\n",
       "\t<tr><td>VC </td><td>1.0</td></tr>\n",
       "\t<tr><td>VC </td><td>1.0</td></tr>\n",
       "\t<tr><td>VC </td><td>1.0</td></tr>\n",
       "\t<tr><td>VC </td><td>1.0</td></tr>\n",
       "\t<tr><td>VC </td><td>2.0</td></tr>\n",
       "\t<tr><td>VC </td><td>2.0</td></tr>\n",
       "\t<tr><td>VC </td><td>2.0</td></tr>\n",
       "\t<tr><td>VC </td><td>2.0</td></tr>\n",
       "\t<tr><td>VC </td><td>2.0</td></tr>\n",
       "\t<tr><td>VC </td><td>2.0</td></tr>\n",
       "\t<tr><td>VC </td><td>2.0</td></tr>\n",
       "\t<tr><td>VC </td><td>2.0</td></tr>\n",
       "\t<tr><td>VC </td><td>2.0</td></tr>\n",
       "\t<tr><td>VC </td><td>2.0</td></tr>\n",
       "\t<tr><td>OJ </td><td>0.5</td></tr>\n",
       "\t<tr><td>OJ </td><td>0.5</td></tr>\n",
       "\t<tr><td>OJ </td><td>0.5</td></tr>\n",
       "\t<tr><td>OJ </td><td>0.5</td></tr>\n",
       "\t<tr><td>OJ </td><td>0.5</td></tr>\n",
       "\t<tr><td>OJ </td><td>0.5</td></tr>\n",
       "\t<tr><td>OJ </td><td>0.5</td></tr>\n",
       "\t<tr><td>OJ </td><td>0.5</td></tr>\n",
       "\t<tr><td>OJ </td><td>0.5</td></tr>\n",
       "\t<tr><td>OJ </td><td>0.5</td></tr>\n",
       "\t<tr><td>OJ </td><td>1.0</td></tr>\n",
       "\t<tr><td>OJ </td><td>1.0</td></tr>\n",
       "\t<tr><td>OJ </td><td>1.0</td></tr>\n",
       "\t<tr><td>OJ </td><td>1.0</td></tr>\n",
       "\t<tr><td>OJ </td><td>1.0</td></tr>\n",
       "\t<tr><td>OJ </td><td>1.0</td></tr>\n",
       "\t<tr><td>OJ </td><td>1.0</td></tr>\n",
       "\t<tr><td>OJ </td><td>1.0</td></tr>\n",
       "\t<tr><td>OJ </td><td>1.0</td></tr>\n",
       "\t<tr><td>OJ </td><td>1.0</td></tr>\n",
       "\t<tr><td>OJ </td><td>2.0</td></tr>\n",
       "\t<tr><td>OJ </td><td>2.0</td></tr>\n",
       "\t<tr><td>OJ </td><td>2.0</td></tr>\n",
       "\t<tr><td>OJ </td><td>2.0</td></tr>\n",
       "\t<tr><td>OJ </td><td>2.0</td></tr>\n",
       "\t<tr><td>OJ </td><td>2.0</td></tr>\n",
       "\t<tr><td>OJ </td><td>2.0</td></tr>\n",
       "\t<tr><td>OJ </td><td>2.0</td></tr>\n",
       "\t<tr><td>OJ </td><td>2.0</td></tr>\n",
       "\t<tr><td>OJ </td><td>2.0</td></tr>\n",
       "</tbody>\n",
       "</table>\n"
      ],
      "text/latex": [
       "\\begin{tabular}{r|ll}\n",
       " supp & dose\\\\\n",
       "\\hline\n",
       "\t VC  & 0.5\\\\\n",
       "\t VC  & 0.5\\\\\n",
       "\t VC  & 0.5\\\\\n",
       "\t VC  & 0.5\\\\\n",
       "\t VC  & 0.5\\\\\n",
       "\t VC  & 0.5\\\\\n",
       "\t VC  & 0.5\\\\\n",
       "\t VC  & 0.5\\\\\n",
       "\t VC  & 0.5\\\\\n",
       "\t VC  & 0.5\\\\\n",
       "\t VC  & 1.0\\\\\n",
       "\t VC  & 1.0\\\\\n",
       "\t VC  & 1.0\\\\\n",
       "\t VC  & 1.0\\\\\n",
       "\t VC  & 1.0\\\\\n",
       "\t VC  & 1.0\\\\\n",
       "\t VC  & 1.0\\\\\n",
       "\t VC  & 1.0\\\\\n",
       "\t VC  & 1.0\\\\\n",
       "\t VC  & 1.0\\\\\n",
       "\t VC  & 2.0\\\\\n",
       "\t VC  & 2.0\\\\\n",
       "\t VC  & 2.0\\\\\n",
       "\t VC  & 2.0\\\\\n",
       "\t VC  & 2.0\\\\\n",
       "\t VC  & 2.0\\\\\n",
       "\t VC  & 2.0\\\\\n",
       "\t VC  & 2.0\\\\\n",
       "\t VC  & 2.0\\\\\n",
       "\t VC  & 2.0\\\\\n",
       "\t OJ  & 0.5\\\\\n",
       "\t OJ  & 0.5\\\\\n",
       "\t OJ  & 0.5\\\\\n",
       "\t OJ  & 0.5\\\\\n",
       "\t OJ  & 0.5\\\\\n",
       "\t OJ  & 0.5\\\\\n",
       "\t OJ  & 0.5\\\\\n",
       "\t OJ  & 0.5\\\\\n",
       "\t OJ  & 0.5\\\\\n",
       "\t OJ  & 0.5\\\\\n",
       "\t OJ  & 1.0\\\\\n",
       "\t OJ  & 1.0\\\\\n",
       "\t OJ  & 1.0\\\\\n",
       "\t OJ  & 1.0\\\\\n",
       "\t OJ  & 1.0\\\\\n",
       "\t OJ  & 1.0\\\\\n",
       "\t OJ  & 1.0\\\\\n",
       "\t OJ  & 1.0\\\\\n",
       "\t OJ  & 1.0\\\\\n",
       "\t OJ  & 1.0\\\\\n",
       "\t OJ  & 2.0\\\\\n",
       "\t OJ  & 2.0\\\\\n",
       "\t OJ  & 2.0\\\\\n",
       "\t OJ  & 2.0\\\\\n",
       "\t OJ  & 2.0\\\\\n",
       "\t OJ  & 2.0\\\\\n",
       "\t OJ  & 2.0\\\\\n",
       "\t OJ  & 2.0\\\\\n",
       "\t OJ  & 2.0\\\\\n",
       "\t OJ  & 2.0\\\\\n",
       "\\end{tabular}\n"
      ],
      "text/markdown": [
       "\n",
       "| supp | dose |\n",
       "|---|---|\n",
       "| VC  | 0.5 |\n",
       "| VC  | 0.5 |\n",
       "| VC  | 0.5 |\n",
       "| VC  | 0.5 |\n",
       "| VC  | 0.5 |\n",
       "| VC  | 0.5 |\n",
       "| VC  | 0.5 |\n",
       "| VC  | 0.5 |\n",
       "| VC  | 0.5 |\n",
       "| VC  | 0.5 |\n",
       "| VC  | 1.0 |\n",
       "| VC  | 1.0 |\n",
       "| VC  | 1.0 |\n",
       "| VC  | 1.0 |\n",
       "| VC  | 1.0 |\n",
       "| VC  | 1.0 |\n",
       "| VC  | 1.0 |\n",
       "| VC  | 1.0 |\n",
       "| VC  | 1.0 |\n",
       "| VC  | 1.0 |\n",
       "| VC  | 2.0 |\n",
       "| VC  | 2.0 |\n",
       "| VC  | 2.0 |\n",
       "| VC  | 2.0 |\n",
       "| VC  | 2.0 |\n",
       "| VC  | 2.0 |\n",
       "| VC  | 2.0 |\n",
       "| VC  | 2.0 |\n",
       "| VC  | 2.0 |\n",
       "| VC  | 2.0 |\n",
       "| OJ  | 0.5 |\n",
       "| OJ  | 0.5 |\n",
       "| OJ  | 0.5 |\n",
       "| OJ  | 0.5 |\n",
       "| OJ  | 0.5 |\n",
       "| OJ  | 0.5 |\n",
       "| OJ  | 0.5 |\n",
       "| OJ  | 0.5 |\n",
       "| OJ  | 0.5 |\n",
       "| OJ  | 0.5 |\n",
       "| OJ  | 1.0 |\n",
       "| OJ  | 1.0 |\n",
       "| OJ  | 1.0 |\n",
       "| OJ  | 1.0 |\n",
       "| OJ  | 1.0 |\n",
       "| OJ  | 1.0 |\n",
       "| OJ  | 1.0 |\n",
       "| OJ  | 1.0 |\n",
       "| OJ  | 1.0 |\n",
       "| OJ  | 1.0 |\n",
       "| OJ  | 2.0 |\n",
       "| OJ  | 2.0 |\n",
       "| OJ  | 2.0 |\n",
       "| OJ  | 2.0 |\n",
       "| OJ  | 2.0 |\n",
       "| OJ  | 2.0 |\n",
       "| OJ  | 2.0 |\n",
       "| OJ  | 2.0 |\n",
       "| OJ  | 2.0 |\n",
       "| OJ  | 2.0 |\n",
       "\n"
      ],
      "text/plain": [
       "   supp dose\n",
       "1  VC   0.5 \n",
       "2  VC   0.5 \n",
       "3  VC   0.5 \n",
       "4  VC   0.5 \n",
       "5  VC   0.5 \n",
       "6  VC   0.5 \n",
       "7  VC   0.5 \n",
       "8  VC   0.5 \n",
       "9  VC   0.5 \n",
       "10 VC   0.5 \n",
       "11 VC   1.0 \n",
       "12 VC   1.0 \n",
       "13 VC   1.0 \n",
       "14 VC   1.0 \n",
       "15 VC   1.0 \n",
       "16 VC   1.0 \n",
       "17 VC   1.0 \n",
       "18 VC   1.0 \n",
       "19 VC   1.0 \n",
       "20 VC   1.0 \n",
       "21 VC   2.0 \n",
       "22 VC   2.0 \n",
       "23 VC   2.0 \n",
       "24 VC   2.0 \n",
       "25 VC   2.0 \n",
       "26 VC   2.0 \n",
       "27 VC   2.0 \n",
       "28 VC   2.0 \n",
       "29 VC   2.0 \n",
       "30 VC   2.0 \n",
       "31 OJ   0.5 \n",
       "32 OJ   0.5 \n",
       "33 OJ   0.5 \n",
       "34 OJ   0.5 \n",
       "35 OJ   0.5 \n",
       "36 OJ   0.5 \n",
       "37 OJ   0.5 \n",
       "38 OJ   0.5 \n",
       "39 OJ   0.5 \n",
       "40 OJ   0.5 \n",
       "41 OJ   1.0 \n",
       "42 OJ   1.0 \n",
       "43 OJ   1.0 \n",
       "44 OJ   1.0 \n",
       "45 OJ   1.0 \n",
       "46 OJ   1.0 \n",
       "47 OJ   1.0 \n",
       "48 OJ   1.0 \n",
       "49 OJ   1.0 \n",
       "50 OJ   1.0 \n",
       "51 OJ   2.0 \n",
       "52 OJ   2.0 \n",
       "53 OJ   2.0 \n",
       "54 OJ   2.0 \n",
       "55 OJ   2.0 \n",
       "56 OJ   2.0 \n",
       "57 OJ   2.0 \n",
       "58 OJ   2.0 \n",
       "59 OJ   2.0 \n",
       "60 OJ   2.0 "
      ]
     },
     "metadata": {},
     "output_type": "display_data"
    }
   ],
   "source": [
    "ToothGrowth[,1:2]\n",
    "ToothGrowth[,-1]"
   ]
  },
  {
   "cell_type": "markdown",
   "metadata": {},
   "source": [
    "L'accès aux lignes se fait avec les crochets :"
   ]
  },
  {
   "cell_type": "code",
   "execution_count": 54,
   "metadata": {},
   "outputs": [
    {
     "data": {
      "text/html": [
       "<table>\n",
       "<thead><tr><th scope=col>len</th><th scope=col>supp</th><th scope=col>dose</th></tr></thead>\n",
       "<tbody>\n",
       "\t<tr><td> 4.2</td><td>VC  </td><td>0.5 </td></tr>\n",
       "\t<tr><td>11.5</td><td>VC  </td><td>0.5 </td></tr>\n",
       "\t<tr><td> 7.3</td><td>VC  </td><td>0.5 </td></tr>\n",
       "</tbody>\n",
       "</table>\n"
      ],
      "text/latex": [
       "\\begin{tabular}{r|lll}\n",
       " len & supp & dose\\\\\n",
       "\\hline\n",
       "\t  4.2 & VC   & 0.5 \\\\\n",
       "\t 11.5 & VC   & 0.5 \\\\\n",
       "\t  7.3 & VC   & 0.5 \\\\\n",
       "\\end{tabular}\n"
      ],
      "text/markdown": [
       "\n",
       "| len | supp | dose |\n",
       "|---|---|---|\n",
       "|  4.2 | VC   | 0.5  |\n",
       "| 11.5 | VC   | 0.5  |\n",
       "|  7.3 | VC   | 0.5  |\n",
       "\n"
      ],
      "text/plain": [
       "  len  supp dose\n",
       "1  4.2 VC   0.5 \n",
       "2 11.5 VC   0.5 \n",
       "3  7.3 VC   0.5 "
      ]
     },
     "metadata": {},
     "output_type": "display_data"
    }
   ],
   "source": [
    "ToothGrowth[1:3,]"
   ]
  },
  {
   "cell_type": "markdown",
   "metadata": {},
   "source": [
    "On peut également afficher certaines lignes et certaines colonnes."
   ]
  },
  {
   "cell_type": "code",
   "execution_count": 55,
   "metadata": {},
   "outputs": [
    {
     "data": {
      "text/html": [
       "<table>\n",
       "<thead><tr><th></th><th scope=col>len</th><th scope=col>dose</th></tr></thead>\n",
       "<tbody>\n",
       "\t<tr><th scope=row>9</th><td> 5.2</td><td>0.5 </td></tr>\n",
       "\t<tr><th scope=row>10</th><td> 7.0</td><td>0.5 </td></tr>\n",
       "\t<tr><th scope=row>11</th><td>16.5</td><td>1.0 </td></tr>\n",
       "\t<tr><th scope=row>12</th><td>16.5</td><td>1.0 </td></tr>\n",
       "</tbody>\n",
       "</table>\n"
      ],
      "text/latex": [
       "\\begin{tabular}{r|ll}\n",
       "  & len & dose\\\\\n",
       "\\hline\n",
       "\t9 &  5.2 & 0.5 \\\\\n",
       "\t10 &  7.0 & 0.5 \\\\\n",
       "\t11 & 16.5 & 1.0 \\\\\n",
       "\t12 & 16.5 & 1.0 \\\\\n",
       "\\end{tabular}\n"
      ],
      "text/markdown": [
       "\n",
       "| <!--/--> | len | dose |\n",
       "|---|---|---|\n",
       "| 9 |  5.2 | 0.5  |\n",
       "| 10 |  7.0 | 0.5  |\n",
       "| 11 | 16.5 | 1.0  |\n",
       "| 12 | 16.5 | 1.0  |\n",
       "\n"
      ],
      "text/plain": [
       "   len  dose\n",
       "9   5.2 0.5 \n",
       "10  7.0 0.5 \n",
       "11 16.5 1.0 \n",
       "12 16.5 1.0 "
      ]
     },
     "metadata": {},
     "output_type": "display_data"
    }
   ],
   "source": [
    "ToothGrowth[9:12,c(1,3)]"
   ]
  },
  {
   "cell_type": "markdown",
   "metadata": {},
   "source": [
    "Comme pour les colonnes on peut également supprimer des lignes en utilisant le signe moins.\n",
    "En indexant avec un vecteur de type logique, on peut également sélectionner des parties d'un tableau :"
   ]
  },
  {
   "cell_type": "code",
   "execution_count": 56,
   "metadata": {},
   "outputs": [
    {
     "data": {
      "text/html": [
       "<ol class=list-inline>\n",
       "\t<li>4.2</li>\n",
       "\t<li>5.8</li>\n",
       "\t<li>11.2</li>\n",
       "\t<li>7</li>\n",
       "\t<li>15.2</li>\n",
       "\t<li>17.3</li>\n",
       "\t<li>18.8</li>\n",
       "\t<li>18.5</li>\n",
       "\t<li>26.4</li>\n",
       "\t<li>21.5</li>\n",
       "\t<li>15.2</li>\n",
       "\t<li>9.7</li>\n",
       "\t<li>8.2</li>\n",
       "\t<li>9.7</li>\n",
       "\t<li>23.6</li>\n",
       "\t<li>25.2</li>\n",
       "\t<li>14.5</li>\n",
       "\t<li>26.4</li>\n",
       "\t<li>24.8</li>\n",
       "\t<li>27.3</li>\n",
       "</ol>\n"
      ],
      "text/latex": [
       "\\begin{enumerate*}\n",
       "\\item 4.2\n",
       "\\item 5.8\n",
       "\\item 11.2\n",
       "\\item 7\n",
       "\\item 15.2\n",
       "\\item 17.3\n",
       "\\item 18.8\n",
       "\\item 18.5\n",
       "\\item 26.4\n",
       "\\item 21.5\n",
       "\\item 15.2\n",
       "\\item 9.7\n",
       "\\item 8.2\n",
       "\\item 9.7\n",
       "\\item 23.6\n",
       "\\item 25.2\n",
       "\\item 14.5\n",
       "\\item 26.4\n",
       "\\item 24.8\n",
       "\\item 27.3\n",
       "\\end{enumerate*}\n"
      ],
      "text/markdown": [
       "1. 4.2\n",
       "2. 5.8\n",
       "3. 11.2\n",
       "4. 7\n",
       "5. 15.2\n",
       "6. 17.3\n",
       "7. 18.8\n",
       "8. 18.5\n",
       "9. 26.4\n",
       "10. 21.5\n",
       "11. 15.2\n",
       "12. 9.7\n",
       "13. 8.2\n",
       "14. 9.7\n",
       "15. 23.6\n",
       "16. 25.2\n",
       "17. 14.5\n",
       "18. 26.4\n",
       "19. 24.8\n",
       "20. 27.3\n",
       "\n",
       "\n"
      ],
      "text/plain": [
       " [1]  4.2  5.8 11.2  7.0 15.2 17.3 18.8 18.5 26.4 21.5 15.2  9.7  8.2  9.7 23.6\n",
       "[16] 25.2 14.5 26.4 24.8 27.3"
      ]
     },
     "metadata": {},
     "output_type": "display_data"
    }
   ],
   "source": [
    "vec_TFF <- rep(c(TRUE,FALSE,FALSE),times=20)\n",
    "ToothGrowth[vec_TFF,1]"
   ]
  },
  {
   "cell_type": "markdown",
   "metadata": {},
   "source": [
    "Pour connaître le nombre de cochons traités au jus d'orange, on crée d'abord un vecteur logique qui vaut **TRUE** si et seulement si l'élément correspondant de la deuxième colonne (variable **supp**) est égal à **OJ**, et ensuite on calcule la somme de ce vecteur logique qui correspond au nombre de cochons traités au jus d'orange :"
   ]
  },
  {
   "cell_type": "code",
   "execution_count": 57,
   "metadata": {},
   "outputs": [
    {
     "name": "stdout",
     "output_type": "stream",
     "text": [
      " [1] FALSE FALSE FALSE FALSE FALSE FALSE FALSE FALSE FALSE FALSE FALSE FALSE\n",
      "[13] FALSE FALSE FALSE FALSE FALSE FALSE FALSE FALSE FALSE FALSE FALSE FALSE\n",
      "[25] FALSE FALSE FALSE FALSE FALSE FALSE  TRUE  TRUE  TRUE  TRUE  TRUE  TRUE\n",
      "[37]  TRUE  TRUE  TRUE  TRUE  TRUE  TRUE  TRUE  TRUE  TRUE  TRUE  TRUE  TRUE\n",
      "[49]  TRUE  TRUE  TRUE  TRUE  TRUE  TRUE  TRUE  TRUE  TRUE  TRUE  TRUE  TRUE\n"
     ]
    },
    {
     "data": {
      "text/html": [
       "30"
      ],
      "text/latex": [
       "30"
      ],
      "text/markdown": [
       "30"
      ],
      "text/plain": [
       "[1] 30"
      ]
     },
     "metadata": {},
     "output_type": "display_data"
    }
   ],
   "source": [
    "vec_logiq_OJ <- ToothGrowth$supp=='OJ'\n",
    "print(vec_logiq_OJ)\n",
    "sum(vec_logiq_OJ)"
   ]
  },
  {
   "cell_type": "markdown",
   "metadata": {},
   "source": [
    "Afin de rajouter une nouvelle variable à un tableau existant, on fait comme si cette colonne existait et on lui affecte des valeurs :"
   ]
  },
  {
   "cell_type": "code",
   "execution_count": 58,
   "metadata": {},
   "outputs": [
    {
     "data": {
      "text/html": [
       "<table>\n",
       "<thead><tr><th scope=col>len</th><th scope=col>supp</th><th scope=col>dose</th><th scope=col>nouv_var</th></tr></thead>\n",
       "<tbody>\n",
       "\t<tr><td> 4.2 </td><td>VC   </td><td>0.5  </td><td> TRUE</td></tr>\n",
       "\t<tr><td>11.5 </td><td>VC   </td><td>0.5  </td><td>FALSE</td></tr>\n",
       "\t<tr><td> 7.3 </td><td>VC   </td><td>0.5  </td><td>FALSE</td></tr>\n",
       "\t<tr><td> 5.8 </td><td>VC   </td><td>0.5  </td><td> TRUE</td></tr>\n",
       "\t<tr><td> 6.4 </td><td>VC   </td><td>0.5  </td><td>FALSE</td></tr>\n",
       "\t<tr><td>10.0 </td><td>VC   </td><td>0.5  </td><td>FALSE</td></tr>\n",
       "</tbody>\n",
       "</table>\n"
      ],
      "text/latex": [
       "\\begin{tabular}{r|llll}\n",
       " len & supp & dose & nouv\\_var\\\\\n",
       "\\hline\n",
       "\t  4.2  & VC    & 0.5   &  TRUE\\\\\n",
       "\t 11.5  & VC    & 0.5   & FALSE\\\\\n",
       "\t  7.3  & VC    & 0.5   & FALSE\\\\\n",
       "\t  5.8  & VC    & 0.5   &  TRUE\\\\\n",
       "\t  6.4  & VC    & 0.5   & FALSE\\\\\n",
       "\t 10.0  & VC    & 0.5   & FALSE\\\\\n",
       "\\end{tabular}\n"
      ],
      "text/markdown": [
       "\n",
       "| len | supp | dose | nouv_var |\n",
       "|---|---|---|---|\n",
       "|  4.2  | VC    | 0.5   |  TRUE |\n",
       "| 11.5  | VC    | 0.5   | FALSE |\n",
       "|  7.3  | VC    | 0.5   | FALSE |\n",
       "|  5.8  | VC    | 0.5   |  TRUE |\n",
       "|  6.4  | VC    | 0.5   | FALSE |\n",
       "| 10.0  | VC    | 0.5   | FALSE |\n",
       "\n"
      ],
      "text/plain": [
       "  len  supp dose nouv_var\n",
       "1  4.2 VC   0.5   TRUE   \n",
       "2 11.5 VC   0.5  FALSE   \n",
       "3  7.3 VC   0.5  FALSE   \n",
       "4  5.8 VC   0.5   TRUE   \n",
       "5  6.4 VC   0.5  FALSE   \n",
       "6 10.0 VC   0.5  FALSE   "
      ]
     },
     "metadata": {},
     "output_type": "display_data"
    },
    {
     "data": {
      "text/html": [
       "'logical'"
      ],
      "text/latex": [
       "'logical'"
      ],
      "text/markdown": [
       "'logical'"
      ],
      "text/plain": [
       "[1] \"logical\""
      ]
     },
     "metadata": {},
     "output_type": "display_data"
    }
   ],
   "source": [
    "ToothGrowth$nouv_var <- vec_TFF\n",
    "head(ToothGrowth)\n",
    "typeof(ToothGrowth$nouv_var)"
   ]
  },
  {
   "cell_type": "markdown",
   "metadata": {},
   "source": [
    "# Générer des pseudo-variables aléatoires\n",
    "\n",
    "En R il existe des fonctions qui génèrent des réalisations de variables aléatoires d'une loi donnée. Par exemple, la commande suivante génère 10 réalisations de la loi uniforme $U[0,1]$:"
   ]
  },
  {
   "cell_type": "code",
   "execution_count": 59,
   "metadata": {},
   "outputs": [
    {
     "data": {
      "text/html": [
       "<ol class=list-inline>\n",
       "\t<li>0.174622820457444</li>\n",
       "\t<li>0.133863065391779</li>\n",
       "\t<li>0.811748023843393</li>\n",
       "\t<li>0.0462586393114179</li>\n",
       "\t<li>0.270636197878048</li>\n",
       "\t<li>0.258110371651128</li>\n",
       "\t<li>0.723669218830764</li>\n",
       "\t<li>0.455029533943161</li>\n",
       "\t<li>0.0223613930866122</li>\n",
       "\t<li>0.994902662700042</li>\n",
       "</ol>\n"
      ],
      "text/latex": [
       "\\begin{enumerate*}\n",
       "\\item 0.174622820457444\n",
       "\\item 0.133863065391779\n",
       "\\item 0.811748023843393\n",
       "\\item 0.0462586393114179\n",
       "\\item 0.270636197878048\n",
       "\\item 0.258110371651128\n",
       "\\item 0.723669218830764\n",
       "\\item 0.455029533943161\n",
       "\\item 0.0223613930866122\n",
       "\\item 0.994902662700042\n",
       "\\end{enumerate*}\n"
      ],
      "text/markdown": [
       "1. 0.174622820457444\n",
       "2. 0.133863065391779\n",
       "3. 0.811748023843393\n",
       "4. 0.0462586393114179\n",
       "5. 0.270636197878048\n",
       "6. 0.258110371651128\n",
       "7. 0.723669218830764\n",
       "8. 0.455029533943161\n",
       "9. 0.0223613930866122\n",
       "10. 0.994902662700042\n",
       "\n",
       "\n"
      ],
      "text/plain": [
       " [1] 0.17462282 0.13386307 0.81174802 0.04625864 0.27063620 0.25811037\n",
       " [7] 0.72366922 0.45502953 0.02236139 0.99490266"
      ]
     },
     "metadata": {},
     "output_type": "display_data"
    }
   ],
   "source": [
    "runif(10)"
   ]
  },
  {
   "cell_type": "markdown",
   "metadata": {},
   "source": [
    "Exécutez la commande de nouveau et constatez que les valeurs changent ! En fait, la fonction **runif( )** est un générateur de *pseudo-variables aléatoires*. On dit *pseudo*, parce qu'on a l'impression que ce sont des  réalisations d'une vraie variable aléatoire. (C'est tout un champ de recherche de fabriquer des générateurs de pseudo-variables aléatoires (c'est-à-dire des algorithmes) qui imitent au mieux le vrai aléa.)\n",
    "\n",
    "De même, il existe un générateur de (pseudo-)réalisations de la loi normale standard :"
   ]
  },
  {
   "cell_type": "code",
   "execution_count": 60,
   "metadata": {},
   "outputs": [
    {
     "data": {
      "text/html": [
       "<ol class=list-inline>\n",
       "\t<li>-0.506517318989908</li>\n",
       "\t<li>-1.01093011875673</li>\n",
       "\t<li>0.485544139734157</li>\n",
       "\t<li>-0.241901365110802</li>\n",
       "\t<li>0.789604874770958</li>\n",
       "</ol>\n"
      ],
      "text/latex": [
       "\\begin{enumerate*}\n",
       "\\item -0.506517318989908\n",
       "\\item -1.01093011875673\n",
       "\\item 0.485544139734157\n",
       "\\item -0.241901365110802\n",
       "\\item 0.789604874770958\n",
       "\\end{enumerate*}\n"
      ],
      "text/markdown": [
       "1. -0.506517318989908\n",
       "2. -1.01093011875673\n",
       "3. 0.485544139734157\n",
       "4. -0.241901365110802\n",
       "5. 0.789604874770958\n",
       "\n",
       "\n"
      ],
      "text/plain": [
       "[1] -0.5065173 -1.0109301  0.4855441 -0.2419014  0.7896049"
      ]
     },
     "metadata": {},
     "output_type": "display_data"
    }
   ],
   "source": [
    "rnorm(5)"
   ]
  },
  {
   "cell_type": "markdown",
   "metadata": {},
   "source": [
    "Vous avez constaté que l'argument des fonctions **runif** et **rnorm** est le nombre de réalisations souhaité.\n",
    "\n",
    "Pour générer des réalisations de la loi normale $\\mathcal N(\\mu,\\sigma^2)$ de moyenne $\\mu$ et de variance $\\sigma^2$, on utilise toujours la fonction **rnorm( )** avec deux arguments supplémentaires pour indiquer les valeurs souhaitées des paramètres de la loi normale. Notez qu'en R   ce sont les valeurs de la moyenne $\\mu$ et de l'**écart-type** $\\sigma$ (et non de la variance $\\sigma^2$) qu'il faut passer à la fonction **rnorm( )**. Ainsi, on obtient $20$ réalisations de la loi normale $\\mathcal N(-5,2)$ par les instructions :"
   ]
  },
  {
   "cell_type": "code",
   "execution_count": 61,
   "metadata": {},
   "outputs": [
    {
     "data": {
      "text/html": [
       "<ol class=list-inline>\n",
       "\t<li>-6.89142521310589</li>\n",
       "\t<li>-7.63274145042375</li>\n",
       "\t<li>-5.74529438245351</li>\n",
       "\t<li>-2.48858373894136</li>\n",
       "\t<li>-5.19065879665303</li>\n",
       "\t<li>-4.53947921165914</li>\n",
       "\t<li>-4.7237189990857</li>\n",
       "\t<li>-7.50127346020576</li>\n",
       "\t<li>-6.78011712677347</li>\n",
       "\t<li>-3.13925435145185</li>\n",
       "\t<li>-5.03789945650093</li>\n",
       "\t<li>-5.29862824851538</li>\n",
       "\t<li>-4.77644026666016</li>\n",
       "\t<li>-4.25396534327915</li>\n",
       "\t<li>-6.07014707828317</li>\n",
       "\t<li>-5.47111291504958</li>\n",
       "\t<li>-4.54108216380203</li>\n",
       "\t<li>-5.14538960470659</li>\n",
       "\t<li>-5.08687559704358</li>\n",
       "\t<li>-5.80630143788631</li>\n",
       "</ol>\n"
      ],
      "text/latex": [
       "\\begin{enumerate*}\n",
       "\\item -6.89142521310589\n",
       "\\item -7.63274145042375\n",
       "\\item -5.74529438245351\n",
       "\\item -2.48858373894136\n",
       "\\item -5.19065879665303\n",
       "\\item -4.53947921165914\n",
       "\\item -4.7237189990857\n",
       "\\item -7.50127346020576\n",
       "\\item -6.78011712677347\n",
       "\\item -3.13925435145185\n",
       "\\item -5.03789945650093\n",
       "\\item -5.29862824851538\n",
       "\\item -4.77644026666016\n",
       "\\item -4.25396534327915\n",
       "\\item -6.07014707828317\n",
       "\\item -5.47111291504958\n",
       "\\item -4.54108216380203\n",
       "\\item -5.14538960470659\n",
       "\\item -5.08687559704358\n",
       "\\item -5.80630143788631\n",
       "\\end{enumerate*}\n"
      ],
      "text/markdown": [
       "1. -6.89142521310589\n",
       "2. -7.63274145042375\n",
       "3. -5.74529438245351\n",
       "4. -2.48858373894136\n",
       "5. -5.19065879665303\n",
       "6. -4.53947921165914\n",
       "7. -4.7237189990857\n",
       "8. -7.50127346020576\n",
       "9. -6.78011712677347\n",
       "10. -3.13925435145185\n",
       "11. -5.03789945650093\n",
       "12. -5.29862824851538\n",
       "13. -4.77644026666016\n",
       "14. -4.25396534327915\n",
       "15. -6.07014707828317\n",
       "16. -5.47111291504958\n",
       "17. -4.54108216380203\n",
       "18. -5.14538960470659\n",
       "19. -5.08687559704358\n",
       "20. -5.80630143788631\n",
       "\n",
       "\n"
      ],
      "text/plain": [
       " [1] -6.891425 -7.632741 -5.745294 -2.488584 -5.190659 -4.539479 -4.723719\n",
       " [8] -7.501273 -6.780117 -3.139254 -5.037899 -5.298628 -4.776440 -4.253965\n",
       "[15] -6.070147 -5.471113 -4.541082 -5.145390 -5.086876 -5.806301"
      ]
     },
     "metadata": {},
     "output_type": "display_data"
    }
   ],
   "source": [
    "n <- 20\n",
    "mu <- -5\n",
    "sig <- sqrt(2)\n",
    "rnorm(n,mu,sig)"
   ]
  },
  {
   "cell_type": "markdown",
   "metadata": {},
   "source": [
    "# Exercices\n",
    "\n",
    "\n",
    "Pour les exercices, il est préférable d'écrire toutes vos commandes dans un script R. Pour le faire proprement, il y a quelques petites démarches préparatives à faire.\n",
    "\n",
    "- Tout d'abord,  créez un nouveau dossier (nommé, par exemple, *TPstatistique*) dans lequel vous allez enregistrer tous les fichiers associés à ce cours. \n",
    "- Ensuite, changez le  répertoire de travail pour ce nouveau dossier. Pour cela, cliquez dans RStudio sur *Session* $\\rightarrow$ *Set Working Directory*  $\\rightarrow$ *Choose Directory* et puis sélectionnez votre dossier  *TPstatistique*.\n",
    "- Ouvrez un nouveau script: *File* $\\rightarrow$ *New File* $\\rightarrow$ *R Script*\n",
    "- Ecrivez en première ligne du script un commentaire du genre *'# Exercice 3 du TP 1'*. Rappel: tout commentaire commence par le symbole #, et c'est du texte qui ne sera pas interprété par R lors de l'exécution de cette ligne.\n",
    "- Enfin, cliquez sur le bouton dans la barre à outils pour enregistrer le script dans votre dossier *TPstatistique*. Choisissez un nom de fichier à peu près intelligent, comme p. ex. *exo_TP_1*.\n",
    "\n",
    "\n",
    "\n",
    "## Exercice 1\n",
    "Pour  les données des cathédrales :\n",
    "- Combien de cathédrales sont de style roman ?\n",
    "- Affichez les noms de toutes les cathédrales romanes.\n",
    "- Les dimensions des cathédrales dans le tableau sont renseignées en pied. Sachant qu'un pied correspond à 0,3048 mètres, transformez les dimensions en mètres.\n",
    "- Quelle est la longueur moyenne des cathédrales ? Et la longueur moyenne des cathédrales romanes ?\n",
    "- Affichez toutes les cathédrales dont la nef est plus haute que 22 mètres.\n",
    "- Ajoutez au tableau une colonne avec le rapport longueur/hauteur.\n",
    "- Appliquez la fonction **summary** au tableau et observez la sortie.\n",
    "\n"
   ]
  },
  {
   "cell_type": "markdown",
   "metadata": {},
   "source": [
    "## Exercice 2\n",
    "\n",
    "La moyenne empirique est un estimateur de la moyenne. Vérifions empiriquement la qualité de cet estimateur par des simulations.\n",
    "\n",
    "- Considérons la loi normale $\\mathcal N(10,1)$. Générez un échantillon de taille 20 et calculez la moyenne empirique et la variance empirique associées. Comparez le résultat à la moyenne et à la variance théoriques. Répétez plusieurs fois les mêmes instructions afin de vérifier si la valeur de la moyenne empirique est à peu près stable sur des échantillons différents.\n",
    "- Faites la même chose pour la loi normale $\\mathcal N(10,10)$ et des échantillons de taille $20$. Qu'observez vous ?\n",
    "\n",
    "\n"
   ]
  },
  {
   "cell_type": "markdown",
   "metadata": {},
   "source": [
    "## Exercice 3\n",
    "Soient $X_1,X_2,\\dots$ des variables aléatoires indépendantes de loi normale standard. Posons $Y_k = \\sum_{i=1}^kX_i^2$.\n",
    "Souvenez-vous que la loi de $Y_k$ est la loi du khi-deux $\\chi^2_k$ à $k$ degrés de liberté.\n",
    "\n",
    "D'après le théorème central limite, on a\n",
    "$$\\sqrt{\\frac k2}\\left(\\frac1k \\sum_{i=1}^kX_i^2 -1\\right)=\n",
    "\\frac1{\\sqrt{ 2k}} (Y_k-k) \\stackrel{\\mathcal L}{\\longrightarrow}\\mathcal N(0,1),\\qquad k\\to\\infty.$$\n",
    "On en déduit que la loi de $Y_k$ est approximativement la loi normale $\\mathcal N(k,2k)$ pour $k$ suffisamment grand :\n",
    "$$\\chi^2_k\\approx\\mathcal N(k,2k).$$\n",
    "\n",
    " Le but de cet exercice est de vérifier empiriquement à partir de quelle valeur de $k$ cette approximation est bonne. Plus précisément, nous allons comparer la moyenne et la variance de la loi de $Y_k$ aux valeurs théoriques correspondantes de la loi normale  $\\mathcal N(k,2k)$. \n",
    "\n",
    "En R on génère $n$ réalisations de la loi du khi-deux $\\chi^2_d$ à $d$ degrés de liberté par la commande **rchisq(n,d)**.\n",
    "\n",
    "- Pour chaque $k$ dans $\\{1, 10, 100,1000\\},$ générez un échantillon de taille $1000$ de la loi $\\chi^2_k$, et comparez la moyenne empirique associée  à la  moyenne de la loi normale $\\mathcal N(k,2k)$. Commentez.\n",
    "- Même question pour la variance empirique $s_{\\mathbf x}^2$:  pour chaque $k$ dans $\\{1, 10, 100,1000\\},$ générez un échantillon de taille $1000$ de la loi $\\chi^2_k$, et comparez la variance empirique associée  à la variance de la loi normale $\\mathcal N(k,2k)$. Commentez.\n",
    "- Ajoutez un commentaire dans votre script avec un résumé de vos conclusions.\n"
   ]
  },
  {
   "cell_type": "code",
   "execution_count": null,
   "metadata": {},
   "outputs": [],
   "source": []
  }
 ],
 "metadata": {
  "kernelspec": {
   "display_name": "R",
   "language": "R",
   "name": "ir"
  },
  "language_info": {
   "codemirror_mode": "r",
   "file_extension": ".r",
   "mimetype": "text/x-r-source",
   "name": "R",
   "pygments_lexer": "r",
   "version": "3.6.1"
  }
 },
 "nbformat": 4,
 "nbformat_minor": 1
}
